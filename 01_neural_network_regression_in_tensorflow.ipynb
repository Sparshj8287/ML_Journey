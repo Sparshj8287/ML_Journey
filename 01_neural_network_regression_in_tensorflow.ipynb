{
  "nbformat": 4,
  "nbformat_minor": 0,
  "metadata": {
    "colab": {
      "provenance": [],
      "authorship_tag": "ABX9TyNY0ow1zMlyVdV1Vp1sIXT2",
      "include_colab_link": true
    },
    "kernelspec": {
      "name": "python3",
      "display_name": "Python 3"
    },
    "language_info": {
      "name": "python"
    }
  },
  "cells": [
    {
      "cell_type": "markdown",
      "metadata": {
        "id": "view-in-github",
        "colab_type": "text"
      },
      "source": [
        "<a href=\"https://colab.research.google.com/github/Sparshj8287/ML_Journey/blob/main/01_neural_network_regression_in_tensorflow.ipynb\" target=\"_parent\"><img src=\"https://colab.research.google.com/assets/colab-badge.svg\" alt=\"Open In Colab\"/></a>"
      ]
    },
    {
      "cell_type": "markdown",
      "source": [
        "#Neural Network Regression with TensorFlow\n"
      ],
      "metadata": {
        "id": "TLzrPdmITdQB"
      }
    },
    {
      "cell_type": "code",
      "source": [
        "import tensorflow as tf\n",
        "print(tf.__version__)\n"
      ],
      "metadata": {
        "colab": {
          "base_uri": "https://localhost:8080/"
        },
        "id": "IVRSWcT4UDsJ",
        "outputId": "c83c4686-ec92-4b46-d03b-b22fb8604b3f"
      },
      "execution_count": null,
      "outputs": [
        {
          "output_type": "stream",
          "name": "stdout",
          "text": [
            "2.8.2\n"
          ]
        }
      ]
    },
    {
      "cell_type": "code",
      "source": [
        "import numpy as np\n",
        "import matplotlib.pyplot as plt\n",
        "\n",
        "# Create features\n",
        "X = np.array([-7.0, -4.0, -1.0, 2.0, 5.0, 8.0, 11.0, 14.0])\n",
        "\n",
        "# Create labels\n",
        "y = np.array([3.0, 6.0, 9.0, 12.0, 15.0, 18.0, 21.0, 24.0])\n",
        "\n",
        "# Visualize it\n",
        "plt.scatter(X, y);"
      ],
      "metadata": {
        "colab": {
          "base_uri": "https://localhost:8080/",
          "height": 269
        },
        "id": "RwuuaYbLUyQB",
        "outputId": "d96a022f-f774-479d-bd12-c8c8bd89fe68"
      },
      "execution_count": null,
      "outputs": [
        {
          "output_type": "display_data",
          "data": {
            "text/plain": [
              "<Figure size 432x288 with 1 Axes>"
            ],
            "image/png": "[encoded data removed]"
          },
          "metadata": {
            "needs_background": "light"
          }
        }
      ]
    },
    {
      "cell_type": "code",
      "source": [
        "y==X+10"
      ],
      "metadata": {
        "colab": {
          "base_uri": "https://localhost:8080/"
        },
        "id": "0UIyzYCKVPTq",
        "outputId": "71c6dd9d-5f94-41cc-d950-d3a597f6950c"
      },
      "execution_count": null,
      "outputs": [
        {
          "output_type": "execute_result",
          "data": {
            "text/plain": [
              "array([ True,  True,  True,  True,  True,  True,  True,  True])"
            ]
          },
          "metadata": {},
          "execution_count": 3
        }
      ]
    },
    {
      "cell_type": "markdown",
      "source": [
        "##Input and output shapes"
      ],
      "metadata": {
        "id": "z-i-O6vOVRz4"
      }
    },
    {
      "cell_type": "code",
      "source": [
        "# Take a single example of X\n",
        "input_shape = X[0].shape \n",
        "\n",
        "# Take a single example of y\n",
        "output_shape = y[0].shape\n",
        "\n",
        "input_shape, output_shape # these are both scalars (no shape)"
      ],
      "metadata": {
        "colab": {
          "base_uri": "https://localhost:8080/"
        },
        "id": "mumoJbcUVe-t",
        "outputId": "ef1d0e46-3ed6-414d-f483-5efd26c231d3"
      },
      "execution_count": null,
      "outputs": [
        {
          "output_type": "execute_result",
          "data": {
            "text/plain": [
              "((), ())"
            ]
          },
          "metadata": {},
          "execution_count": 4
        }
      ]
    },
    {
      "cell_type": "code",
      "source": [
        "#Turn numpy array into tensors\n",
        "X=tf.constant(X)\n",
        "y=tf.constant(y)\n",
        "X,y\n"
      ],
      "metadata": {
        "colab": {
          "base_uri": "https://localhost:8080/"
        },
        "id": "f7BOZ7zR_PYc",
        "outputId": "537b6342-577d-479e-ffd9-645b6fe9dd87"
      },
      "execution_count": null,
      "outputs": [
        {
          "output_type": "execute_result",
          "data": {
            "text/plain": [
              "(<tf.Tensor: shape=(8,), dtype=float64, numpy=array([-7., -4., -1.,  2.,  5.,  8., 11., 14.])>,\n",
              " <tf.Tensor: shape=(8,), dtype=float64, numpy=array([ 3.,  6.,  9., 12., 15., 18., 21., 24.])>)"
            ]
          },
          "metadata": {},
          "execution_count": 5
        }
      ]
    },
    {
      "cell_type": "code",
      "source": [
        "# Set random seed\n",
        "tf.random.set_seed(42)\n",
        "\n",
        "# Create a model using the Sequential API\n",
        "model = tf.keras.Sequential([\n",
        "  tf.keras.layers.Dense(1)\n",
        "])\n",
        "\n",
        "# Compile the model\n",
        "model.compile(loss=tf.keras.losses.mae, # mae is short for mean absolute error\n",
        "              optimizer=tf.keras.optimizers.SGD(), # SGD is short for stochastic gradient descent\n",
        "              metrics=[\"mae\"])\n",
        "\n",
        "# Fit the model\n",
        "# model.fit(X, y, epochs=5) # this will break with TensorFlow 2.7.0+\n",
        "model.fit(tf.expand_dims(X, axis=-1), y, epochs=9)"
      ],
      "metadata": {
        "colab": {
          "base_uri": "https://localhost:8080/"
        },
        "id": "w3sDD1-l_dg5",
        "outputId": "bba898c9-d51b-499d-b897-a072b8e91888"
      },
      "execution_count": null,
      "outputs": [
        {
          "output_type": "stream",
          "name": "stdout",
          "text": [
            "Epoch 1/9\n",
            "1/1 [==============================] - 1s 694ms/step - loss: 11.5048 - mae: 11.5048\n",
            "Epoch 2/9\n",
            "1/1 [==============================] - 0s 8ms/step - loss: 11.3723 - mae: 11.3723\n",
            "Epoch 3/9\n",
            "1/1 [==============================] - 0s 10ms/step - loss: 11.2398 - mae: 11.2398\n",
            "Epoch 4/9\n",
            "1/1 [==============================] - 0s 12ms/step - loss: 11.1073 - mae: 11.1073\n",
            "Epoch 5/9\n",
            "1/1 [==============================] - 0s 12ms/step - loss: 10.9748 - mae: 10.9748\n",
            "Epoch 6/9\n",
            "1/1 [==============================] - 0s 13ms/step - loss: 10.8423 - mae: 10.8423\n",
            "Epoch 7/9\n",
            "1/1 [==============================] - 0s 9ms/step - loss: 10.7098 - mae: 10.7098\n",
            "Epoch 8/9\n",
            "1/1 [==============================] - 0s 12ms/step - loss: 10.5773 - mae: 10.5773\n",
            "Epoch 9/9\n",
            "1/1 [==============================] - 0s 7ms/step - loss: 10.4448 - mae: 10.4448\n"
          ]
        },
        {
          "output_type": "execute_result",
          "data": {
            "text/plain": [
              "<keras.callbacks.History at 0x7f079d435490>"
            ]
          },
          "metadata": {},
          "execution_count": 6
        }
      ]
    },
    {
      "cell_type": "code",
      "source": [
        "model.predict([17.0])"
      ],
      "metadata": {
        "colab": {
          "base_uri": "https://localhost:8080/"
        },
        "id": "AWmPLGP3o4ag",
        "outputId": "41c4e1f4-719e-4baa-c0aa-42408b1007b8"
      },
      "execution_count": null,
      "outputs": [
        {
          "output_type": "execute_result",
          "data": {
            "text/plain": [
              "array([[15.136023]], dtype=float32)"
            ]
          },
          "metadata": {},
          "execution_count": 7
        }
      ]
    },
    {
      "cell_type": "code",
      "source": [
        "# Rebuild a model \n",
        "model = tf.keras.Sequential([\n",
        "  tf.keras.layers.Dense(1),\n",
        "  tf.keras.layers.Dense(100,activation=\"relu\")\n",
        "])\n",
        "\n",
        "# Compile the model\n",
        "model.compile(loss=tf.keras.losses.mae, # mae is short for mean absolute error\n",
        "              optimizer=tf.keras.optimizers.Adam(lr=0.001), # SGD is short for stochastic gradient descent\n",
        "              metrics=[\"mae\"])\n",
        "\n",
        "# Fit the model\n",
        "# model.fit(X, y, epochs=5) # this will break with TensorFlow 2.7.0+\n",
        "model.fit(tf.expand_dims(X, axis=-1), y, epochs=10)"
      ],
      "metadata": {
        "colab": {
          "base_uri": "https://localhost:8080/"
        },
        "id": "H8cKRX1xzBWc",
        "outputId": "460e71bd-12f4-4ee5-e5bc-a4c62d4eec0a"
      },
      "execution_count": null,
      "outputs": [
        {
          "output_type": "stream",
          "name": "stdout",
          "text": [
            "Epoch 1/10\n"
          ]
        },
        {
          "output_type": "stream",
          "name": "stderr",
          "text": [
            "/usr/local/lib/python3.7/dist-packages/keras/optimizer_v2/adam.py:105: UserWarning: The `lr` argument is deprecated, use `learning_rate` instead.\n",
            "  super(Adam, self).__init__(name, **kwargs)\n"
          ]
        },
        {
          "output_type": "stream",
          "name": "stdout",
          "text": [
            "1/1 [==============================] - 0s 430ms/step - loss: 13.2421 - mae: 13.2421\n",
            "Epoch 2/10\n",
            "1/1 [==============================] - 0s 5ms/step - loss: 13.2390 - mae: 13.2390\n",
            "Epoch 3/10\n",
            "1/1 [==============================] - 0s 7ms/step - loss: 13.2360 - mae: 13.2360\n",
            "Epoch 4/10\n",
            "1/1 [==============================] - 0s 6ms/step - loss: 13.2329 - mae: 13.2329\n",
            "Epoch 5/10\n",
            "1/1 [==============================] - 0s 6ms/step - loss: 13.2298 - mae: 13.2298\n",
            "Epoch 6/10\n",
            "1/1 [==============================] - 0s 6ms/step - loss: 13.2267 - mae: 13.2267\n",
            "Epoch 7/10\n",
            "1/1 [==============================] - 0s 14ms/step - loss: 13.2236 - mae: 13.2236\n",
            "Epoch 8/10\n",
            "1/1 [==============================] - 0s 6ms/step - loss: 13.2205 - mae: 13.2205\n",
            "Epoch 9/10\n",
            "1/1 [==============================] - 0s 5ms/step - loss: 13.2174 - mae: 13.2174\n",
            "Epoch 10/10\n",
            "1/1 [==============================] - 0s 6ms/step - loss: 13.2143 - mae: 13.2143\n"
          ]
        },
        {
          "output_type": "execute_result",
          "data": {
            "text/plain": [
              "<keras.callbacks.History at 0x7f079bb2c310>"
            ]
          },
          "metadata": {},
          "execution_count": 8
        }
      ]
    },
    {
      "cell_type": "code",
      "source": [
        "#Let see our model prediction has improved....\n",
        "model.predict([17.0])"
      ],
      "metadata": {
        "colab": {
          "base_uri": "https://localhost:8080/"
        },
        "id": "EC4PSU4EgNnz",
        "outputId": "21956a4b-f7b8-404f-df3f-c6cd962474af"
      },
      "execution_count": null,
      "outputs": [
        {
          "output_type": "execute_result",
          "data": {
            "text/plain": [
              "array([[1.4456155 , 0.8271602 , 0.        , 0.        , 0.18081929,\n",
              "        0.        , 0.        , 0.        , 0.        , 0.        ,\n",
              "        1.1838437 , 0.        , 2.493413  , 0.        , 1.2246503 ,\n",
              "        0.        , 2.0938737 , 2.4760432 , 0.        , 1.5951964 ,\n",
              "        0.6715564 , 0.        , 2.2154577 , 0.        , 0.        ,\n",
              "        2.2624447 , 1.7050949 , 0.        , 0.        , 0.        ,\n",
              "        0.        , 0.        , 0.        , 2.5647712 , 1.6351671 ,\n",
              "        2.558708  , 0.        , 0.        , 0.97121346, 0.48271888,\n",
              "        0.        , 0.        , 0.        , 0.        , 0.90948975,\n",
              "        0.        , 1.157558  , 0.        , 0.        , 0.        ,\n",
              "        1.2861323 , 1.3447688 , 0.        , 0.        , 1.7746525 ,\n",
              "        2.7084756 , 1.2435553 , 0.        , 0.3917525 , 0.        ,\n",
              "        0.        , 0.        , 0.        , 2.1641042 , 0.46831977,\n",
              "        0.        , 1.136497  , 0.        , 1.2771223 , 1.2397089 ,\n",
              "        1.308254  , 1.9729311 , 2.8138752 , 2.5358305 , 0.        ,\n",
              "        1.2975913 , 0.33867836, 0.2480478 , 0.        , 2.6957812 ,\n",
              "        2.8032615 , 0.        , 2.5837643 , 0.6194474 , 0.34245402,\n",
              "        0.        , 0.        , 0.20160797, 1.1883618 , 0.        ,\n",
              "        0.17803682, 2.4207733 , 0.        , 0.        , 0.        ,\n",
              "        2.3971267 , 2.17481   , 0.        , 0.99754745, 1.7731692 ]],\n",
              "      dtype=float32)"
            ]
          },
          "metadata": {},
          "execution_count": 9
        }
      ]
    },
    {
      "cell_type": "code",
      "source": [
        "#let again rebuild a model\n",
        "model=tf.keras.Sequential([\n",
        "    tf.keras.layers.Dense(100,activation=None),\n",
        "    tf.keras.layers.Dense(1)\n",
        "])\n",
        "#Complining a model\n",
        "model.compile(loss=tf.keras.losses.mae,\n",
        "              optimizer=tf.keras.optimizers.Adam(lr=0.01), # SGD is short for stochastic gradient descent\n",
        "              metrics=[\"mae\"])\n",
        "#Fitting the model\n",
        "model.fit(tf.expand_dims(X, axis=-1),y,epochs=98)"
      ],
      "metadata": {
        "colab": {
          "base_uri": "https://localhost:8080/"
        },
        "id": "jJgITTb4gTb-",
        "outputId": "d58aafc4-e493-4924-c5e5-cfa7fe6c129c"
      },
      "execution_count": null,
      "outputs": [
        {
          "output_type": "stream",
          "name": "stdout",
          "text": [
            "Epoch 1/98\n",
            "1/1 [==============================] - 0s 358ms/step - loss: 13.6754 - mae: 13.6754\n",
            "Epoch 2/98\n",
            "1/1 [==============================] - 0s 11ms/step - loss: 12.7455 - mae: 12.7455\n",
            "Epoch 3/98\n",
            "1/1 [==============================] - 0s 11ms/step - loss: 11.8183 - mae: 11.8183\n",
            "Epoch 4/98\n",
            "1/1 [==============================] - 0s 12ms/step - loss: 10.8885 - mae: 10.8885\n",
            "Epoch 5/98\n",
            "1/1 [==============================] - 0s 13ms/step - loss: 9.9491 - mae: 9.9491\n",
            "Epoch 6/98\n",
            "1/1 [==============================] - 0s 19ms/step - loss: 8.9930 - mae: 8.9930\n",
            "Epoch 7/98\n",
            "1/1 [==============================] - 0s 9ms/step - loss: 8.0130 - mae: 8.0130\n",
            "Epoch 8/98\n",
            "1/1 [==============================] - 0s 12ms/step - loss: 7.0026 - mae: 7.0026\n",
            "Epoch 9/98\n",
            "1/1 [==============================] - 0s 11ms/step - loss: 6.7395 - mae: 6.7395\n",
            "Epoch 10/98\n",
            "1/1 [==============================] - 0s 8ms/step - loss: 7.1571 - mae: 7.1571\n",
            "Epoch 11/98\n",
            "1/1 [==============================] - 0s 11ms/step - loss: 7.5285 - mae: 7.5285\n",
            "Epoch 12/98\n",
            "1/1 [==============================] - 0s 8ms/step - loss: 7.6541 - mae: 7.6541\n",
            "Epoch 13/98\n",
            "1/1 [==============================] - 0s 6ms/step - loss: 7.5009 - mae: 7.5009\n",
            "Epoch 14/98\n",
            "1/1 [==============================] - 0s 7ms/step - loss: 7.1482 - mae: 7.1482\n",
            "Epoch 15/98\n",
            "1/1 [==============================] - 0s 6ms/step - loss: 6.7610 - mae: 6.7610\n",
            "Epoch 16/98\n",
            "1/1 [==============================] - 0s 7ms/step - loss: 6.4263 - mae: 6.4263\n",
            "Epoch 17/98\n",
            "1/1 [==============================] - 0s 7ms/step - loss: 6.0759 - mae: 6.0759\n",
            "Epoch 18/98\n",
            "1/1 [==============================] - 0s 8ms/step - loss: 6.0004 - mae: 6.0004\n",
            "Epoch 19/98\n",
            "1/1 [==============================] - 0s 7ms/step - loss: 6.1145 - mae: 6.1145\n",
            "Epoch 20/98\n",
            "1/1 [==============================] - 0s 7ms/step - loss: 6.2379 - mae: 6.2379\n",
            "Epoch 21/98\n",
            "1/1 [==============================] - 0s 6ms/step - loss: 6.2179 - mae: 6.2179\n",
            "Epoch 22/98\n",
            "1/1 [==============================] - 0s 14ms/step - loss: 6.0750 - mae: 6.0750\n",
            "Epoch 23/98\n",
            "1/1 [==============================] - 0s 14ms/step - loss: 5.8231 - mae: 5.8231\n",
            "Epoch 24/98\n",
            "1/1 [==============================] - 0s 7ms/step - loss: 5.4718 - mae: 5.4718\n",
            "Epoch 25/98\n",
            "1/1 [==============================] - 0s 6ms/step - loss: 5.2684 - mae: 5.2684\n",
            "Epoch 26/98\n",
            "1/1 [==============================] - 0s 8ms/step - loss: 5.1561 - mae: 5.1561\n",
            "Epoch 27/98\n",
            "1/1 [==============================] - 0s 6ms/step - loss: 5.1697 - mae: 5.1697\n",
            "Epoch 28/98\n",
            "1/1 [==============================] - 0s 6ms/step - loss: 5.1260 - mae: 5.1260\n",
            "Epoch 29/98\n",
            "1/1 [==============================] - 0s 7ms/step - loss: 5.0286 - mae: 5.0286\n",
            "Epoch 30/98\n",
            "1/1 [==============================] - 0s 7ms/step - loss: 4.8810 - mae: 4.8810\n",
            "Epoch 31/98\n",
            "1/1 [==============================] - 0s 7ms/step - loss: 4.6866 - mae: 4.6866\n",
            "Epoch 32/98\n",
            "1/1 [==============================] - 0s 6ms/step - loss: 4.4484 - mae: 4.4484\n",
            "Epoch 33/98\n",
            "1/1 [==============================] - 0s 10ms/step - loss: 4.1693 - mae: 4.1693\n",
            "Epoch 34/98\n",
            "1/1 [==============================] - 0s 13ms/step - loss: 3.9887 - mae: 3.9887\n",
            "Epoch 35/98\n",
            "1/1 [==============================] - 0s 9ms/step - loss: 3.8695 - mae: 3.8695\n",
            "Epoch 36/98\n",
            "1/1 [==============================] - 0s 7ms/step - loss: 3.7642 - mae: 3.7642\n",
            "Epoch 37/98\n",
            "1/1 [==============================] - 0s 8ms/step - loss: 3.4988 - mae: 3.4988\n",
            "Epoch 38/98\n",
            "1/1 [==============================] - 0s 11ms/step - loss: 3.2196 - mae: 3.2196\n",
            "Epoch 39/98\n",
            "1/1 [==============================] - 0s 7ms/step - loss: 3.0113 - mae: 3.0113\n",
            "Epoch 40/98\n",
            "1/1 [==============================] - 0s 8ms/step - loss: 2.8522 - mae: 2.8522\n",
            "Epoch 41/98\n",
            "1/1 [==============================] - 0s 6ms/step - loss: 2.6216 - mae: 2.6216\n",
            "Epoch 42/98\n",
            "1/1 [==============================] - 0s 7ms/step - loss: 2.3203 - mae: 2.3203\n",
            "Epoch 43/98\n",
            "1/1 [==============================] - 0s 7ms/step - loss: 1.9595 - mae: 1.9595\n",
            "Epoch 44/98\n",
            "1/1 [==============================] - 0s 11ms/step - loss: 1.6820 - mae: 1.6820\n",
            "Epoch 45/98\n",
            "1/1 [==============================] - 0s 10ms/step - loss: 1.4843 - mae: 1.4843\n",
            "Epoch 46/98\n",
            "1/1 [==============================] - 0s 8ms/step - loss: 1.0829 - mae: 1.0829\n",
            "Epoch 47/98\n",
            "1/1 [==============================] - 0s 7ms/step - loss: 0.7895 - mae: 0.7895\n",
            "Epoch 48/98\n",
            "1/1 [==============================] - 0s 9ms/step - loss: 0.5342 - mae: 0.5342\n",
            "Epoch 49/98\n",
            "1/1 [==============================] - 0s 7ms/step - loss: 0.0614 - mae: 0.0614\n",
            "Epoch 50/98\n",
            "1/1 [==============================] - 0s 14ms/step - loss: 0.3495 - mae: 0.3495\n",
            "Epoch 51/98\n",
            "1/1 [==============================] - 0s 13ms/step - loss: 0.5777 - mae: 0.5777\n",
            "Epoch 52/98\n",
            "1/1 [==============================] - 0s 13ms/step - loss: 0.7193 - mae: 0.7193\n",
            "Epoch 53/98\n",
            "1/1 [==============================] - 0s 11ms/step - loss: 0.7353 - mae: 0.7353\n",
            "Epoch 54/98\n",
            "1/1 [==============================] - 0s 7ms/step - loss: 0.7461 - mae: 0.7461\n",
            "Epoch 55/98\n",
            "1/1 [==============================] - 0s 9ms/step - loss: 0.7151 - mae: 0.7151\n",
            "Epoch 56/98\n",
            "1/1 [==============================] - 0s 13ms/step - loss: 0.6380 - mae: 0.6380\n",
            "Epoch 57/98\n",
            "1/1 [==============================] - 0s 10ms/step - loss: 0.5726 - mae: 0.5726\n",
            "Epoch 58/98\n",
            "1/1 [==============================] - 0s 9ms/step - loss: 0.2835 - mae: 0.2835\n",
            "Epoch 59/98\n",
            "1/1 [==============================] - 0s 12ms/step - loss: 0.3406 - mae: 0.3406\n",
            "Epoch 60/98\n",
            "1/1 [==============================] - 0s 9ms/step - loss: 0.2535 - mae: 0.2535\n",
            "Epoch 61/98\n",
            "1/1 [==============================] - 0s 6ms/step - loss: 0.3831 - mae: 0.3831\n",
            "Epoch 62/98\n",
            "1/1 [==============================] - 0s 8ms/step - loss: 0.5514 - mae: 0.5514\n",
            "Epoch 63/98\n",
            "1/1 [==============================] - 0s 10ms/step - loss: 0.4896 - mae: 0.4896\n",
            "Epoch 64/98\n",
            "1/1 [==============================] - 0s 14ms/step - loss: 0.2861 - mae: 0.2861\n",
            "Epoch 65/98\n",
            "1/1 [==============================] - 0s 15ms/step - loss: 0.3634 - mae: 0.3634\n",
            "Epoch 66/98\n",
            "1/1 [==============================] - 0s 10ms/step - loss: 0.1546 - mae: 0.1546\n",
            "Epoch 67/98\n",
            "1/1 [==============================] - 0s 7ms/step - loss: 0.3461 - mae: 0.3461\n",
            "Epoch 68/98\n",
            "1/1 [==============================] - 0s 9ms/step - loss: 0.3726 - mae: 0.3726\n",
            "Epoch 69/98\n",
            "1/1 [==============================] - 0s 9ms/step - loss: 0.2131 - mae: 0.2131\n",
            "Epoch 70/98\n",
            "1/1 [==============================] - 0s 7ms/step - loss: 0.3030 - mae: 0.3030\n",
            "Epoch 71/98\n",
            "1/1 [==============================] - 0s 6ms/step - loss: 0.1828 - mae: 0.1828\n",
            "Epoch 72/98\n",
            "1/1 [==============================] - 0s 8ms/step - loss: 0.2484 - mae: 0.2484\n",
            "Epoch 73/98\n",
            "1/1 [==============================] - 0s 8ms/step - loss: 0.0446 - mae: 0.0446\n",
            "Epoch 74/98\n",
            "1/1 [==============================] - 0s 6ms/step - loss: 0.4656 - mae: 0.4656\n",
            "Epoch 75/98\n",
            "1/1 [==============================] - 0s 6ms/step - loss: 0.5464 - mae: 0.5464\n",
            "Epoch 76/98\n",
            "1/1 [==============================] - 0s 6ms/step - loss: 0.3109 - mae: 0.3109\n",
            "Epoch 77/98\n",
            "1/1 [==============================] - 0s 7ms/step - loss: 0.4384 - mae: 0.4384\n",
            "Epoch 78/98\n",
            "1/1 [==============================] - 0s 7ms/step - loss: 0.5620 - mae: 0.5620\n",
            "Epoch 79/98\n",
            "1/1 [==============================] - 0s 7ms/step - loss: 0.4530 - mae: 0.4530\n",
            "Epoch 80/98\n",
            "1/1 [==============================] - 0s 7ms/step - loss: 0.1389 - mae: 0.1389\n",
            "Epoch 81/98\n",
            "1/1 [==============================] - 0s 7ms/step - loss: 0.5567 - mae: 0.5567\n",
            "Epoch 82/98\n",
            "1/1 [==============================] - 0s 7ms/step - loss: 0.7285 - mae: 0.7285\n",
            "Epoch 83/98\n",
            "1/1 [==============================] - 0s 7ms/step - loss: 0.5570 - mae: 0.5570\n",
            "Epoch 84/98\n",
            "1/1 [==============================] - 0s 7ms/step - loss: 0.2585 - mae: 0.2585\n",
            "Epoch 85/98\n",
            "1/1 [==============================] - 0s 7ms/step - loss: 0.6266 - mae: 0.6266\n",
            "Epoch 86/98\n",
            "1/1 [==============================] - 0s 8ms/step - loss: 0.8596 - mae: 0.8596\n",
            "Epoch 87/98\n",
            "1/1 [==============================] - 0s 9ms/step - loss: 0.7394 - mae: 0.7394\n",
            "Epoch 88/98\n",
            "1/1 [==============================] - 0s 7ms/step - loss: 0.3185 - mae: 0.3185\n",
            "Epoch 89/98\n",
            "1/1 [==============================] - 0s 7ms/step - loss: 0.3851 - mae: 0.3851\n",
            "Epoch 90/98\n",
            "1/1 [==============================] - 0s 7ms/step - loss: 0.6462 - mae: 0.6462\n",
            "Epoch 91/98\n",
            "1/1 [==============================] - 0s 7ms/step - loss: 0.5833 - mae: 0.5833\n",
            "Epoch 92/98\n",
            "1/1 [==============================] - 0s 8ms/step - loss: 0.2284 - mae: 0.2284\n",
            "Epoch 93/98\n",
            "1/1 [==============================] - 0s 7ms/step - loss: 0.4030 - mae: 0.4030\n",
            "Epoch 94/98\n",
            "1/1 [==============================] - 0s 7ms/step - loss: 0.6674 - mae: 0.6674\n",
            "Epoch 95/98\n",
            "1/1 [==============================] - 0s 7ms/step - loss: 0.6164 - mae: 0.6164\n",
            "Epoch 96/98\n",
            "1/1 [==============================] - 0s 7ms/step - loss: 0.2850 - mae: 0.2850\n",
            "Epoch 97/98\n",
            "1/1 [==============================] - 0s 7ms/step - loss: 0.2913 - mae: 0.2913\n",
            "Epoch 98/98\n",
            "1/1 [==============================] - 0s 7ms/step - loss: 0.4909 - mae: 0.4909\n"
          ]
        },
        {
          "output_type": "execute_result",
          "data": {
            "text/plain": [
              "<keras.callbacks.History at 0x7f079cd72a50>"
            ]
          },
          "metadata": {},
          "execution_count": 10
        }
      ]
    },
    {
      "cell_type": "code",
      "source": [
        "model.predict([17.0])"
      ],
      "metadata": {
        "colab": {
          "base_uri": "https://localhost:8080/"
        },
        "id": "xaxH2hdSny6C",
        "outputId": "3217d35a-86a8-421b-c04f-30514fd73516"
      },
      "execution_count": null,
      "outputs": [
        {
          "output_type": "execute_result",
          "data": {
            "text/plain": [
              "array([[28.027367]], dtype=float32)"
            ]
          },
          "metadata": {},
          "execution_count": 11
        }
      ]
    },
    {
      "cell_type": "code",
      "source": [
        "#Make a biggest data set\n",
        "X=tf.range(-100,100,4)\n",
        "X"
      ],
      "metadata": {
        "colab": {
          "base_uri": "https://localhost:8080/"
        },
        "id": "9bZMcOwMoYiQ",
        "outputId": "a8d25342-fca7-4dce-cca9-be518461c210"
      },
      "execution_count": null,
      "outputs": [
        {
          "output_type": "execute_result",
          "data": {
            "text/plain": [
              "<tf.Tensor: shape=(50,), dtype=int32, numpy=\n",
              "array([-100,  -96,  -92,  -88,  -84,  -80,  -76,  -72,  -68,  -64,  -60,\n",
              "        -56,  -52,  -48,  -44,  -40,  -36,  -32,  -28,  -24,  -20,  -16,\n",
              "        -12,   -8,   -4,    0,    4,    8,   12,   16,   20,   24,   28,\n",
              "         32,   36,   40,   44,   48,   52,   56,   60,   64,   68,   72,\n",
              "         76,   80,   84,   88,   92,   96], dtype=int32)>"
            ]
          },
          "metadata": {},
          "execution_count": 12
        }
      ]
    },
    {
      "cell_type": "code",
      "source": [
        "#Make label set to our dataset \n",
        "y=X+10\n",
        "y"
      ],
      "metadata": {
        "colab": {
          "base_uri": "https://localhost:8080/"
        },
        "id": "7TnYJ8cDv_Jo",
        "outputId": "bee91b4e-f6b2-4467-fee7-d57d392cf56a"
      },
      "execution_count": null,
      "outputs": [
        {
          "output_type": "execute_result",
          "data": {
            "text/plain": [
              "<tf.Tensor: shape=(50,), dtype=int32, numpy=\n",
              "array([-90, -86, -82, -78, -74, -70, -66, -62, -58, -54, -50, -46, -42,\n",
              "       -38, -34, -30, -26, -22, -18, -14, -10,  -6,  -2,   2,   6,  10,\n",
              "        14,  18,  22,  26,  30,  34,  38,  42,  46,  50,  54,  58,  62,\n",
              "        66,  70,  74,  78,  82,  86,  90,  94,  98, 102, 106], dtype=int32)>"
            ]
          },
          "metadata": {},
          "execution_count": 13
        }
      ]
    },
    {
      "cell_type": "code",
      "source": [
        "import matplotlib.pyplot as plt\n",
        "plt.plot(X,y)\n",
        "plt.scatter(X,y)"
      ],
      "metadata": {
        "colab": {
          "base_uri": "https://localhost:8080/",
          "height": 283
        },
        "id": "kF1KdGG2wXAQ",
        "outputId": "de4ca621-f8a0-4f81-b848-425d37042627"
      },
      "execution_count": null,
      "outputs": [
        {
          "output_type": "execute_result",
          "data": {
            "text/plain": [
              "<matplotlib.collections.PathCollection at 0x7f079c446290>"
            ]
          },
          "metadata": {},
          "execution_count": 14
        },
        {
          "output_type": "display_data",
          "data": {
            "text/plain": [
              "<Figure size 432x288 with 1 Axes>"
            ],
            "image/png": "[encoded data removed]"
          },
          "metadata": {
            "needs_background": "light"
          }
        }
      ]
    },
    {
      "cell_type": "code",
      "source": [
        "X_train=X[:40]#this is 80% of the data which is used to train the model \n",
        "y_train=y[:40]\n",
        "\n",
        "X_test=X[40:]#This is 20% of the data which is used to test the model\n",
        "y_test=y[40:]"
      ],
      "metadata": {
        "id": "ShWL6pBowpLr"
      },
      "execution_count": null,
      "outputs": []
    },
    {
      "cell_type": "code",
      "source": [
        "len(X)"
      ],
      "metadata": {
        "colab": {
          "base_uri": "https://localhost:8080/"
        },
        "id": "evk9jXHbzfum",
        "outputId": "1be1e6f2-e436-44ff-d6ca-e6f8ec4cfaef"
      },
      "execution_count": null,
      "outputs": [
        {
          "output_type": "execute_result",
          "data": {
            "text/plain": [
              "50"
            ]
          },
          "metadata": {},
          "execution_count": 16
        }
      ]
    },
    {
      "cell_type": "code",
      "source": [
        "X_train,y_train"
      ],
      "metadata": {
        "colab": {
          "base_uri": "https://localhost:8080/"
        },
        "id": "BIOWMkHUzRA2",
        "outputId": "3d377149-75e5-4157-b909-35b9410ba841"
      },
      "execution_count": null,
      "outputs": [
        {
          "output_type": "execute_result",
          "data": {
            "text/plain": [
              "(<tf.Tensor: shape=(40,), dtype=int32, numpy=\n",
              " array([-100,  -96,  -92,  -88,  -84,  -80,  -76,  -72,  -68,  -64,  -60,\n",
              "         -56,  -52,  -48,  -44,  -40,  -36,  -32,  -28,  -24,  -20,  -16,\n",
              "         -12,   -8,   -4,    0,    4,    8,   12,   16,   20,   24,   28,\n",
              "          32,   36,   40,   44,   48,   52,   56], dtype=int32)>,\n",
              " <tf.Tensor: shape=(40,), dtype=int32, numpy=\n",
              " array([-90, -86, -82, -78, -74, -70, -66, -62, -58, -54, -50, -46, -42,\n",
              "        -38, -34, -30, -26, -22, -18, -14, -10,  -6,  -2,   2,   6,  10,\n",
              "         14,  18,  22,  26,  30,  34,  38,  42,  46,  50,  54,  58,  62,\n",
              "         66], dtype=int32)>)"
            ]
          },
          "metadata": {},
          "execution_count": 17
        }
      ]
    },
    {
      "cell_type": "code",
      "source": [
        "plt.figure(figsize=(10, 7))\n",
        "  # Plot training data in blue\n",
        "plt.scatter(X_train, y_train, c=\"b\", label=\"Training data\")\n",
        "  # Plot test data in green\n",
        "plt.scatter(X_test, y_test, c=\"g\", label=\"Testing data\")\n",
        "plt.legend();"
      ],
      "metadata": {
        "colab": {
          "base_uri": "https://localhost:8080/",
          "height": 428
        },
        "id": "K_94Iu950du1",
        "outputId": "38b2d8bd-b4af-441a-decc-a4429a82aae1"
      },
      "execution_count": null,
      "outputs": [
        {
          "output_type": "display_data",
          "data": {
            "text/plain": [
              "<Figure size 720x504 with 1 Axes>"
            ],
            "image/png": "[encoded data removed]"
          },
          "metadata": {
            "needs_background": "light"
          }
        }
      ]
    },
    {
      "cell_type": "code",
      "source": [
        "#Set random seed\n",
        "tf.random.set_seed(42)\n",
        "# 1.Create a model\n",
        "model_1=tf.keras.Sequential([\n",
        "tf.keras.layers.Dense(5,input_shape=[1],name=\"input_layer\",activation=None),\n",
        "  tf.keras.layers.Dense(1,name=\"output_layer\")\n",
        "],name=\"model_1\")\n",
        "\n",
        "#2. Compile the model\n",
        "model_1.compile(loss=tf.keras.losses.mae,\n",
        "              optimizer=tf.keras.optimizers.Adam(lr=0.03),\n",
        "              metrics=[\"mae\"])"
      ],
      "metadata": {
        "colab": {
          "base_uri": "https://localhost:8080/"
        },
        "id": "AZd6O9Ws10U1",
        "outputId": "4142863f-ff7d-4b62-cea2-26288b49ddbc"
      },
      "execution_count": null,
      "outputs": [
        {
          "output_type": "stream",
          "name": "stderr",
          "text": [
            "/usr/local/lib/python3.7/dist-packages/keras/optimizer_v2/adam.py:105: UserWarning: The `lr` argument is deprecated, use `learning_rate` instead.\n",
            "  super(Adam, self).__init__(name, **kwargs)\n"
          ]
        }
      ]
    },
    {
      "cell_type": "code",
      "source": [
        "model_1.summary()"
      ],
      "metadata": {
        "colab": {
          "base_uri": "https://localhost:8080/"
        },
        "id": "zURaNCPisCwd",
        "outputId": "94c6d296-0e24-4e2b-b926-dba7476c952f"
      },
      "execution_count": null,
      "outputs": [
        {
          "output_type": "stream",
          "name": "stdout",
          "text": [
            "Model: \"model_1\"\n",
            "_________________________________________________________________\n",
            " Layer (type)                Output Shape              Param #   \n",
            "=================================================================\n",
            " input_layer (Dense)         (None, 5)                 10        \n",
            "                                                                 \n",
            " output_layer (Dense)        (None, 1)                 6         \n",
            "                                                                 \n",
            "=================================================================\n",
            "Total params: 16\n",
            "Trainable params: 16\n",
            "Non-trainable params: 0\n",
            "_________________________________________________________________\n"
          ]
        }
      ]
    },
    {
      "cell_type": "code",
      "source": [
        "#Fitting the model\n",
        "model_1.fit(tf.expand_dims(X_train, axis=-1),y_train,epochs=100,verbose=0)"
      ],
      "metadata": {
        "colab": {
          "base_uri": "https://localhost:8080/"
        },
        "id": "omBMSxJQsF8b",
        "outputId": "6a6bedd1-ee97-4414-e766-0b80c75982af"
      },
      "execution_count": null,
      "outputs": [
        {
          "output_type": "execute_result",
          "data": {
            "text/plain": [
              "<keras.callbacks.History at 0x7f079a138b50>"
            ]
          },
          "metadata": {},
          "execution_count": 21
        }
      ]
    },
    {
      "cell_type": "code",
      "source": [
        "model_1.summary()"
      ],
      "metadata": {
        "colab": {
          "base_uri": "https://localhost:8080/"
        },
        "id": "jiGn94gG38HF",
        "outputId": "07920f6a-52dd-4707-a04a-4145123da91f"
      },
      "execution_count": null,
      "outputs": [
        {
          "output_type": "stream",
          "name": "stdout",
          "text": [
            "Model: \"model_1\"\n",
            "_________________________________________________________________\n",
            " Layer (type)                Output Shape              Param #   \n",
            "=================================================================\n",
            " input_layer (Dense)         (None, 5)                 10        \n",
            "                                                                 \n",
            " output_layer (Dense)        (None, 1)                 6         \n",
            "                                                                 \n",
            "=================================================================\n",
            "Total params: 16\n",
            "Trainable params: 16\n",
            "Non-trainable params: 0\n",
            "_________________________________________________________________\n"
          ]
        }
      ]
    },
    {
      "cell_type": "code",
      "source": [
        "from tensorflow.keras.utils import plot_model\n",
        "plot_model(model=model_1,show_shapes=True)"
      ],
      "metadata": {
        "colab": {
          "base_uri": "https://localhost:8080/",
          "height": 312
        },
        "id": "BIrQEPg75ZhU",
        "outputId": "f74039e8-c6c5-4fc9-e85b-8c52eef4d8cd"
      },
      "execution_count": null,
      "outputs": [
        {
          "output_type": "execute_result",
          "data": {
            "image/png": "[encoded data removed]",
            "text/plain": [
              "<IPython.core.display.Image object>"
            ]
          },
          "metadata": {},
          "execution_count": 23
        }
      ]
    },
    {
      "cell_type": "code",
      "source": [
        "y_pred=model_1.predict(X_test)\n",
        "y_pred"
      ],
      "metadata": {
        "colab": {
          "base_uri": "https://localhost:8080/"
        },
        "id": "qtFVP9nhDtVw",
        "outputId": "0531323c-d9f0-43e3-c570-ad300efc25b7"
      },
      "execution_count": null,
      "outputs": [
        {
          "output_type": "execute_result",
          "data": {
            "text/plain": [
              "array([[ 70.55738 ],\n",
              "       [ 74.59796 ],\n",
              "       [ 78.638535],\n",
              "       [ 82.679115],\n",
              "       [ 86.719696],\n",
              "       [ 90.76028 ],\n",
              "       [ 94.80086 ],\n",
              "       [ 98.84142 ],\n",
              "       [102.88202 ],\n",
              "       [106.92259 ]], dtype=float32)"
            ]
          },
          "metadata": {},
          "execution_count": 24
        }
      ]
    },
    {
      "cell_type": "code",
      "source": [
        "y_test\n"
      ],
      "metadata": {
        "colab": {
          "base_uri": "https://localhost:8080/"
        },
        "id": "hLeZFDY7HXvL",
        "outputId": "642625ef-fd9c-496d-ca9d-8d6629348180"
      },
      "execution_count": null,
      "outputs": [
        {
          "output_type": "execute_result",
          "data": {
            "text/plain": [
              "<tf.Tensor: shape=(10,), dtype=int32, numpy=array([ 70,  74,  78,  82,  86,  90,  94,  98, 102, 106], dtype=int32)>"
            ]
          },
          "metadata": {},
          "execution_count": 25
        }
      ]
    },
    {
      "cell_type": "code",
      "source": [
        "def predictions_plot(train_data=X_train,\n",
        "                     train_labels=y_train,\n",
        "                     test_data=X_test,\n",
        "                     test_labels=y_test,\n",
        "                     predictions=y_pred):\n",
        "  \n",
        "  plt.figure(figsize=(10,7))\n",
        "  plt.scatter(train_data,train_labels,c=\"b\",label=\"training data\")\n",
        "  plt.scatter(test_data,test_labels,c=\"g\",label=\"testing data\")\n",
        "  plt.scatter(test_data,predictions,c=\"r\",label=\"predictions\")\n",
        "  plt.legend()\n"
      ],
      "metadata": {
        "id": "tUE4FL0RHaNN"
      },
      "execution_count": null,
      "outputs": []
    },
    {
      "cell_type": "code",
      "source": [
        "predictions_plot()"
      ],
      "metadata": {
        "colab": {
          "base_uri": "https://localhost:8080/",
          "height": 428
        },
        "id": "L3hmAGFkLiB0",
        "outputId": "0ae0b314-95b0-4e00-e178-0ada1994f6a8"
      },
      "execution_count": null,
      "outputs": [
        {
          "output_type": "display_data",
          "data": {
            "text/plain": [
              "<Figure size 720x504 with 1 Axes>"
            ],
            "image/png": "[encoded data removed]"
          },
          "metadata": {
            "needs_background": "light"
          }
        }
      ]
    },
    {
      "cell_type": "code",
      "source": [
        "model_1.evaluate(X_test,y_test)"
      ],
      "metadata": {
        "colab": {
          "base_uri": "https://localhost:8080/"
        },
        "id": "r0J0ePkYLk2L",
        "outputId": "cd082731-0958-44aa-fa3c-997feb0c2526"
      },
      "execution_count": null,
      "outputs": [
        {
          "output_type": "stream",
          "name": "stdout",
          "text": [
            "1/1 [==============================] - 0s 396ms/step - loss: 0.7400 - mae: 0.7400\n"
          ]
        },
        {
          "output_type": "execute_result",
          "data": {
            "text/plain": [
              "[0.7399848699569702, 0.7399848699569702]"
            ]
          },
          "metadata": {},
          "execution_count": 28
        }
      ]
    },
    {
      "cell_type": "code",
      "source": [
        "y_test,tf.reshape(y_pred,shape=[1,10]),tf.squeeze(y_pred)"
      ],
      "metadata": {
        "colab": {
          "base_uri": "https://localhost:8080/"
        },
        "id": "OS-U0e9WTjGP",
        "outputId": "482acfae-5365-45c1-9baa-c7b521d59eb7"
      },
      "execution_count": null,
      "outputs": [
        {
          "output_type": "execute_result",
          "data": {
            "text/plain": [
              "(<tf.Tensor: shape=(10,), dtype=int32, numpy=array([ 70,  74,  78,  82,  86,  90,  94,  98, 102, 106], dtype=int32)>,\n",
              " <tf.Tensor: shape=(1, 10), dtype=float32, numpy=\n",
              " array([[ 70.55738 ,  74.59796 ,  78.638535,  82.679115,  86.719696,\n",
              "          90.76028 ,  94.80086 ,  98.84142 , 102.88202 , 106.92259 ]],\n",
              "       dtype=float32)>,\n",
              " <tf.Tensor: shape=(10,), dtype=float32, numpy=\n",
              " array([ 70.55738 ,  74.59796 ,  78.638535,  82.679115,  86.719696,\n",
              "         90.76028 ,  94.80086 ,  98.84142 , 102.88202 , 106.92259 ],\n",
              "       dtype=float32)>)"
            ]
          },
          "metadata": {},
          "execution_count": 29
        }
      ]
    },
    {
      "cell_type": "code",
      "source": [
        "mae9=tf.metrics.mean_absolute_error(y_true=y_test,\n",
        "                                   y_pred=tf.reshape(y_pred,shape=[1,10]))\n",
        "mae9"
      ],
      "metadata": {
        "colab": {
          "base_uri": "https://localhost:8080/"
        },
        "id": "0YflGfYvPf4h",
        "outputId": "2a29db17-6bbd-4489-fcd1-bae4d486a814"
      },
      "execution_count": null,
      "outputs": [
        {
          "output_type": "execute_result",
          "data": {
            "text/plain": [
              "<tf.Tensor: shape=(1,), dtype=float32, numpy=array([0.73998564], dtype=float32)>"
            ]
          },
          "metadata": {},
          "execution_count": 30
        }
      ]
    },
    {
      "cell_type": "code",
      "source": [
        "mse9=tf.keras.metrics.mean_squared_error(y_true=y_test,\n",
        "                                        y_pred=tf.reshape(y_pred,shape=[1,10]))"
      ],
      "metadata": {
        "id": "I5XPN_0rS6ZV"
      },
      "execution_count": null,
      "outputs": []
    },
    {
      "cell_type": "code",
      "source": [
        "mse9"
      ],
      "metadata": {
        "colab": {
          "base_uri": "https://localhost:8080/"
        },
        "id": "rn8WQBdIWJM1",
        "outputId": "e2d67224-c3a4-47b9-f3cb-37a53418001d"
      },
      "execution_count": null,
      "outputs": [
        {
          "output_type": "execute_result",
          "data": {
            "text/plain": [
              "<tf.Tensor: shape=(1,), dtype=float32, numpy=array([0.5611638], dtype=float32)>"
            ]
          },
          "metadata": {},
          "execution_count": 32
        }
      ]
    },
    {
      "cell_type": "code",
      "source": [
        "(mae9)**2"
      ],
      "metadata": {
        "colab": {
          "base_uri": "https://localhost:8080/"
        },
        "id": "lABPwNgVWKpi",
        "outputId": "61b9e04a-47d1-4c8d-de0e-09718fe52af3"
      },
      "execution_count": null,
      "outputs": [
        {
          "output_type": "execute_result",
          "data": {
            "text/plain": [
              "<tf.Tensor: shape=(1,), dtype=float32, numpy=array([0.54757875], dtype=float32)>"
            ]
          },
          "metadata": {},
          "execution_count": 33
        }
      ]
    },
    {
      "cell_type": "code",
      "source": [
        "#Make some functions to determine mean squared error and mean absolute error\n",
        "def mae(y_true,y_pred):\n",
        "  return tf.metrics.mean_absolute_error(y_true=y_true,\n",
        "                                   y_pred=tf.squeeze(y_pred))\n",
        "def mse(y_true,y_pred):\n",
        "   return tf.keras.metrics.mean_squared_error(y_true=y_true,\n",
        "                                   y_pred=tf.squeeze(y_pred))"
      ],
      "metadata": {
        "id": "2gXEbjH5WPoy"
      },
      "execution_count": null,
      "outputs": []
    },
    {
      "cell_type": "markdown",
      "source": [
        "**model 2**"
      ],
      "metadata": {
        "id": "RNOrlmL4e1Q2"
      }
    },
    {
      "cell_type": "code",
      "source": [
        "#Set some random seed\n",
        "tf.random.set_seed(42)\n",
        "#Build a model\n",
        "model_2=tf.keras.Sequential([\n",
        "    tf.keras.layers.Dense(5),\n",
        "    tf.keras.layers.Dense(1)\n",
        "])\n",
        "#Compile a model\n",
        "model_2.compile(loss=tf.keras.losses.mae,\n",
        "              optimizer=tf.keras.optimizers.SGD(),\n",
        "              metrics=\"mae\")\n",
        "#Fitting a model\n",
        "model_2.fit(tf.expand_dims(X_train,axis=-1),y_train,epochs=100,verbose=0)"
      ],
      "metadata": {
        "colab": {
          "base_uri": "https://localhost:8080/"
        },
        "id": "vN_OVc5JfQ-W",
        "outputId": "32257a73-b04d-4892-9938-6b3e7e41bcb4"
      },
      "execution_count": null,
      "outputs": [
        {
          "output_type": "execute_result",
          "data": {
            "text/plain": [
              "<keras.callbacks.History at 0x7f07a168fe10>"
            ]
          },
          "metadata": {},
          "execution_count": 35
        }
      ]
    },
    {
      "cell_type": "code",
      "source": [
        "y_pred1=model_2.predict(X_test)\n",
        "y_pred1\n"
      ],
      "metadata": {
        "colab": {
          "base_uri": "https://localhost:8080/"
        },
        "id": "yOEuMRkIgzsy",
        "outputId": "742a6344-8b0b-40dc-cf92-0b4fecfecc8e"
      },
      "execution_count": null,
      "outputs": [
        {
          "output_type": "stream",
          "name": "stderr",
          "text": [
            "WARNING:tensorflow:5 out of the last 5 calls to <function Model.make_predict_function.<locals>.predict_function at 0x7f07a16ac170> triggered tf.function retracing. Tracing is expensive and the excessive number of tracings could be due to (1) creating @tf.function repeatedly in a loop, (2) passing tensors with different shapes, (3) passing Python objects instead of tensors. For (1), please define your @tf.function outside of the loop. For (2), @tf.function has experimental_relax_shapes=True option that relaxes argument shapes that can avoid unnecessary retracing. For (3), please refer to https://www.tensorflow.org/guide/function#controlling_retracing and https://www.tensorflow.org/api_docs/python/tf/function for  more details.\n"
          ]
        },
        {
          "output_type": "execute_result",
          "data": {
            "text/plain": [
              "array([[ 70.47821 ],\n",
              "       [ 75.062546],\n",
              "       [ 79.64688 ],\n",
              "       [ 84.23121 ],\n",
              "       [ 88.815544],\n",
              "       [ 93.39987 ],\n",
              "       [ 97.98421 ],\n",
              "       [102.568535],\n",
              "       [107.15287 ],\n",
              "       [111.737206]], dtype=float32)"
            ]
          },
          "metadata": {},
          "execution_count": 36
        }
      ]
    },
    {
      "cell_type": "code",
      "source": [
        "y_test"
      ],
      "metadata": {
        "colab": {
          "base_uri": "https://localhost:8080/"
        },
        "id": "vra_Gd5yhVGn",
        "outputId": "19b3efe0-2b92-48d9-c8ae-932acb37f07e"
      },
      "execution_count": null,
      "outputs": [
        {
          "output_type": "execute_result",
          "data": {
            "text/plain": [
              "<tf.Tensor: shape=(10,), dtype=int32, numpy=array([ 70,  74,  78,  82,  86,  90,  94,  98, 102, 106], dtype=int32)>"
            ]
          },
          "metadata": {},
          "execution_count": 37
        }
      ]
    },
    {
      "cell_type": "code",
      "source": [
        "mae1=mae(y_test,y_pred1)\n",
        "mse1=mse(y_test, y_pred1)"
      ],
      "metadata": {
        "id": "T86YfsQyhX2U"
      },
      "execution_count": null,
      "outputs": []
    },
    {
      "cell_type": "code",
      "source": [
        "mae1, mse1"
      ],
      "metadata": {
        "colab": {
          "base_uri": "https://localhost:8080/"
        },
        "id": "asiMsOKlht1g",
        "outputId": "7e96ebac-0063-42dc-fc98-ab3a6f747b91"
      },
      "execution_count": null,
      "outputs": [
        {
          "output_type": "execute_result",
          "data": {
            "text/plain": [
              "(<tf.Tensor: shape=(), dtype=float32, numpy=3.107708>,\n",
              " <tf.Tensor: shape=(), dtype=float32, numpy=12.474764>)"
            ]
          },
          "metadata": {},
          "execution_count": 39
        }
      ]
    },
    {
      "cell_type": "code",
      "source": [
        "predictions_plot(predictions=y_pred1)"
      ],
      "metadata": {
        "colab": {
          "base_uri": "https://localhost:8080/",
          "height": 428
        },
        "id": "cFg4XvbGj7oV",
        "outputId": "da814555-37ae-4824-eb63-4e9819132276"
      },
      "execution_count": null,
      "outputs": [
        {
          "output_type": "display_data",
          "data": {
            "text/plain": [
              "<Figure size 720x504 with 1 Axes>"
            ],
            "image/png": "[encoded data removed]"
          },
          "metadata": {
            "needs_background": "light"
          }
        }
      ]
    },
    {
      "cell_type": "markdown",
      "source": [
        "**Model 3**"
      ],
      "metadata": {
        "id": "Zqwch0GRkChH"
      }
    },
    {
      "cell_type": "code",
      "source": [
        "#Set some random seed\n",
        "tf.random.set_seed(42)\n",
        "#Build a model\n",
        "model_3=tf.keras.Sequential([\n",
        "    tf.keras.layers.Dense(10),\n",
        "    tf.keras.layers.Dense(1)\n",
        "])\n",
        "#Compile a model\n",
        "model_3.compile(loss=tf.keras.losses.mae,\n",
        "              optimizer=tf.keras.optimizers.SGD(),\n",
        "              metrics=\"mae\")\n",
        "#Fitting a model\n",
        "model_3.fit(tf.expand_dims(X_train,axis=-1),y_train,epochs=500,verbose=0)"
      ],
      "metadata": {
        "colab": {
          "base_uri": "https://localhost:8080/"
        },
        "id": "6Y1S2kD3lBUo",
        "outputId": "6fa62bf1-f12b-449e-fe99-fd194140ae5e"
      },
      "execution_count": null,
      "outputs": [
        {
          "output_type": "execute_result",
          "data": {
            "text/plain": [
              "<keras.callbacks.History at 0x7f079c9fa550>"
            ]
          },
          "metadata": {},
          "execution_count": 41
        }
      ]
    },
    {
      "cell_type": "code",
      "source": [
        "y_pred2=model_3.predict(X_test)"
      ],
      "metadata": {
        "colab": {
          "base_uri": "https://localhost:8080/"
        },
        "id": "sOgqZ-f9lYvT",
        "outputId": "dd368f49-ef20-406b-ad69-c07a45b91a35"
      },
      "execution_count": null,
      "outputs": [
        {
          "output_type": "stream",
          "name": "stderr",
          "text": [
            "WARNING:tensorflow:6 out of the last 6 calls to <function Model.make_predict_function.<locals>.predict_function at 0x7f079c95ff80> triggered tf.function retracing. Tracing is expensive and the excessive number of tracings could be due to (1) creating @tf.function repeatedly in a loop, (2) passing tensors with different shapes, (3) passing Python objects instead of tensors. For (1), please define your @tf.function outside of the loop. For (2), @tf.function has experimental_relax_shapes=True option that relaxes argument shapes that can avoid unnecessary retracing. For (3), please refer to https://www.tensorflow.org/guide/function#controlling_retracing and https://www.tensorflow.org/api_docs/python/tf/function for  more details.\n"
          ]
        }
      ]
    },
    {
      "cell_type": "code",
      "source": [
        "y_pred2\n"
      ],
      "metadata": {
        "colab": {
          "base_uri": "https://localhost:8080/"
        },
        "id": "C1-SHM2rlwyV",
        "outputId": "12ac64d0-b1d7-4474-9cc6-2b30d245a6cd"
      },
      "execution_count": null,
      "outputs": [
        {
          "output_type": "execute_result",
          "data": {
            "text/plain": [
              "array([[15.854742],\n",
              "       [16.617329],\n",
              "       [17.379915],\n",
              "       [18.142504],\n",
              "       [18.905092],\n",
              "       [19.667677],\n",
              "       [20.430264],\n",
              "       [21.192854],\n",
              "       [21.95544 ],\n",
              "       [22.718027]], dtype=float32)"
            ]
          },
          "metadata": {},
          "execution_count": 43
        }
      ]
    },
    {
      "cell_type": "code",
      "source": [
        "y_test\n"
      ],
      "metadata": {
        "colab": {
          "base_uri": "https://localhost:8080/"
        },
        "id": "pQFZusHdlzwG",
        "outputId": "a1e7944d-9a73-4287-891d-b97282f44411"
      },
      "execution_count": null,
      "outputs": [
        {
          "output_type": "execute_result",
          "data": {
            "text/plain": [
              "<tf.Tensor: shape=(10,), dtype=int32, numpy=array([ 70,  74,  78,  82,  86,  90,  94,  98, 102, 106], dtype=int32)>"
            ]
          },
          "metadata": {},
          "execution_count": 44
        }
      ]
    },
    {
      "cell_type": "code",
      "source": [
        "predictions_plot(predictions=y_pred2)"
      ],
      "metadata": {
        "colab": {
          "base_uri": "https://localhost:8080/",
          "height": 428
        },
        "id": "XqUjrd6gl-8O",
        "outputId": "2454a1fd-f509-4b4e-e230-ffb5a426c5ef"
      },
      "execution_count": null,
      "outputs": [
        {
          "output_type": "display_data",
          "data": {
            "text/plain": [
              "<Figure size 720x504 with 1 Axes>"
            ],
            "image/png": "[encoded data removed]"
          },
          "metadata": {
            "needs_background": "light"
          }
        }
      ]
    },
    {
      "cell_type": "code",
      "source": [
        "#Evaluating the model\n",
        "mae2=mae(y_test,y_pred2)\n",
        "mse2=mse(y_test,y_pred2)"
      ],
      "metadata": {
        "id": "dAS7sIComG2E"
      },
      "execution_count": null,
      "outputs": []
    },
    {
      "cell_type": "code",
      "source": [
        "mae2,mse2\n"
      ],
      "metadata": {
        "colab": {
          "base_uri": "https://localhost:8080/"
        },
        "id": "k5HZbSivm1CA",
        "outputId": "cdd4e787-05a5-475a-a672-dacd01baf0cb"
      },
      "execution_count": null,
      "outputs": [
        {
          "output_type": "execute_result",
          "data": {
            "text/plain": [
              "(<tf.Tensor: shape=(), dtype=float32, numpy=68.713615>,\n",
              " <tf.Tensor: shape=(), dtype=float32, numpy=4808.0273>)"
            ]
          },
          "metadata": {},
          "execution_count": 47
        }
      ]
    },
    {
      "cell_type": "markdown",
      "source": [
        "#Comparing the results of our experiments"
      ],
      "metadata": {
        "id": "eaAGq0Tdm5f4"
      }
    },
    {
      "cell_type": "code",
      "source": [
        "#Let us compare the model result using pandas DataFrame\n",
        "import pandas as pd\n",
        "model_results=[[\"model_1\",mae9.numpy(),mse9.numpy()],\n",
        "               [\"model_2\",mae1.numpy(),mse1.numpy()],\n",
        "               [\"model_3\",mae2.numpy(),mse2.numpy()]]\n"
      ],
      "metadata": {
        "id": "Wx9blaC1pzQX"
      },
      "execution_count": null,
      "outputs": []
    },
    {
      "cell_type": "code",
      "source": [
        "all_results=pd.DataFrame(model_results, columns=[\"model\",\"mae\",\"mse\"])"
      ],
      "metadata": {
        "id": "CktjT40vrg23"
      },
      "execution_count": null,
      "outputs": []
    },
    {
      "cell_type": "code",
      "source": [
        "all_results"
      ],
      "metadata": {
        "colab": {
          "base_uri": "https://localhost:8080/",
          "height": 143
        },
        "id": "p4qSyJmEsBXf",
        "outputId": "36d25acd-0c46-4d0a-d90a-91cee014468d"
      },
      "execution_count": null,
      "outputs": [
        {
          "output_type": "execute_result",
          "data": {
            "text/plain": [
              "     model           mae          mse\n",
              "0  model_1  [0.73998564]  [0.5611638]\n",
              "1  model_2      3.107708    12.474764\n",
              "2  model_3     68.713615  4808.027344"
            ],
            "text/html": [
              "\n",
              "  <div id=\"df-74b06876-eed0-40c9-a770-055f7321ce08\">\n",
              "    <div class=\"colab-df-container\">\n",
              "      <div>\n",
              "<style scoped>\n",
              "    .dataframe tbody tr th:only-of-type {\n",
              "        vertical-align: middle;\n",
              "    }\n",
              "\n",
              "    .dataframe tbody tr th {\n",
              "        vertical-align: top;\n",
              "    }\n",
              "\n",
              "    .dataframe thead th {\n",
              "        text-align: right;\n",
              "    }\n",
              "</style>\n",
              "<table border=\"1\" class=\"dataframe\">\n",
              "  <thead>\n",
              "    <tr style=\"text-align: right;\">\n",
              "      <th></th>\n",
              "      <th>model</th>\n",
              "      <th>mae</th>\n",
              "      <th>mse</th>\n",
              "    </tr>\n",
              "  </thead>\n",
              "  <tbody>\n",
              "    <tr>\n",
              "      <th>0</th>\n",
              "      <td>model_1</td>\n",
              "      <td>[0.73998564]</td>\n",
              "      <td>[0.5611638]</td>\n",
              "    </tr>\n",
              "    <tr>\n",
              "      <th>1</th>\n",
              "      <td>model_2</td>\n",
              "      <td>3.107708</td>\n",
              "      <td>12.474764</td>\n",
              "    </tr>\n",
              "    <tr>\n",
              "      <th>2</th>\n",
              "      <td>model_3</td>\n",
              "      <td>68.713615</td>\n",
              "      <td>4808.027344</td>\n",
              "    </tr>\n",
              "  </tbody>\n",
              "</table>\n",
              "</div>\n",
              "      <button class=\"colab-df-convert\" onclick=\"convertToInteractive('df-74b06876-eed0-40c9-a770-055f7321ce08')\"\n",
              "              title=\"Convert this dataframe to an interactive table.\"\n",
              "              style=\"display:none;\">\n",
              "        \n",
              "  <svg xmlns=\"http://www.w3.org/2000/svg\" height=\"24px\"viewBox=\"0 0 24 24\"\n",
              "       width=\"24px\">\n",
              "    <path d=\"M0 0h24v24H0V0z\" fill=\"none\"/>\n",
              "    <path d=\"M18.56 5.44l.94 2.06.94-2.06 2.06-.94-2.06-.94-.94-2.06-.94 2.06-2.06.94zm-11 1L8.5 8.5l.94-2.06 2.06-.94-2.06-.94L8.5 2.5l-.94 2.06-2.06.94zm10 10l.94 2.06.94-2.06 2.06-.94-2.06-.94-.94-2.06-.94 2.06-2.06.94z\"/><path d=\"M17.41 7.96l-1.37-1.37c-.4-.4-.92-.59-1.43-.59-.52 0-1.04.2-1.43.59L10.3 9.45l-7.72 7.72c-.78.78-.78 2.05 0 2.83L4 21.41c.39.39.9.59 1.41.59.51 0 1.02-.2 1.41-.59l7.78-7.78 2.81-2.81c.8-.78.8-2.07 0-2.86zM5.41 20L4 18.59l7.72-7.72 1.47 1.35L5.41 20z\"/>\n",
              "  </svg>\n",
              "      </button>\n",
              "      \n",
              "  <style>\n",
              "    .colab-df-container {\n",
              "      display:flex;\n",
              "      flex-wrap:wrap;\n",
              "      gap: 12px;\n",
              "    }\n",
              "\n",
              "    .colab-df-convert {\n",
              "      background-color: #E8F0FE;\n",
              "      border: none;\n",
              "      border-radius: 50%;\n",
              "      cursor: pointer;\n",
              "      display: none;\n",
              "      fill: #1967D2;\n",
              "      height: 32px;\n",
              "      padding: 0 0 0 0;\n",
              "      width: 32px;\n",
              "    }\n",
              "\n",
              "    .colab-df-convert:hover {\n",
              "      background-color: #E2EBFA;\n",
              "      box-shadow: 0px 1px 2px rgba(60, 64, 67, 0.3), 0px 1px 3px 1px rgba(60, 64, 67, 0.15);\n",
              "      fill: #174EA6;\n",
              "    }\n",
              "\n",
              "    [theme=dark] .colab-df-convert {\n",
              "      background-color: #3B4455;\n",
              "      fill: #D2E3FC;\n",
              "    }\n",
              "\n",
              "    [theme=dark] .colab-df-convert:hover {\n",
              "      background-color: #434B5C;\n",
              "      box-shadow: 0px 1px 3px 1px rgba(0, 0, 0, 0.15);\n",
              "      filter: drop-shadow(0px 1px 2px rgba(0, 0, 0, 0.3));\n",
              "      fill: #FFFFFF;\n",
              "    }\n",
              "  </style>\n",
              "\n",
              "      <script>\n",
              "        const buttonEl =\n",
              "          document.querySelector('#df-74b06876-eed0-40c9-a770-055f7321ce08 button.colab-df-convert');\n",
              "        buttonEl.style.display =\n",
              "          google.colab.kernel.accessAllowed ? 'block' : 'none';\n",
              "\n",
              "        async function convertToInteractive(key) {\n",
              "          const element = document.querySelector('#df-74b06876-eed0-40c9-a770-055f7321ce08');\n",
              "          const dataTable =\n",
              "            await google.colab.kernel.invokeFunction('convertToInteractive',\n",
              "                                                     [key], {});\n",
              "          if (!dataTable) return;\n",
              "\n",
              "          const docLinkHtml = 'Like what you see? Visit the ' +\n",
              "            '<a target=\"_blank\" href=https://colab.research.google.com/notebooks/data_table.ipynb>data table notebook</a>'\n",
              "            + ' to learn more about interactive tables.';\n",
              "          element.innerHTML = '';\n",
              "          dataTable['output_type'] = 'display_data';\n",
              "          await google.colab.output.renderOutput(dataTable, element);\n",
              "          const docLink = document.createElement('div');\n",
              "          docLink.innerHTML = docLinkHtml;\n",
              "          element.appendChild(docLink);\n",
              "        }\n",
              "      </script>\n",
              "    </div>\n",
              "  </div>\n",
              "  "
            ]
          },
          "metadata": {},
          "execution_count": 50
        }
      ]
    },
    {
      "cell_type": "code",
      "source": [
        "model_1.summary()"
      ],
      "metadata": {
        "colab": {
          "base_uri": "https://localhost:8080/"
        },
        "id": "xbcp6pQzsDaT",
        "outputId": "67a51bc3-6840-43b6-fc32-c7f98f56a756"
      },
      "execution_count": null,
      "outputs": [
        {
          "output_type": "stream",
          "name": "stdout",
          "text": [
            "Model: \"model_1\"\n",
            "_________________________________________________________________\n",
            " Layer (type)                Output Shape              Param #   \n",
            "=================================================================\n",
            " input_layer (Dense)         (None, 5)                 10        \n",
            "                                                                 \n",
            " output_layer (Dense)        (None, 1)                 6         \n",
            "                                                                 \n",
            "=================================================================\n",
            "Total params: 16\n",
            "Trainable params: 16\n",
            "Non-trainable params: 0\n",
            "_________________________________________________________________\n"
          ]
        }
      ]
    },
    {
      "cell_type": "markdown",
      "source": [
        "`looks like model 2 perform the best`"
      ],
      "metadata": {
        "id": "ooqB-x4ttJsx"
      }
    },
    {
      "cell_type": "code",
      "source": [
        "#Save the model using save model format\n",
        "model_2.save('best_model_SavedModel_format')"
      ],
      "metadata": {
        "id": "IC5kmVUGtdua"
      },
      "execution_count": null,
      "outputs": []
    },
    {
      "cell_type": "code",
      "source": [
        "# Save a model using the HDF5 format\n",
        "model_2.save(\"best_model_HDF5_format.h5\") # note the addition of '.h5' on the end"
      ],
      "metadata": {
        "id": "UiM8DrphS7yd"
      },
      "execution_count": null,
      "outputs": []
    },
    {
      "cell_type": "code",
      "source": [
        "#Load in the saved model format\n",
        "loaded_savedmodel_format=tf.keras.models.load_model(\"/content/best_model_SavedModel_format\")"
      ],
      "metadata": {
        "id": "jI8gR3mRXpWE"
      },
      "execution_count": null,
      "outputs": []
    },
    {
      "cell_type": "code",
      "source": [
        "loaded_savedmodel_format.summary()"
      ],
      "metadata": {
        "colab": {
          "base_uri": "https://localhost:8080/"
        },
        "id": "QSKUkq-WYDQO",
        "outputId": "c2cca7da-2fbd-4565-df61-30313d42bb80"
      },
      "execution_count": null,
      "outputs": [
        {
          "output_type": "stream",
          "name": "stdout",
          "text": [
            "Model: \"sequential_3\"\n",
            "_________________________________________________________________\n",
            " Layer (type)                Output Shape              Param #   \n",
            "=================================================================\n",
            " dense_5 (Dense)             (None, 5)                 10        \n",
            "                                                                 \n",
            " dense_6 (Dense)             (None, 1)                 6         \n",
            "                                                                 \n",
            "=================================================================\n",
            "Total params: 16\n",
            "Trainable params: 16\n",
            "Non-trainable params: 0\n",
            "_________________________________________________________________\n"
          ]
        }
      ]
    },
    {
      "cell_type": "code",
      "source": [
        "model_2.summary()"
      ],
      "metadata": {
        "colab": {
          "base_uri": "https://localhost:8080/"
        },
        "id": "gELxhiujZBHX",
        "outputId": "2022c7b9-24c8-4ec0-8a33-f361f0c3ca30"
      },
      "execution_count": null,
      "outputs": [
        {
          "output_type": "stream",
          "name": "stdout",
          "text": [
            "Model: \"sequential_3\"\n",
            "_________________________________________________________________\n",
            " Layer (type)                Output Shape              Param #   \n",
            "=================================================================\n",
            " dense_5 (Dense)             (None, 5)                 10        \n",
            "                                                                 \n",
            " dense_6 (Dense)             (None, 1)                 6         \n",
            "                                                                 \n",
            "=================================================================\n",
            "Total params: 16\n",
            "Trainable params: 16\n",
            "Non-trainable params: 0\n",
            "_________________________________________________________________\n"
          ]
        }
      ]
    },
    {
      "cell_type": "code",
      "source": [
        "#Compare the predictions \n",
        "model_2_preds=model_2.predict(X_test)\n",
        "loaded_savedmodel_format_preds=loaded_savedmodel_format.predict(X_test)"
      ],
      "metadata": {
        "id": "fUVh36N4ZkGI"
      },
      "execution_count": null,
      "outputs": []
    },
    {
      "cell_type": "code",
      "source": [
        "model_2_preds,\n",
        "loaded_savedmodel_format_preds"
      ],
      "metadata": {
        "colab": {
          "base_uri": "https://localhost:8080/"
        },
        "id": "8vvocFw4atza",
        "outputId": "74b591da-9e50-4051-c46d-42ea0f69b1a6"
      },
      "execution_count": null,
      "outputs": [
        {
          "output_type": "execute_result",
          "data": {
            "text/plain": [
              "array([[ 70.47821 ],\n",
              "       [ 75.062546],\n",
              "       [ 79.64688 ],\n",
              "       [ 84.23121 ],\n",
              "       [ 88.815544],\n",
              "       [ 93.39987 ],\n",
              "       [ 97.98421 ],\n",
              "       [102.568535],\n",
              "       [107.15287 ],\n",
              "       [111.737206]], dtype=float32)"
            ]
          },
          "metadata": {},
          "execution_count": 58
        }
      ]
    },
    {
      "cell_type": "code",
      "source": [
        "model_2_preds==loaded_savedmodel_format_preds"
      ],
      "metadata": {
        "colab": {
          "base_uri": "https://localhost:8080/"
        },
        "id": "pYJ2cvKka1ol",
        "outputId": "ed8d4bc5-48e1-46ce-877f-042820b40a1e"
      },
      "execution_count": null,
      "outputs": [
        {
          "output_type": "execute_result",
          "data": {
            "text/plain": [
              "array([[ True],\n",
              "       [ True],\n",
              "       [ True],\n",
              "       [ True],\n",
              "       [ True],\n",
              "       [ True],\n",
              "       [ True],\n",
              "       [ True],\n",
              "       [ True],\n",
              "       [ True]])"
            ]
          },
          "metadata": {},
          "execution_count": 59
        }
      ]
    },
    {
      "cell_type": "code",
      "source": [
        "loaded_h5_model=tf.keras.models.load_model(\"/content/best_model_HDF5_format.h5\")"
      ],
      "metadata": {
        "id": "u1G03gKKbLSG"
      },
      "execution_count": null,
      "outputs": []
    },
    {
      "cell_type": "code",
      "source": [
        "loaded_h5_model.summary()"
      ],
      "metadata": {
        "colab": {
          "base_uri": "https://localhost:8080/"
        },
        "id": "XutHFperl3kC",
        "outputId": "60f19c3b-bba9-448b-ab72-28389ad2154d"
      },
      "execution_count": null,
      "outputs": [
        {
          "output_type": "stream",
          "name": "stdout",
          "text": [
            "Model: \"sequential_3\"\n",
            "_________________________________________________________________\n",
            " Layer (type)                Output Shape              Param #   \n",
            "=================================================================\n",
            " dense_5 (Dense)             (None, 5)                 10        \n",
            "                                                                 \n",
            " dense_6 (Dense)             (None, 1)                 6         \n",
            "                                                                 \n",
            "=================================================================\n",
            "Total params: 16\n",
            "Trainable params: 16\n",
            "Non-trainable params: 0\n",
            "_________________________________________________________________\n"
          ]
        }
      ]
    },
    {
      "cell_type": "code",
      "source": [
        "model_2.summary()"
      ],
      "metadata": {
        "colab": {
          "base_uri": "https://localhost:8080/"
        },
        "id": "rjoZVbprl7_b",
        "outputId": "7af4bf93-060d-4012-d824-c18fe70b05b4"
      },
      "execution_count": null,
      "outputs": [
        {
          "output_type": "stream",
          "name": "stdout",
          "text": [
            "Model: \"sequential_3\"\n",
            "_________________________________________________________________\n",
            " Layer (type)                Output Shape              Param #   \n",
            "=================================================================\n",
            " dense_5 (Dense)             (None, 5)                 10        \n",
            "                                                                 \n",
            " dense_6 (Dense)             (None, 1)                 6         \n",
            "                                                                 \n",
            "=================================================================\n",
            "Total params: 16\n",
            "Trainable params: 16\n",
            "Non-trainable params: 0\n",
            "_________________________________________________________________\n"
          ]
        }
      ]
    },
    {
      "cell_type": "code",
      "source": [
        "#Download a file from google colab\n",
        "#from google.colab import files\n",
        "#files.download(\"best_model_HDF5_format.h5\")"
      ],
      "metadata": {
        "id": "Ch9jQ_XemAb6"
      },
      "execution_count": null,
      "outputs": []
    },
    {
      "cell_type": "markdown",
      "source": [
        "##A larger example"
      ],
      "metadata": {
        "id": "7ji8G0bDtGHT"
      }
    },
    {
      "cell_type": "code",
      "source": [
        "# Import required libraries\n",
        "import tensorflow as tf\n",
        "import pandas as pd\n",
        "import matplotlib.pyplot as plt"
      ],
      "metadata": {
        "id": "eBarcF7kTr9z"
      },
      "execution_count": null,
      "outputs": []
    },
    {
      "cell_type": "code",
      "source": [
        "# Read in the insurance dataset\n",
        "insurance = pd.read_csv(\"https://raw.githubusercontent.com/stedy/Machine-Learning-with-R-datasets/master/insurance.csv\")\n"
      ],
      "metadata": {
        "id": "_s1EYnTFUry-"
      },
      "execution_count": null,
      "outputs": []
    },
    {
      "cell_type": "code",
      "source": [
        "insurance"
      ],
      "metadata": {
        "colab": {
          "base_uri": "https://localhost:8080/",
          "height": 424
        },
        "id": "oHWzZyoFUusL",
        "outputId": "4cee27aa-90da-42db-acaf-fc8b089d9473"
      },
      "execution_count": null,
      "outputs": [
        {
          "output_type": "execute_result",
          "data": {
            "text/plain": [
              "      age     sex     bmi  children smoker     region      charges\n",
              "0      19  female  27.900         0    yes  southwest  16884.92400\n",
              "1      18    male  33.770         1     no  southeast   1725.55230\n",
              "2      28    male  33.000         3     no  southeast   4449.46200\n",
              "3      33    male  22.705         0     no  northwest  21984.47061\n",
              "4      32    male  28.880         0     no  northwest   3866.85520\n",
              "...   ...     ...     ...       ...    ...        ...          ...\n",
              "1333   50    male  30.970         3     no  northwest  10600.54830\n",
              "1334   18  female  31.920         0     no  northeast   2205.98080\n",
              "1335   18  female  36.850         0     no  southeast   1629.83350\n",
              "1336   21  female  25.800         0     no  southwest   2007.94500\n",
              "1337   61  female  29.070         0    yes  northwest  29141.36030\n",
              "\n",
              "[1338 rows x 7 columns]"
            ],
            "text/html": [
              "\n",
              "  <div id=\"df-ca2ec70f-b795-46a3-ab6f-85fade4f9ca8\">\n",
              "    <div class=\"colab-df-container\">\n",
              "      <div>\n",
              "<style scoped>\n",
              "    .dataframe tbody tr th:only-of-type {\n",
              "        vertical-align: middle;\n",
              "    }\n",
              "\n",
              "    .dataframe tbody tr th {\n",
              "        vertical-align: top;\n",
              "    }\n",
              "\n",
              "    .dataframe thead th {\n",
              "        text-align: right;\n",
              "    }\n",
              "</style>\n",
              "<table border=\"1\" class=\"dataframe\">\n",
              "  <thead>\n",
              "    <tr style=\"text-align: right;\">\n",
              "      <th></th>\n",
              "      <th>age</th>\n",
              "      <th>sex</th>\n",
              "      <th>bmi</th>\n",
              "      <th>children</th>\n",
              "      <th>smoker</th>\n",
              "      <th>region</th>\n",
              "      <th>charges</th>\n",
              "    </tr>\n",
              "  </thead>\n",
              "  <tbody>\n",
              "    <tr>\n",
              "      <th>0</th>\n",
              "      <td>19</td>\n",
              "      <td>female</td>\n",
              "      <td>27.900</td>\n",
              "      <td>0</td>\n",
              "      <td>yes</td>\n",
              "      <td>southwest</td>\n",
              "      <td>16884.92400</td>\n",
              "    </tr>\n",
              "    <tr>\n",
              "      <th>1</th>\n",
              "      <td>18</td>\n",
              "      <td>male</td>\n",
              "      <td>33.770</td>\n",
              "      <td>1</td>\n",
              "      <td>no</td>\n",
              "      <td>southeast</td>\n",
              "      <td>1725.55230</td>\n",
              "    </tr>\n",
              "    <tr>\n",
              "      <th>2</th>\n",
              "      <td>28</td>\n",
              "      <td>male</td>\n",
              "      <td>33.000</td>\n",
              "      <td>3</td>\n",
              "      <td>no</td>\n",
              "      <td>southeast</td>\n",
              "      <td>4449.46200</td>\n",
              "    </tr>\n",
              "    <tr>\n",
              "      <th>3</th>\n",
              "      <td>33</td>\n",
              "      <td>male</td>\n",
              "      <td>22.705</td>\n",
              "      <td>0</td>\n",
              "      <td>no</td>\n",
              "      <td>northwest</td>\n",
              "      <td>21984.47061</td>\n",
              "    </tr>\n",
              "    <tr>\n",
              "      <th>4</th>\n",
              "      <td>32</td>\n",
              "      <td>male</td>\n",
              "      <td>28.880</td>\n",
              "      <td>0</td>\n",
              "      <td>no</td>\n",
              "      <td>northwest</td>\n",
              "      <td>3866.85520</td>\n",
              "    </tr>\n",
              "    <tr>\n",
              "      <th>...</th>\n",
              "      <td>...</td>\n",
              "      <td>...</td>\n",
              "      <td>...</td>\n",
              "      <td>...</td>\n",
              "      <td>...</td>\n",
              "      <td>...</td>\n",
              "      <td>...</td>\n",
              "    </tr>\n",
              "    <tr>\n",
              "      <th>1333</th>\n",
              "      <td>50</td>\n",
              "      <td>male</td>\n",
              "      <td>30.970</td>\n",
              "      <td>3</td>\n",
              "      <td>no</td>\n",
              "      <td>northwest</td>\n",
              "      <td>10600.54830</td>\n",
              "    </tr>\n",
              "    <tr>\n",
              "      <th>1334</th>\n",
              "      <td>18</td>\n",
              "      <td>female</td>\n",
              "      <td>31.920</td>\n",
              "      <td>0</td>\n",
              "      <td>no</td>\n",
              "      <td>northeast</td>\n",
              "      <td>2205.98080</td>\n",
              "    </tr>\n",
              "    <tr>\n",
              "      <th>1335</th>\n",
              "      <td>18</td>\n",
              "      <td>female</td>\n",
              "      <td>36.850</td>\n",
              "      <td>0</td>\n",
              "      <td>no</td>\n",
              "      <td>southeast</td>\n",
              "      <td>1629.83350</td>\n",
              "    </tr>\n",
              "    <tr>\n",
              "      <th>1336</th>\n",
              "      <td>21</td>\n",
              "      <td>female</td>\n",
              "      <td>25.800</td>\n",
              "      <td>0</td>\n",
              "      <td>no</td>\n",
              "      <td>southwest</td>\n",
              "      <td>2007.94500</td>\n",
              "    </tr>\n",
              "    <tr>\n",
              "      <th>1337</th>\n",
              "      <td>61</td>\n",
              "      <td>female</td>\n",
              "      <td>29.070</td>\n",
              "      <td>0</td>\n",
              "      <td>yes</td>\n",
              "      <td>northwest</td>\n",
              "      <td>29141.36030</td>\n",
              "    </tr>\n",
              "  </tbody>\n",
              "</table>\n",
              "<p>1338 rows × 7 columns</p>\n",
              "</div>\n",
              "      <button class=\"colab-df-convert\" onclick=\"convertToInteractive('df-ca2ec70f-b795-46a3-ab6f-85fade4f9ca8')\"\n",
              "              title=\"Convert this dataframe to an interactive table.\"\n",
              "              style=\"display:none;\">\n",
              "        \n",
              "  <svg xmlns=\"http://www.w3.org/2000/svg\" height=\"24px\"viewBox=\"0 0 24 24\"\n",
              "       width=\"24px\">\n",
              "    <path d=\"M0 0h24v24H0V0z\" fill=\"none\"/>\n",
              "    <path d=\"M18.56 5.44l.94 2.06.94-2.06 2.06-.94-2.06-.94-.94-2.06-.94 2.06-2.06.94zm-11 1L8.5 8.5l.94-2.06 2.06-.94-2.06-.94L8.5 2.5l-.94 2.06-2.06.94zm10 10l.94 2.06.94-2.06 2.06-.94-2.06-.94-.94-2.06-.94 2.06-2.06.94z\"/><path d=\"M17.41 7.96l-1.37-1.37c-.4-.4-.92-.59-1.43-.59-.52 0-1.04.2-1.43.59L10.3 9.45l-7.72 7.72c-.78.78-.78 2.05 0 2.83L4 21.41c.39.39.9.59 1.41.59.51 0 1.02-.2 1.41-.59l7.78-7.78 2.81-2.81c.8-.78.8-2.07 0-2.86zM5.41 20L4 18.59l7.72-7.72 1.47 1.35L5.41 20z\"/>\n",
              "  </svg>\n",
              "      </button>\n",
              "      \n",
              "  <style>\n",
              "    .colab-df-container {\n",
              "      display:flex;\n",
              "      flex-wrap:wrap;\n",
              "      gap: 12px;\n",
              "    }\n",
              "\n",
              "    .colab-df-convert {\n",
              "      background-color: #E8F0FE;\n",
              "      border: none;\n",
              "      border-radius: 50%;\n",
              "      cursor: pointer;\n",
              "      display: none;\n",
              "      fill: #1967D2;\n",
              "      height: 32px;\n",
              "      padding: 0 0 0 0;\n",
              "      width: 32px;\n",
              "    }\n",
              "\n",
              "    .colab-df-convert:hover {\n",
              "      background-color: #E2EBFA;\n",
              "      box-shadow: 0px 1px 2px rgba(60, 64, 67, 0.3), 0px 1px 3px 1px rgba(60, 64, 67, 0.15);\n",
              "      fill: #174EA6;\n",
              "    }\n",
              "\n",
              "    [theme=dark] .colab-df-convert {\n",
              "      background-color: #3B4455;\n",
              "      fill: #D2E3FC;\n",
              "    }\n",
              "\n",
              "    [theme=dark] .colab-df-convert:hover {\n",
              "      background-color: #434B5C;\n",
              "      box-shadow: 0px 1px 3px 1px rgba(0, 0, 0, 0.15);\n",
              "      filter: drop-shadow(0px 1px 2px rgba(0, 0, 0, 0.3));\n",
              "      fill: #FFFFFF;\n",
              "    }\n",
              "  </style>\n",
              "\n",
              "      <script>\n",
              "        const buttonEl =\n",
              "          document.querySelector('#df-ca2ec70f-b795-46a3-ab6f-85fade4f9ca8 button.colab-df-convert');\n",
              "        buttonEl.style.display =\n",
              "          google.colab.kernel.accessAllowed ? 'block' : 'none';\n",
              "\n",
              "        async function convertToInteractive(key) {\n",
              "          const element = document.querySelector('#df-ca2ec70f-b795-46a3-ab6f-85fade4f9ca8');\n",
              "          const dataTable =\n",
              "            await google.colab.kernel.invokeFunction('convertToInteractive',\n",
              "                                                     [key], {});\n",
              "          if (!dataTable) return;\n",
              "\n",
              "          const docLinkHtml = 'Like what you see? Visit the ' +\n",
              "            '<a target=\"_blank\" href=https://colab.research.google.com/notebooks/data_table.ipynb>data table notebook</a>'\n",
              "            + ' to learn more about interactive tables.';\n",
              "          element.innerHTML = '';\n",
              "          dataTable['output_type'] = 'display_data';\n",
              "          await google.colab.output.renderOutput(dataTable, element);\n",
              "          const docLink = document.createElement('div');\n",
              "          docLink.innerHTML = docLinkHtml;\n",
              "          element.appendChild(docLink);\n",
              "        }\n",
              "      </script>\n",
              "    </div>\n",
              "  </div>\n",
              "  "
            ]
          },
          "metadata": {},
          "execution_count": 66
        }
      ]
    },
    {
      "cell_type": "code",
      "source": [
        "#Convert our dataframe into one hot encoding \n",
        "insurance_one_hot=pd.get_dummies(insurance)\n",
        "insurance_one_hot.head()"
      ],
      "metadata": {
        "colab": {
          "base_uri": "https://localhost:8080/",
          "height": 206
        },
        "id": "KY-LVKx-Uwi-",
        "outputId": "76ac0c07-9334-4220-96da-5a504a9dd724"
      },
      "execution_count": null,
      "outputs": [
        {
          "output_type": "execute_result",
          "data": {
            "text/plain": [
              "   age     bmi  children      charges  sex_female  sex_male  smoker_no  \\\n",
              "0   19  27.900         0  16884.92400           1         0          0   \n",
              "1   18  33.770         1   1725.55230           0         1          1   \n",
              "2   28  33.000         3   4449.46200           0         1          1   \n",
              "3   33  22.705         0  21984.47061           0         1          1   \n",
              "4   32  28.880         0   3866.85520           0         1          1   \n",
              "\n",
              "   smoker_yes  region_northeast  region_northwest  region_southeast  \\\n",
              "0           1                 0                 0                 0   \n",
              "1           0                 0                 0                 1   \n",
              "2           0                 0                 0                 1   \n",
              "3           0                 0                 1                 0   \n",
              "4           0                 0                 1                 0   \n",
              "\n",
              "   region_southwest  \n",
              "0                 1  \n",
              "1                 0  \n",
              "2                 0  \n",
              "3                 0  \n",
              "4                 0  "
            ],
            "text/html": [
              "\n",
              "  <div id=\"df-49ab8629-9595-447e-95f6-7b4608c9e2c9\">\n",
              "    <div class=\"colab-df-container\">\n",
              "      <div>\n",
              "<style scoped>\n",
              "    .dataframe tbody tr th:only-of-type {\n",
              "        vertical-align: middle;\n",
              "    }\n",
              "\n",
              "    .dataframe tbody tr th {\n",
              "        vertical-align: top;\n",
              "    }\n",
              "\n",
              "    .dataframe thead th {\n",
              "        text-align: right;\n",
              "    }\n",
              "</style>\n",
              "<table border=\"1\" class=\"dataframe\">\n",
              "  <thead>\n",
              "    <tr style=\"text-align: right;\">\n",
              "      <th></th>\n",
              "      <th>age</th>\n",
              "      <th>bmi</th>\n",
              "      <th>children</th>\n",
              "      <th>charges</th>\n",
              "      <th>sex_female</th>\n",
              "      <th>sex_male</th>\n",
              "      <th>smoker_no</th>\n",
              "      <th>smoker_yes</th>\n",
              "      <th>region_northeast</th>\n",
              "      <th>region_northwest</th>\n",
              "      <th>region_southeast</th>\n",
              "      <th>region_southwest</th>\n",
              "    </tr>\n",
              "  </thead>\n",
              "  <tbody>\n",
              "    <tr>\n",
              "      <th>0</th>\n",
              "      <td>19</td>\n",
              "      <td>27.900</td>\n",
              "      <td>0</td>\n",
              "      <td>16884.92400</td>\n",
              "      <td>1</td>\n",
              "      <td>0</td>\n",
              "      <td>0</td>\n",
              "      <td>1</td>\n",
              "      <td>0</td>\n",
              "      <td>0</td>\n",
              "      <td>0</td>\n",
              "      <td>1</td>\n",
              "    </tr>\n",
              "    <tr>\n",
              "      <th>1</th>\n",
              "      <td>18</td>\n",
              "      <td>33.770</td>\n",
              "      <td>1</td>\n",
              "      <td>1725.55230</td>\n",
              "      <td>0</td>\n",
              "      <td>1</td>\n",
              "      <td>1</td>\n",
              "      <td>0</td>\n",
              "      <td>0</td>\n",
              "      <td>0</td>\n",
              "      <td>1</td>\n",
              "      <td>0</td>\n",
              "    </tr>\n",
              "    <tr>\n",
              "      <th>2</th>\n",
              "      <td>28</td>\n",
              "      <td>33.000</td>\n",
              "      <td>3</td>\n",
              "      <td>4449.46200</td>\n",
              "      <td>0</td>\n",
              "      <td>1</td>\n",
              "      <td>1</td>\n",
              "      <td>0</td>\n",
              "      <td>0</td>\n",
              "      <td>0</td>\n",
              "      <td>1</td>\n",
              "      <td>0</td>\n",
              "    </tr>\n",
              "    <tr>\n",
              "      <th>3</th>\n",
              "      <td>33</td>\n",
              "      <td>22.705</td>\n",
              "      <td>0</td>\n",
              "      <td>21984.47061</td>\n",
              "      <td>0</td>\n",
              "      <td>1</td>\n",
              "      <td>1</td>\n",
              "      <td>0</td>\n",
              "      <td>0</td>\n",
              "      <td>1</td>\n",
              "      <td>0</td>\n",
              "      <td>0</td>\n",
              "    </tr>\n",
              "    <tr>\n",
              "      <th>4</th>\n",
              "      <td>32</td>\n",
              "      <td>28.880</td>\n",
              "      <td>0</td>\n",
              "      <td>3866.85520</td>\n",
              "      <td>0</td>\n",
              "      <td>1</td>\n",
              "      <td>1</td>\n",
              "      <td>0</td>\n",
              "      <td>0</td>\n",
              "      <td>1</td>\n",
              "      <td>0</td>\n",
              "      <td>0</td>\n",
              "    </tr>\n",
              "  </tbody>\n",
              "</table>\n",
              "</div>\n",
              "      <button class=\"colab-df-convert\" onclick=\"convertToInteractive('df-49ab8629-9595-447e-95f6-7b4608c9e2c9')\"\n",
              "              title=\"Convert this dataframe to an interactive table.\"\n",
              "              style=\"display:none;\">\n",
              "        \n",
              "  <svg xmlns=\"http://www.w3.org/2000/svg\" height=\"24px\"viewBox=\"0 0 24 24\"\n",
              "       width=\"24px\">\n",
              "    <path d=\"M0 0h24v24H0V0z\" fill=\"none\"/>\n",
              "    <path d=\"M18.56 5.44l.94 2.06.94-2.06 2.06-.94-2.06-.94-.94-2.06-.94 2.06-2.06.94zm-11 1L8.5 8.5l.94-2.06 2.06-.94-2.06-.94L8.5 2.5l-.94 2.06-2.06.94zm10 10l.94 2.06.94-2.06 2.06-.94-2.06-.94-.94-2.06-.94 2.06-2.06.94z\"/><path d=\"M17.41 7.96l-1.37-1.37c-.4-.4-.92-.59-1.43-.59-.52 0-1.04.2-1.43.59L10.3 9.45l-7.72 7.72c-.78.78-.78 2.05 0 2.83L4 21.41c.39.39.9.59 1.41.59.51 0 1.02-.2 1.41-.59l7.78-7.78 2.81-2.81c.8-.78.8-2.07 0-2.86zM5.41 20L4 18.59l7.72-7.72 1.47 1.35L5.41 20z\"/>\n",
              "  </svg>\n",
              "      </button>\n",
              "      \n",
              "  <style>\n",
              "    .colab-df-container {\n",
              "      display:flex;\n",
              "      flex-wrap:wrap;\n",
              "      gap: 12px;\n",
              "    }\n",
              "\n",
              "    .colab-df-convert {\n",
              "      background-color: #E8F0FE;\n",
              "      border: none;\n",
              "      border-radius: 50%;\n",
              "      cursor: pointer;\n",
              "      display: none;\n",
              "      fill: #1967D2;\n",
              "      height: 32px;\n",
              "      padding: 0 0 0 0;\n",
              "      width: 32px;\n",
              "    }\n",
              "\n",
              "    .colab-df-convert:hover {\n",
              "      background-color: #E2EBFA;\n",
              "      box-shadow: 0px 1px 2px rgba(60, 64, 67, 0.3), 0px 1px 3px 1px rgba(60, 64, 67, 0.15);\n",
              "      fill: #174EA6;\n",
              "    }\n",
              "\n",
              "    [theme=dark] .colab-df-convert {\n",
              "      background-color: #3B4455;\n",
              "      fill: #D2E3FC;\n",
              "    }\n",
              "\n",
              "    [theme=dark] .colab-df-convert:hover {\n",
              "      background-color: #434B5C;\n",
              "      box-shadow: 0px 1px 3px 1px rgba(0, 0, 0, 0.15);\n",
              "      filter: drop-shadow(0px 1px 2px rgba(0, 0, 0, 0.3));\n",
              "      fill: #FFFFFF;\n",
              "    }\n",
              "  </style>\n",
              "\n",
              "      <script>\n",
              "        const buttonEl =\n",
              "          document.querySelector('#df-49ab8629-9595-447e-95f6-7b4608c9e2c9 button.colab-df-convert');\n",
              "        buttonEl.style.display =\n",
              "          google.colab.kernel.accessAllowed ? 'block' : 'none';\n",
              "\n",
              "        async function convertToInteractive(key) {\n",
              "          const element = document.querySelector('#df-49ab8629-9595-447e-95f6-7b4608c9e2c9');\n",
              "          const dataTable =\n",
              "            await google.colab.kernel.invokeFunction('convertToInteractive',\n",
              "                                                     [key], {});\n",
              "          if (!dataTable) return;\n",
              "\n",
              "          const docLinkHtml = 'Like what you see? Visit the ' +\n",
              "            '<a target=\"_blank\" href=https://colab.research.google.com/notebooks/data_table.ipynb>data table notebook</a>'\n",
              "            + ' to learn more about interactive tables.';\n",
              "          element.innerHTML = '';\n",
              "          dataTable['output_type'] = 'display_data';\n",
              "          await google.colab.output.renderOutput(dataTable, element);\n",
              "          const docLink = document.createElement('div');\n",
              "          docLink.innerHTML = docLinkHtml;\n",
              "          element.appendChild(docLink);\n",
              "        }\n",
              "      </script>\n",
              "    </div>\n",
              "  </div>\n",
              "  "
            ]
          },
          "metadata": {},
          "execution_count": 67
        }
      ]
    },
    {
      "cell_type": "code",
      "source": [
        "insurance_one_hot.tail()"
      ],
      "metadata": {
        "colab": {
          "base_uri": "https://localhost:8080/",
          "height": 206
        },
        "id": "Hkjn7CobWrU9",
        "outputId": "a9f6e089-a962-43e2-fdb2-610af62e4214"
      },
      "execution_count": null,
      "outputs": [
        {
          "output_type": "execute_result",
          "data": {
            "text/plain": [
              "      age    bmi  children     charges  sex_female  sex_male  smoker_no  \\\n",
              "1333   50  30.97         3  10600.5483           0         1          1   \n",
              "1334   18  31.92         0   2205.9808           1         0          1   \n",
              "1335   18  36.85         0   1629.8335           1         0          1   \n",
              "1336   21  25.80         0   2007.9450           1         0          1   \n",
              "1337   61  29.07         0  29141.3603           1         0          0   \n",
              "\n",
              "      smoker_yes  region_northeast  region_northwest  region_southeast  \\\n",
              "1333           0                 0                 1                 0   \n",
              "1334           0                 1                 0                 0   \n",
              "1335           0                 0                 0                 1   \n",
              "1336           0                 0                 0                 0   \n",
              "1337           1                 0                 1                 0   \n",
              "\n",
              "      region_southwest  \n",
              "1333                 0  \n",
              "1334                 0  \n",
              "1335                 0  \n",
              "1336                 1  \n",
              "1337                 0  "
            ],
            "text/html": [
              "\n",
              "  <div id=\"df-71d36730-c934-4876-86d1-91ea58dc6817\">\n",
              "    <div class=\"colab-df-container\">\n",
              "      <div>\n",
              "<style scoped>\n",
              "    .dataframe tbody tr th:only-of-type {\n",
              "        vertical-align: middle;\n",
              "    }\n",
              "\n",
              "    .dataframe tbody tr th {\n",
              "        vertical-align: top;\n",
              "    }\n",
              "\n",
              "    .dataframe thead th {\n",
              "        text-align: right;\n",
              "    }\n",
              "</style>\n",
              "<table border=\"1\" class=\"dataframe\">\n",
              "  <thead>\n",
              "    <tr style=\"text-align: right;\">\n",
              "      <th></th>\n",
              "      <th>age</th>\n",
              "      <th>bmi</th>\n",
              "      <th>children</th>\n",
              "      <th>charges</th>\n",
              "      <th>sex_female</th>\n",
              "      <th>sex_male</th>\n",
              "      <th>smoker_no</th>\n",
              "      <th>smoker_yes</th>\n",
              "      <th>region_northeast</th>\n",
              "      <th>region_northwest</th>\n",
              "      <th>region_southeast</th>\n",
              "      <th>region_southwest</th>\n",
              "    </tr>\n",
              "  </thead>\n",
              "  <tbody>\n",
              "    <tr>\n",
              "      <th>1333</th>\n",
              "      <td>50</td>\n",
              "      <td>30.97</td>\n",
              "      <td>3</td>\n",
              "      <td>10600.5483</td>\n",
              "      <td>0</td>\n",
              "      <td>1</td>\n",
              "      <td>1</td>\n",
              "      <td>0</td>\n",
              "      <td>0</td>\n",
              "      <td>1</td>\n",
              "      <td>0</td>\n",
              "      <td>0</td>\n",
              "    </tr>\n",
              "    <tr>\n",
              "      <th>1334</th>\n",
              "      <td>18</td>\n",
              "      <td>31.92</td>\n",
              "      <td>0</td>\n",
              "      <td>2205.9808</td>\n",
              "      <td>1</td>\n",
              "      <td>0</td>\n",
              "      <td>1</td>\n",
              "      <td>0</td>\n",
              "      <td>1</td>\n",
              "      <td>0</td>\n",
              "      <td>0</td>\n",
              "      <td>0</td>\n",
              "    </tr>\n",
              "    <tr>\n",
              "      <th>1335</th>\n",
              "      <td>18</td>\n",
              "      <td>36.85</td>\n",
              "      <td>0</td>\n",
              "      <td>1629.8335</td>\n",
              "      <td>1</td>\n",
              "      <td>0</td>\n",
              "      <td>1</td>\n",
              "      <td>0</td>\n",
              "      <td>0</td>\n",
              "      <td>0</td>\n",
              "      <td>1</td>\n",
              "      <td>0</td>\n",
              "    </tr>\n",
              "    <tr>\n",
              "      <th>1336</th>\n",
              "      <td>21</td>\n",
              "      <td>25.80</td>\n",
              "      <td>0</td>\n",
              "      <td>2007.9450</td>\n",
              "      <td>1</td>\n",
              "      <td>0</td>\n",
              "      <td>1</td>\n",
              "      <td>0</td>\n",
              "      <td>0</td>\n",
              "      <td>0</td>\n",
              "      <td>0</td>\n",
              "      <td>1</td>\n",
              "    </tr>\n",
              "    <tr>\n",
              "      <th>1337</th>\n",
              "      <td>61</td>\n",
              "      <td>29.07</td>\n",
              "      <td>0</td>\n",
              "      <td>29141.3603</td>\n",
              "      <td>1</td>\n",
              "      <td>0</td>\n",
              "      <td>0</td>\n",
              "      <td>1</td>\n",
              "      <td>0</td>\n",
              "      <td>1</td>\n",
              "      <td>0</td>\n",
              "      <td>0</td>\n",
              "    </tr>\n",
              "  </tbody>\n",
              "</table>\n",
              "</div>\n",
              "      <button class=\"colab-df-convert\" onclick=\"convertToInteractive('df-71d36730-c934-4876-86d1-91ea58dc6817')\"\n",
              "              title=\"Convert this dataframe to an interactive table.\"\n",
              "              style=\"display:none;\">\n",
              "        \n",
              "  <svg xmlns=\"http://www.w3.org/2000/svg\" height=\"24px\"viewBox=\"0 0 24 24\"\n",
              "       width=\"24px\">\n",
              "    <path d=\"M0 0h24v24H0V0z\" fill=\"none\"/>\n",
              "    <path d=\"M18.56 5.44l.94 2.06.94-2.06 2.06-.94-2.06-.94-.94-2.06-.94 2.06-2.06.94zm-11 1L8.5 8.5l.94-2.06 2.06-.94-2.06-.94L8.5 2.5l-.94 2.06-2.06.94zm10 10l.94 2.06.94-2.06 2.06-.94-2.06-.94-.94-2.06-.94 2.06-2.06.94z\"/><path d=\"M17.41 7.96l-1.37-1.37c-.4-.4-.92-.59-1.43-.59-.52 0-1.04.2-1.43.59L10.3 9.45l-7.72 7.72c-.78.78-.78 2.05 0 2.83L4 21.41c.39.39.9.59 1.41.59.51 0 1.02-.2 1.41-.59l7.78-7.78 2.81-2.81c.8-.78.8-2.07 0-2.86zM5.41 20L4 18.59l7.72-7.72 1.47 1.35L5.41 20z\"/>\n",
              "  </svg>\n",
              "      </button>\n",
              "      \n",
              "  <style>\n",
              "    .colab-df-container {\n",
              "      display:flex;\n",
              "      flex-wrap:wrap;\n",
              "      gap: 12px;\n",
              "    }\n",
              "\n",
              "    .colab-df-convert {\n",
              "      background-color: #E8F0FE;\n",
              "      border: none;\n",
              "      border-radius: 50%;\n",
              "      cursor: pointer;\n",
              "      display: none;\n",
              "      fill: #1967D2;\n",
              "      height: 32px;\n",
              "      padding: 0 0 0 0;\n",
              "      width: 32px;\n",
              "    }\n",
              "\n",
              "    .colab-df-convert:hover {\n",
              "      background-color: #E2EBFA;\n",
              "      box-shadow: 0px 1px 2px rgba(60, 64, 67, 0.3), 0px 1px 3px 1px rgba(60, 64, 67, 0.15);\n",
              "      fill: #174EA6;\n",
              "    }\n",
              "\n",
              "    [theme=dark] .colab-df-convert {\n",
              "      background-color: #3B4455;\n",
              "      fill: #D2E3FC;\n",
              "    }\n",
              "\n",
              "    [theme=dark] .colab-df-convert:hover {\n",
              "      background-color: #434B5C;\n",
              "      box-shadow: 0px 1px 3px 1px rgba(0, 0, 0, 0.15);\n",
              "      filter: drop-shadow(0px 1px 2px rgba(0, 0, 0, 0.3));\n",
              "      fill: #FFFFFF;\n",
              "    }\n",
              "  </style>\n",
              "\n",
              "      <script>\n",
              "        const buttonEl =\n",
              "          document.querySelector('#df-71d36730-c934-4876-86d1-91ea58dc6817 button.colab-df-convert');\n",
              "        buttonEl.style.display =\n",
              "          google.colab.kernel.accessAllowed ? 'block' : 'none';\n",
              "\n",
              "        async function convertToInteractive(key) {\n",
              "          const element = document.querySelector('#df-71d36730-c934-4876-86d1-91ea58dc6817');\n",
              "          const dataTable =\n",
              "            await google.colab.kernel.invokeFunction('convertToInteractive',\n",
              "                                                     [key], {});\n",
              "          if (!dataTable) return;\n",
              "\n",
              "          const docLinkHtml = 'Like what you see? Visit the ' +\n",
              "            '<a target=\"_blank\" href=https://colab.research.google.com/notebooks/data_table.ipynb>data table notebook</a>'\n",
              "            + ' to learn more about interactive tables.';\n",
              "          element.innerHTML = '';\n",
              "          dataTable['output_type'] = 'display_data';\n",
              "          await google.colab.output.renderOutput(dataTable, element);\n",
              "          const docLink = document.createElement('div');\n",
              "          docLink.innerHTML = docLinkHtml;\n",
              "          element.appendChild(docLink);\n",
              "        }\n",
              "      </script>\n",
              "    </div>\n",
              "  </div>\n",
              "  "
            ]
          },
          "metadata": {},
          "execution_count": 68
        }
      ]
    },
    {
      "cell_type": "code",
      "source": [
        "X=insurance_one_hot.drop(\"charges\",axis=1)"
      ],
      "metadata": {
        "id": "l_IC4tAEXcOL"
      },
      "execution_count": null,
      "outputs": []
    },
    {
      "cell_type": "code",
      "source": [
        "X.head()"
      ],
      "metadata": {
        "colab": {
          "base_uri": "https://localhost:8080/",
          "height": 206
        },
        "id": "xCAqxSBGXulT",
        "outputId": "d45d25a3-d1a6-4047-94aa-6735f195d80f"
      },
      "execution_count": null,
      "outputs": [
        {
          "output_type": "execute_result",
          "data": {
            "text/plain": [
              "   age     bmi  children  sex_female  sex_male  smoker_no  smoker_yes  \\\n",
              "0   19  27.900         0           1         0          0           1   \n",
              "1   18  33.770         1           0         1          1           0   \n",
              "2   28  33.000         3           0         1          1           0   \n",
              "3   33  22.705         0           0         1          1           0   \n",
              "4   32  28.880         0           0         1          1           0   \n",
              "\n",
              "   region_northeast  region_northwest  region_southeast  region_southwest  \n",
              "0                 0                 0                 0                 1  \n",
              "1                 0                 0                 1                 0  \n",
              "2                 0                 0                 1                 0  \n",
              "3                 0                 1                 0                 0  \n",
              "4                 0                 1                 0                 0  "
            ],
            "text/html": [
              "\n",
              "  <div id=\"df-8c584863-ea47-4a84-a05f-35a954740b95\">\n",
              "    <div class=\"colab-df-container\">\n",
              "      <div>\n",
              "<style scoped>\n",
              "    .dataframe tbody tr th:only-of-type {\n",
              "        vertical-align: middle;\n",
              "    }\n",
              "\n",
              "    .dataframe tbody tr th {\n",
              "        vertical-align: top;\n",
              "    }\n",
              "\n",
              "    .dataframe thead th {\n",
              "        text-align: right;\n",
              "    }\n",
              "</style>\n",
              "<table border=\"1\" class=\"dataframe\">\n",
              "  <thead>\n",
              "    <tr style=\"text-align: right;\">\n",
              "      <th></th>\n",
              "      <th>age</th>\n",
              "      <th>bmi</th>\n",
              "      <th>children</th>\n",
              "      <th>sex_female</th>\n",
              "      <th>sex_male</th>\n",
              "      <th>smoker_no</th>\n",
              "      <th>smoker_yes</th>\n",
              "      <th>region_northeast</th>\n",
              "      <th>region_northwest</th>\n",
              "      <th>region_southeast</th>\n",
              "      <th>region_southwest</th>\n",
              "    </tr>\n",
              "  </thead>\n",
              "  <tbody>\n",
              "    <tr>\n",
              "      <th>0</th>\n",
              "      <td>19</td>\n",
              "      <td>27.900</td>\n",
              "      <td>0</td>\n",
              "      <td>1</td>\n",
              "      <td>0</td>\n",
              "      <td>0</td>\n",
              "      <td>1</td>\n",
              "      <td>0</td>\n",
              "      <td>0</td>\n",
              "      <td>0</td>\n",
              "      <td>1</td>\n",
              "    </tr>\n",
              "    <tr>\n",
              "      <th>1</th>\n",
              "      <td>18</td>\n",
              "      <td>33.770</td>\n",
              "      <td>1</td>\n",
              "      <td>0</td>\n",
              "      <td>1</td>\n",
              "      <td>1</td>\n",
              "      <td>0</td>\n",
              "      <td>0</td>\n",
              "      <td>0</td>\n",
              "      <td>1</td>\n",
              "      <td>0</td>\n",
              "    </tr>\n",
              "    <tr>\n",
              "      <th>2</th>\n",
              "      <td>28</td>\n",
              "      <td>33.000</td>\n",
              "      <td>3</td>\n",
              "      <td>0</td>\n",
              "      <td>1</td>\n",
              "      <td>1</td>\n",
              "      <td>0</td>\n",
              "      <td>0</td>\n",
              "      <td>0</td>\n",
              "      <td>1</td>\n",
              "      <td>0</td>\n",
              "    </tr>\n",
              "    <tr>\n",
              "      <th>3</th>\n",
              "      <td>33</td>\n",
              "      <td>22.705</td>\n",
              "      <td>0</td>\n",
              "      <td>0</td>\n",
              "      <td>1</td>\n",
              "      <td>1</td>\n",
              "      <td>0</td>\n",
              "      <td>0</td>\n",
              "      <td>1</td>\n",
              "      <td>0</td>\n",
              "      <td>0</td>\n",
              "    </tr>\n",
              "    <tr>\n",
              "      <th>4</th>\n",
              "      <td>32</td>\n",
              "      <td>28.880</td>\n",
              "      <td>0</td>\n",
              "      <td>0</td>\n",
              "      <td>1</td>\n",
              "      <td>1</td>\n",
              "      <td>0</td>\n",
              "      <td>0</td>\n",
              "      <td>1</td>\n",
              "      <td>0</td>\n",
              "      <td>0</td>\n",
              "    </tr>\n",
              "  </tbody>\n",
              "</table>\n",
              "</div>\n",
              "      <button class=\"colab-df-convert\" onclick=\"convertToInteractive('df-8c584863-ea47-4a84-a05f-35a954740b95')\"\n",
              "              title=\"Convert this dataframe to an interactive table.\"\n",
              "              style=\"display:none;\">\n",
              "        \n",
              "  <svg xmlns=\"http://www.w3.org/2000/svg\" height=\"24px\"viewBox=\"0 0 24 24\"\n",
              "       width=\"24px\">\n",
              "    <path d=\"M0 0h24v24H0V0z\" fill=\"none\"/>\n",
              "    <path d=\"M18.56 5.44l.94 2.06.94-2.06 2.06-.94-2.06-.94-.94-2.06-.94 2.06-2.06.94zm-11 1L8.5 8.5l.94-2.06 2.06-.94-2.06-.94L8.5 2.5l-.94 2.06-2.06.94zm10 10l.94 2.06.94-2.06 2.06-.94-2.06-.94-.94-2.06-.94 2.06-2.06.94z\"/><path d=\"M17.41 7.96l-1.37-1.37c-.4-.4-.92-.59-1.43-.59-.52 0-1.04.2-1.43.59L10.3 9.45l-7.72 7.72c-.78.78-.78 2.05 0 2.83L4 21.41c.39.39.9.59 1.41.59.51 0 1.02-.2 1.41-.59l7.78-7.78 2.81-2.81c.8-.78.8-2.07 0-2.86zM5.41 20L4 18.59l7.72-7.72 1.47 1.35L5.41 20z\"/>\n",
              "  </svg>\n",
              "      </button>\n",
              "      \n",
              "  <style>\n",
              "    .colab-df-container {\n",
              "      display:flex;\n",
              "      flex-wrap:wrap;\n",
              "      gap: 12px;\n",
              "    }\n",
              "\n",
              "    .colab-df-convert {\n",
              "      background-color: #E8F0FE;\n",
              "      border: none;\n",
              "      border-radius: 50%;\n",
              "      cursor: pointer;\n",
              "      display: none;\n",
              "      fill: #1967D2;\n",
              "      height: 32px;\n",
              "      padding: 0 0 0 0;\n",
              "      width: 32px;\n",
              "    }\n",
              "\n",
              "    .colab-df-convert:hover {\n",
              "      background-color: #E2EBFA;\n",
              "      box-shadow: 0px 1px 2px rgba(60, 64, 67, 0.3), 0px 1px 3px 1px rgba(60, 64, 67, 0.15);\n",
              "      fill: #174EA6;\n",
              "    }\n",
              "\n",
              "    [theme=dark] .colab-df-convert {\n",
              "      background-color: #3B4455;\n",
              "      fill: #D2E3FC;\n",
              "    }\n",
              "\n",
              "    [theme=dark] .colab-df-convert:hover {\n",
              "      background-color: #434B5C;\n",
              "      box-shadow: 0px 1px 3px 1px rgba(0, 0, 0, 0.15);\n",
              "      filter: drop-shadow(0px 1px 2px rgba(0, 0, 0, 0.3));\n",
              "      fill: #FFFFFF;\n",
              "    }\n",
              "  </style>\n",
              "\n",
              "      <script>\n",
              "        const buttonEl =\n",
              "          document.querySelector('#df-8c584863-ea47-4a84-a05f-35a954740b95 button.colab-df-convert');\n",
              "        buttonEl.style.display =\n",
              "          google.colab.kernel.accessAllowed ? 'block' : 'none';\n",
              "\n",
              "        async function convertToInteractive(key) {\n",
              "          const element = document.querySelector('#df-8c584863-ea47-4a84-a05f-35a954740b95');\n",
              "          const dataTable =\n",
              "            await google.colab.kernel.invokeFunction('convertToInteractive',\n",
              "                                                     [key], {});\n",
              "          if (!dataTable) return;\n",
              "\n",
              "          const docLinkHtml = 'Like what you see? Visit the ' +\n",
              "            '<a target=\"_blank\" href=https://colab.research.google.com/notebooks/data_table.ipynb>data table notebook</a>'\n",
              "            + ' to learn more about interactive tables.';\n",
              "          element.innerHTML = '';\n",
              "          dataTable['output_type'] = 'display_data';\n",
              "          await google.colab.output.renderOutput(dataTable, element);\n",
              "          const docLink = document.createElement('div');\n",
              "          docLink.innerHTML = docLinkHtml;\n",
              "          element.appendChild(docLink);\n",
              "        }\n",
              "      </script>\n",
              "    </div>\n",
              "  </div>\n",
              "  "
            ]
          },
          "metadata": {},
          "execution_count": 70
        }
      ]
    },
    {
      "cell_type": "code",
      "source": [
        "X\n"
      ],
      "metadata": {
        "colab": {
          "base_uri": "https://localhost:8080/",
          "height": 424
        },
        "id": "3Q_Qgq0BYArK",
        "outputId": "533971f0-32a3-4391-fc7a-0b1711160c32"
      },
      "execution_count": null,
      "outputs": [
        {
          "output_type": "execute_result",
          "data": {
            "text/plain": [
              "      age     bmi  children  sex_female  sex_male  smoker_no  smoker_yes  \\\n",
              "0      19  27.900         0           1         0          0           1   \n",
              "1      18  33.770         1           0         1          1           0   \n",
              "2      28  33.000         3           0         1          1           0   \n",
              "3      33  22.705         0           0         1          1           0   \n",
              "4      32  28.880         0           0         1          1           0   \n",
              "...   ...     ...       ...         ...       ...        ...         ...   \n",
              "1333   50  30.970         3           0         1          1           0   \n",
              "1334   18  31.920         0           1         0          1           0   \n",
              "1335   18  36.850         0           1         0          1           0   \n",
              "1336   21  25.800         0           1         0          1           0   \n",
              "1337   61  29.070         0           1         0          0           1   \n",
              "\n",
              "      region_northeast  region_northwest  region_southeast  region_southwest  \n",
              "0                    0                 0                 0                 1  \n",
              "1                    0                 0                 1                 0  \n",
              "2                    0                 0                 1                 0  \n",
              "3                    0                 1                 0                 0  \n",
              "4                    0                 1                 0                 0  \n",
              "...                ...               ...               ...               ...  \n",
              "1333                 0                 1                 0                 0  \n",
              "1334                 1                 0                 0                 0  \n",
              "1335                 0                 0                 1                 0  \n",
              "1336                 0                 0                 0                 1  \n",
              "1337                 0                 1                 0                 0  \n",
              "\n",
              "[1338 rows x 11 columns]"
            ],
            "text/html": [
              "\n",
              "  <div id=\"df-3651e103-3eae-4b96-a317-9d9233bacb60\">\n",
              "    <div class=\"colab-df-container\">\n",
              "      <div>\n",
              "<style scoped>\n",
              "    .dataframe tbody tr th:only-of-type {\n",
              "        vertical-align: middle;\n",
              "    }\n",
              "\n",
              "    .dataframe tbody tr th {\n",
              "        vertical-align: top;\n",
              "    }\n",
              "\n",
              "    .dataframe thead th {\n",
              "        text-align: right;\n",
              "    }\n",
              "</style>\n",
              "<table border=\"1\" class=\"dataframe\">\n",
              "  <thead>\n",
              "    <tr style=\"text-align: right;\">\n",
              "      <th></th>\n",
              "      <th>age</th>\n",
              "      <th>bmi</th>\n",
              "      <th>children</th>\n",
              "      <th>sex_female</th>\n",
              "      <th>sex_male</th>\n",
              "      <th>smoker_no</th>\n",
              "      <th>smoker_yes</th>\n",
              "      <th>region_northeast</th>\n",
              "      <th>region_northwest</th>\n",
              "      <th>region_southeast</th>\n",
              "      <th>region_southwest</th>\n",
              "    </tr>\n",
              "  </thead>\n",
              "  <tbody>\n",
              "    <tr>\n",
              "      <th>0</th>\n",
              "      <td>19</td>\n",
              "      <td>27.900</td>\n",
              "      <td>0</td>\n",
              "      <td>1</td>\n",
              "      <td>0</td>\n",
              "      <td>0</td>\n",
              "      <td>1</td>\n",
              "      <td>0</td>\n",
              "      <td>0</td>\n",
              "      <td>0</td>\n",
              "      <td>1</td>\n",
              "    </tr>\n",
              "    <tr>\n",
              "      <th>1</th>\n",
              "      <td>18</td>\n",
              "      <td>33.770</td>\n",
              "      <td>1</td>\n",
              "      <td>0</td>\n",
              "      <td>1</td>\n",
              "      <td>1</td>\n",
              "      <td>0</td>\n",
              "      <td>0</td>\n",
              "      <td>0</td>\n",
              "      <td>1</td>\n",
              "      <td>0</td>\n",
              "    </tr>\n",
              "    <tr>\n",
              "      <th>2</th>\n",
              "      <td>28</td>\n",
              "      <td>33.000</td>\n",
              "      <td>3</td>\n",
              "      <td>0</td>\n",
              "      <td>1</td>\n",
              "      <td>1</td>\n",
              "      <td>0</td>\n",
              "      <td>0</td>\n",
              "      <td>0</td>\n",
              "      <td>1</td>\n",
              "      <td>0</td>\n",
              "    </tr>\n",
              "    <tr>\n",
              "      <th>3</th>\n",
              "      <td>33</td>\n",
              "      <td>22.705</td>\n",
              "      <td>0</td>\n",
              "      <td>0</td>\n",
              "      <td>1</td>\n",
              "      <td>1</td>\n",
              "      <td>0</td>\n",
              "      <td>0</td>\n",
              "      <td>1</td>\n",
              "      <td>0</td>\n",
              "      <td>0</td>\n",
              "    </tr>\n",
              "    <tr>\n",
              "      <th>4</th>\n",
              "      <td>32</td>\n",
              "      <td>28.880</td>\n",
              "      <td>0</td>\n",
              "      <td>0</td>\n",
              "      <td>1</td>\n",
              "      <td>1</td>\n",
              "      <td>0</td>\n",
              "      <td>0</td>\n",
              "      <td>1</td>\n",
              "      <td>0</td>\n",
              "      <td>0</td>\n",
              "    </tr>\n",
              "    <tr>\n",
              "      <th>...</th>\n",
              "      <td>...</td>\n",
              "      <td>...</td>\n",
              "      <td>...</td>\n",
              "      <td>...</td>\n",
              "      <td>...</td>\n",
              "      <td>...</td>\n",
              "      <td>...</td>\n",
              "      <td>...</td>\n",
              "      <td>...</td>\n",
              "      <td>...</td>\n",
              "      <td>...</td>\n",
              "    </tr>\n",
              "    <tr>\n",
              "      <th>1333</th>\n",
              "      <td>50</td>\n",
              "      <td>30.970</td>\n",
              "      <td>3</td>\n",
              "      <td>0</td>\n",
              "      <td>1</td>\n",
              "      <td>1</td>\n",
              "      <td>0</td>\n",
              "      <td>0</td>\n",
              "      <td>1</td>\n",
              "      <td>0</td>\n",
              "      <td>0</td>\n",
              "    </tr>\n",
              "    <tr>\n",
              "      <th>1334</th>\n",
              "      <td>18</td>\n",
              "      <td>31.920</td>\n",
              "      <td>0</td>\n",
              "      <td>1</td>\n",
              "      <td>0</td>\n",
              "      <td>1</td>\n",
              "      <td>0</td>\n",
              "      <td>1</td>\n",
              "      <td>0</td>\n",
              "      <td>0</td>\n",
              "      <td>0</td>\n",
              "    </tr>\n",
              "    <tr>\n",
              "      <th>1335</th>\n",
              "      <td>18</td>\n",
              "      <td>36.850</td>\n",
              "      <td>0</td>\n",
              "      <td>1</td>\n",
              "      <td>0</td>\n",
              "      <td>1</td>\n",
              "      <td>0</td>\n",
              "      <td>0</td>\n",
              "      <td>0</td>\n",
              "      <td>1</td>\n",
              "      <td>0</td>\n",
              "    </tr>\n",
              "    <tr>\n",
              "      <th>1336</th>\n",
              "      <td>21</td>\n",
              "      <td>25.800</td>\n",
              "      <td>0</td>\n",
              "      <td>1</td>\n",
              "      <td>0</td>\n",
              "      <td>1</td>\n",
              "      <td>0</td>\n",
              "      <td>0</td>\n",
              "      <td>0</td>\n",
              "      <td>0</td>\n",
              "      <td>1</td>\n",
              "    </tr>\n",
              "    <tr>\n",
              "      <th>1337</th>\n",
              "      <td>61</td>\n",
              "      <td>29.070</td>\n",
              "      <td>0</td>\n",
              "      <td>1</td>\n",
              "      <td>0</td>\n",
              "      <td>0</td>\n",
              "      <td>1</td>\n",
              "      <td>0</td>\n",
              "      <td>1</td>\n",
              "      <td>0</td>\n",
              "      <td>0</td>\n",
              "    </tr>\n",
              "  </tbody>\n",
              "</table>\n",
              "<p>1338 rows × 11 columns</p>\n",
              "</div>\n",
              "      <button class=\"colab-df-convert\" onclick=\"convertToInteractive('df-3651e103-3eae-4b96-a317-9d9233bacb60')\"\n",
              "              title=\"Convert this dataframe to an interactive table.\"\n",
              "              style=\"display:none;\">\n",
              "        \n",
              "  <svg xmlns=\"http://www.w3.org/2000/svg\" height=\"24px\"viewBox=\"0 0 24 24\"\n",
              "       width=\"24px\">\n",
              "    <path d=\"M0 0h24v24H0V0z\" fill=\"none\"/>\n",
              "    <path d=\"M18.56 5.44l.94 2.06.94-2.06 2.06-.94-2.06-.94-.94-2.06-.94 2.06-2.06.94zm-11 1L8.5 8.5l.94-2.06 2.06-.94-2.06-.94L8.5 2.5l-.94 2.06-2.06.94zm10 10l.94 2.06.94-2.06 2.06-.94-2.06-.94-.94-2.06-.94 2.06-2.06.94z\"/><path d=\"M17.41 7.96l-1.37-1.37c-.4-.4-.92-.59-1.43-.59-.52 0-1.04.2-1.43.59L10.3 9.45l-7.72 7.72c-.78.78-.78 2.05 0 2.83L4 21.41c.39.39.9.59 1.41.59.51 0 1.02-.2 1.41-.59l7.78-7.78 2.81-2.81c.8-.78.8-2.07 0-2.86zM5.41 20L4 18.59l7.72-7.72 1.47 1.35L5.41 20z\"/>\n",
              "  </svg>\n",
              "      </button>\n",
              "      \n",
              "  <style>\n",
              "    .colab-df-container {\n",
              "      display:flex;\n",
              "      flex-wrap:wrap;\n",
              "      gap: 12px;\n",
              "    }\n",
              "\n",
              "    .colab-df-convert {\n",
              "      background-color: #E8F0FE;\n",
              "      border: none;\n",
              "      border-radius: 50%;\n",
              "      cursor: pointer;\n",
              "      display: none;\n",
              "      fill: #1967D2;\n",
              "      height: 32px;\n",
              "      padding: 0 0 0 0;\n",
              "      width: 32px;\n",
              "    }\n",
              "\n",
              "    .colab-df-convert:hover {\n",
              "      background-color: #E2EBFA;\n",
              "      box-shadow: 0px 1px 2px rgba(60, 64, 67, 0.3), 0px 1px 3px 1px rgba(60, 64, 67, 0.15);\n",
              "      fill: #174EA6;\n",
              "    }\n",
              "\n",
              "    [theme=dark] .colab-df-convert {\n",
              "      background-color: #3B4455;\n",
              "      fill: #D2E3FC;\n",
              "    }\n",
              "\n",
              "    [theme=dark] .colab-df-convert:hover {\n",
              "      background-color: #434B5C;\n",
              "      box-shadow: 0px 1px 3px 1px rgba(0, 0, 0, 0.15);\n",
              "      filter: drop-shadow(0px 1px 2px rgba(0, 0, 0, 0.3));\n",
              "      fill: #FFFFFF;\n",
              "    }\n",
              "  </style>\n",
              "\n",
              "      <script>\n",
              "        const buttonEl =\n",
              "          document.querySelector('#df-3651e103-3eae-4b96-a317-9d9233bacb60 button.colab-df-convert');\n",
              "        buttonEl.style.display =\n",
              "          google.colab.kernel.accessAllowed ? 'block' : 'none';\n",
              "\n",
              "        async function convertToInteractive(key) {\n",
              "          const element = document.querySelector('#df-3651e103-3eae-4b96-a317-9d9233bacb60');\n",
              "          const dataTable =\n",
              "            await google.colab.kernel.invokeFunction('convertToInteractive',\n",
              "                                                     [key], {});\n",
              "          if (!dataTable) return;\n",
              "\n",
              "          const docLinkHtml = 'Like what you see? Visit the ' +\n",
              "            '<a target=\"_blank\" href=https://colab.research.google.com/notebooks/data_table.ipynb>data table notebook</a>'\n",
              "            + ' to learn more about interactive tables.';\n",
              "          element.innerHTML = '';\n",
              "          dataTable['output_type'] = 'display_data';\n",
              "          await google.colab.output.renderOutput(dataTable, element);\n",
              "          const docLink = document.createElement('div');\n",
              "          docLink.innerHTML = docLinkHtml;\n",
              "          element.appendChild(docLink);\n",
              "        }\n",
              "      </script>\n",
              "    </div>\n",
              "  </div>\n",
              "  "
            ]
          },
          "metadata": {},
          "execution_count": 71
        }
      ]
    },
    {
      "cell_type": "code",
      "source": [
        "y=insurance_one_hot[\"charges\"]"
      ],
      "metadata": {
        "id": "EXetwUluYHGs"
      },
      "execution_count": null,
      "outputs": []
    },
    {
      "cell_type": "code",
      "source": [
        "y.head()"
      ],
      "metadata": {
        "colab": {
          "base_uri": "https://localhost:8080/"
        },
        "id": "NYdVtx5rYPSb",
        "outputId": "77edbbc8-7a83-44e0-f804-7237d4792ff0"
      },
      "execution_count": null,
      "outputs": [
        {
          "output_type": "execute_result",
          "data": {
            "text/plain": [
              "0    16884.92400\n",
              "1     1725.55230\n",
              "2     4449.46200\n",
              "3    21984.47061\n",
              "4     3866.85520\n",
              "Name: charges, dtype: float64"
            ]
          },
          "metadata": {},
          "execution_count": 73
        }
      ]
    },
    {
      "cell_type": "code",
      "source": [
        "#Create training and test spilts \n",
        "from sklearn.model_selection import train_test_split\n",
        "X_train,X_test,y_train,y_test=train_test_split(X,y,train_size=0.80,random_state=42)"
      ],
      "metadata": {
        "id": "vk2L_64pYRXI"
      },
      "execution_count": null,
      "outputs": []
    },
    {
      "cell_type": "code",
      "source": [
        "X_train"
      ],
      "metadata": {
        "colab": {
          "base_uri": "https://localhost:8080/",
          "height": 424
        },
        "id": "cCnXiEAQOamV",
        "outputId": "cb580e40-d3fe-4d70-ed9a-8ea0f456028f"
      },
      "execution_count": null,
      "outputs": [
        {
          "output_type": "execute_result",
          "data": {
            "text/plain": [
              "      age     bmi  children  sex_female  sex_male  smoker_no  smoker_yes  \\\n",
              "560    46  19.950         2           1         0          1           0   \n",
              "1285   47  24.320         0           1         0          1           0   \n",
              "1142   52  24.860         0           1         0          1           0   \n",
              "969    39  34.320         5           1         0          1           0   \n",
              "486    54  21.470         3           1         0          1           0   \n",
              "...   ...     ...       ...         ...       ...        ...         ...   \n",
              "1095   18  31.350         4           1         0          1           0   \n",
              "1130   39  23.870         5           1         0          1           0   \n",
              "1294   58  25.175         0           0         1          1           0   \n",
              "860    37  47.600         2           1         0          0           1   \n",
              "1126   55  29.900         0           0         1          1           0   \n",
              "\n",
              "      region_northeast  region_northwest  region_southeast  region_southwest  \n",
              "560                  0                 1                 0                 0  \n",
              "1285                 1                 0                 0                 0  \n",
              "1142                 0                 0                 1                 0  \n",
              "969                  0                 0                 1                 0  \n",
              "486                  0                 1                 0                 0  \n",
              "...                ...               ...               ...               ...  \n",
              "1095                 1                 0                 0                 0  \n",
              "1130                 0                 0                 1                 0  \n",
              "1294                 1                 0                 0                 0  \n",
              "860                  0                 0                 0                 1  \n",
              "1126                 0                 0                 0                 1  \n",
              "\n",
              "[1070 rows x 11 columns]"
            ],
            "text/html": [
              "\n",
              "  <div id=\"df-c5dc6b2c-30d0-489f-9f52-f97047f4d30a\">\n",
              "    <div class=\"colab-df-container\">\n",
              "      <div>\n",
              "<style scoped>\n",
              "    .dataframe tbody tr th:only-of-type {\n",
              "        vertical-align: middle;\n",
              "    }\n",
              "\n",
              "    .dataframe tbody tr th {\n",
              "        vertical-align: top;\n",
              "    }\n",
              "\n",
              "    .dataframe thead th {\n",
              "        text-align: right;\n",
              "    }\n",
              "</style>\n",
              "<table border=\"1\" class=\"dataframe\">\n",
              "  <thead>\n",
              "    <tr style=\"text-align: right;\">\n",
              "      <th></th>\n",
              "      <th>age</th>\n",
              "      <th>bmi</th>\n",
              "      <th>children</th>\n",
              "      <th>sex_female</th>\n",
              "      <th>sex_male</th>\n",
              "      <th>smoker_no</th>\n",
              "      <th>smoker_yes</th>\n",
              "      <th>region_northeast</th>\n",
              "      <th>region_northwest</th>\n",
              "      <th>region_southeast</th>\n",
              "      <th>region_southwest</th>\n",
              "    </tr>\n",
              "  </thead>\n",
              "  <tbody>\n",
              "    <tr>\n",
              "      <th>560</th>\n",
              "      <td>46</td>\n",
              "      <td>19.950</td>\n",
              "      <td>2</td>\n",
              "      <td>1</td>\n",
              "      <td>0</td>\n",
              "      <td>1</td>\n",
              "      <td>0</td>\n",
              "      <td>0</td>\n",
              "      <td>1</td>\n",
              "      <td>0</td>\n",
              "      <td>0</td>\n",
              "    </tr>\n",
              "    <tr>\n",
              "      <th>1285</th>\n",
              "      <td>47</td>\n",
              "      <td>24.320</td>\n",
              "      <td>0</td>\n",
              "      <td>1</td>\n",
              "      <td>0</td>\n",
              "      <td>1</td>\n",
              "      <td>0</td>\n",
              "      <td>1</td>\n",
              "      <td>0</td>\n",
              "      <td>0</td>\n",
              "      <td>0</td>\n",
              "    </tr>\n",
              "    <tr>\n",
              "      <th>1142</th>\n",
              "      <td>52</td>\n",
              "      <td>24.860</td>\n",
              "      <td>0</td>\n",
              "      <td>1</td>\n",
              "      <td>0</td>\n",
              "      <td>1</td>\n",
              "      <td>0</td>\n",
              "      <td>0</td>\n",
              "      <td>0</td>\n",
              "      <td>1</td>\n",
              "      <td>0</td>\n",
              "    </tr>\n",
              "    <tr>\n",
              "      <th>969</th>\n",
              "      <td>39</td>\n",
              "      <td>34.320</td>\n",
              "      <td>5</td>\n",
              "      <td>1</td>\n",
              "      <td>0</td>\n",
              "      <td>1</td>\n",
              "      <td>0</td>\n",
              "      <td>0</td>\n",
              "      <td>0</td>\n",
              "      <td>1</td>\n",
              "      <td>0</td>\n",
              "    </tr>\n",
              "    <tr>\n",
              "      <th>486</th>\n",
              "      <td>54</td>\n",
              "      <td>21.470</td>\n",
              "      <td>3</td>\n",
              "      <td>1</td>\n",
              "      <td>0</td>\n",
              "      <td>1</td>\n",
              "      <td>0</td>\n",
              "      <td>0</td>\n",
              "      <td>1</td>\n",
              "      <td>0</td>\n",
              "      <td>0</td>\n",
              "    </tr>\n",
              "    <tr>\n",
              "      <th>...</th>\n",
              "      <td>...</td>\n",
              "      <td>...</td>\n",
              "      <td>...</td>\n",
              "      <td>...</td>\n",
              "      <td>...</td>\n",
              "      <td>...</td>\n",
              "      <td>...</td>\n",
              "      <td>...</td>\n",
              "      <td>...</td>\n",
              "      <td>...</td>\n",
              "      <td>...</td>\n",
              "    </tr>\n",
              "    <tr>\n",
              "      <th>1095</th>\n",
              "      <td>18</td>\n",
              "      <td>31.350</td>\n",
              "      <td>4</td>\n",
              "      <td>1</td>\n",
              "      <td>0</td>\n",
              "      <td>1</td>\n",
              "      <td>0</td>\n",
              "      <td>1</td>\n",
              "      <td>0</td>\n",
              "      <td>0</td>\n",
              "      <td>0</td>\n",
              "    </tr>\n",
              "    <tr>\n",
              "      <th>1130</th>\n",
              "      <td>39</td>\n",
              "      <td>23.870</td>\n",
              "      <td>5</td>\n",
              "      <td>1</td>\n",
              "      <td>0</td>\n",
              "      <td>1</td>\n",
              "      <td>0</td>\n",
              "      <td>0</td>\n",
              "      <td>0</td>\n",
              "      <td>1</td>\n",
              "      <td>0</td>\n",
              "    </tr>\n",
              "    <tr>\n",
              "      <th>1294</th>\n",
              "      <td>58</td>\n",
              "      <td>25.175</td>\n",
              "      <td>0</td>\n",
              "      <td>0</td>\n",
              "      <td>1</td>\n",
              "      <td>1</td>\n",
              "      <td>0</td>\n",
              "      <td>1</td>\n",
              "      <td>0</td>\n",
              "      <td>0</td>\n",
              "      <td>0</td>\n",
              "    </tr>\n",
              "    <tr>\n",
              "      <th>860</th>\n",
              "      <td>37</td>\n",
              "      <td>47.600</td>\n",
              "      <td>2</td>\n",
              "      <td>1</td>\n",
              "      <td>0</td>\n",
              "      <td>0</td>\n",
              "      <td>1</td>\n",
              "      <td>0</td>\n",
              "      <td>0</td>\n",
              "      <td>0</td>\n",
              "      <td>1</td>\n",
              "    </tr>\n",
              "    <tr>\n",
              "      <th>1126</th>\n",
              "      <td>55</td>\n",
              "      <td>29.900</td>\n",
              "      <td>0</td>\n",
              "      <td>0</td>\n",
              "      <td>1</td>\n",
              "      <td>1</td>\n",
              "      <td>0</td>\n",
              "      <td>0</td>\n",
              "      <td>0</td>\n",
              "      <td>0</td>\n",
              "      <td>1</td>\n",
              "    </tr>\n",
              "  </tbody>\n",
              "</table>\n",
              "<p>1070 rows × 11 columns</p>\n",
              "</div>\n",
              "      <button class=\"colab-df-convert\" onclick=\"convertToInteractive('df-c5dc6b2c-30d0-489f-9f52-f97047f4d30a')\"\n",
              "              title=\"Convert this dataframe to an interactive table.\"\n",
              "              style=\"display:none;\">\n",
              "        \n",
              "  <svg xmlns=\"http://www.w3.org/2000/svg\" height=\"24px\"viewBox=\"0 0 24 24\"\n",
              "       width=\"24px\">\n",
              "    <path d=\"M0 0h24v24H0V0z\" fill=\"none\"/>\n",
              "    <path d=\"M18.56 5.44l.94 2.06.94-2.06 2.06-.94-2.06-.94-.94-2.06-.94 2.06-2.06.94zm-11 1L8.5 8.5l.94-2.06 2.06-.94-2.06-.94L8.5 2.5l-.94 2.06-2.06.94zm10 10l.94 2.06.94-2.06 2.06-.94-2.06-.94-.94-2.06-.94 2.06-2.06.94z\"/><path d=\"M17.41 7.96l-1.37-1.37c-.4-.4-.92-.59-1.43-.59-.52 0-1.04.2-1.43.59L10.3 9.45l-7.72 7.72c-.78.78-.78 2.05 0 2.83L4 21.41c.39.39.9.59 1.41.59.51 0 1.02-.2 1.41-.59l7.78-7.78 2.81-2.81c.8-.78.8-2.07 0-2.86zM5.41 20L4 18.59l7.72-7.72 1.47 1.35L5.41 20z\"/>\n",
              "  </svg>\n",
              "      </button>\n",
              "      \n",
              "  <style>\n",
              "    .colab-df-container {\n",
              "      display:flex;\n",
              "      flex-wrap:wrap;\n",
              "      gap: 12px;\n",
              "    }\n",
              "\n",
              "    .colab-df-convert {\n",
              "      background-color: #E8F0FE;\n",
              "      border: none;\n",
              "      border-radius: 50%;\n",
              "      cursor: pointer;\n",
              "      display: none;\n",
              "      fill: #1967D2;\n",
              "      height: 32px;\n",
              "      padding: 0 0 0 0;\n",
              "      width: 32px;\n",
              "    }\n",
              "\n",
              "    .colab-df-convert:hover {\n",
              "      background-color: #E2EBFA;\n",
              "      box-shadow: 0px 1px 2px rgba(60, 64, 67, 0.3), 0px 1px 3px 1px rgba(60, 64, 67, 0.15);\n",
              "      fill: #174EA6;\n",
              "    }\n",
              "\n",
              "    [theme=dark] .colab-df-convert {\n",
              "      background-color: #3B4455;\n",
              "      fill: #D2E3FC;\n",
              "    }\n",
              "\n",
              "    [theme=dark] .colab-df-convert:hover {\n",
              "      background-color: #434B5C;\n",
              "      box-shadow: 0px 1px 3px 1px rgba(0, 0, 0, 0.15);\n",
              "      filter: drop-shadow(0px 1px 2px rgba(0, 0, 0, 0.3));\n",
              "      fill: #FFFFFF;\n",
              "    }\n",
              "  </style>\n",
              "\n",
              "      <script>\n",
              "        const buttonEl =\n",
              "          document.querySelector('#df-c5dc6b2c-30d0-489f-9f52-f97047f4d30a button.colab-df-convert');\n",
              "        buttonEl.style.display =\n",
              "          google.colab.kernel.accessAllowed ? 'block' : 'none';\n",
              "\n",
              "        async function convertToInteractive(key) {\n",
              "          const element = document.querySelector('#df-c5dc6b2c-30d0-489f-9f52-f97047f4d30a');\n",
              "          const dataTable =\n",
              "            await google.colab.kernel.invokeFunction('convertToInteractive',\n",
              "                                                     [key], {});\n",
              "          if (!dataTable) return;\n",
              "\n",
              "          const docLinkHtml = 'Like what you see? Visit the ' +\n",
              "            '<a target=\"_blank\" href=https://colab.research.google.com/notebooks/data_table.ipynb>data table notebook</a>'\n",
              "            + ' to learn more about interactive tables.';\n",
              "          element.innerHTML = '';\n",
              "          dataTable['output_type'] = 'display_data';\n",
              "          await google.colab.output.renderOutput(dataTable, element);\n",
              "          const docLink = document.createElement('div');\n",
              "          docLink.innerHTML = docLinkHtml;\n",
              "          element.appendChild(docLink);\n",
              "        }\n",
              "      </script>\n",
              "    </div>\n",
              "  </div>\n",
              "  "
            ]
          },
          "metadata": {},
          "execution_count": 75
        }
      ]
    },
    {
      "cell_type": "code",
      "source": [
        "len(X),len(X_train),len(X_test)"
      ],
      "metadata": {
        "colab": {
          "base_uri": "https://localhost:8080/"
        },
        "id": "aEVfJrhOObmQ",
        "outputId": "23a3605a-f009-4b77-a9e8-a95308d2f0c6"
      },
      "execution_count": null,
      "outputs": [
        {
          "output_type": "execute_result",
          "data": {
            "text/plain": [
              "(1338, 1070, 268)"
            ]
          },
          "metadata": {},
          "execution_count": 76
        }
      ]
    },
    {
      "cell_type": "code",
      "source": [
        "#Build a neural network \n",
        "tf.random.set_seed(42)\n",
        "#1.Create a model\n",
        "insurance_model= tf.keras.Sequential([\n",
        "    tf.keras.layers.Dense(10,activation=None),\n",
        "    tf.keras.layers.Dense(1,activation=None)\n",
        "])\n",
        "#2.Compile the model \n",
        "insurance_model.compile(loss=tf.keras.losses.mae,\n",
        "                        optimizer=tf.keras.optimizers.SGD(),\n",
        "                        metrics=\"mae\")\n",
        "#3.Fit the model \n",
        "#insurance_model.fit(tf.expand_dims(X_train,axis=-1),y_train,epochs=100,verbose=0)\n",
        "insurance_model.fit(tf.expand_dims(X_train, axis=-1),y_train,epochs=100,verbose=0)"
      ],
      "metadata": {
        "colab": {
          "base_uri": "https://localhost:8080/"
        },
        "id": "6UGExdFlO-TL",
        "outputId": "f9531c63-4b9c-4b7d-cc85-9e515e14781c"
      },
      "execution_count": null,
      "outputs": [
        {
          "output_type": "execute_result",
          "data": {
            "text/plain": [
              "<keras.callbacks.History at 0x7f079b1e8610>"
            ]
          },
          "metadata": {},
          "execution_count": 77
        }
      ]
    },
    {
      "cell_type": "code",
      "source": [
        "insurance_model.evaluate(X_test,y_test)"
      ],
      "metadata": {
        "colab": {
          "base_uri": "https://localhost:8080/"
        },
        "id": "eH2_cFG8S0b0",
        "outputId": "5e26ad8f-f5a1-4a4c-fd97-547673fe201e"
      },
      "execution_count": null,
      "outputs": [
        {
          "output_type": "stream",
          "name": "stdout",
          "text": [
            "9/9 [==============================] - 1s 2ms/step - loss: 8962.0615 - mae: 8962.0615\n"
          ]
        },
        {
          "output_type": "execute_result",
          "data": {
            "text/plain": [
              "[8962.0615234375, 8962.0615234375]"
            ]
          },
          "metadata": {},
          "execution_count": 78
        }
      ]
    },
    {
      "cell_type": "code",
      "source": [
        "insurance_model_preds=insurance_model.predict(X_test)"
      ],
      "metadata": {
        "id": "ht1JpitxPTAU"
      },
      "execution_count": null,
      "outputs": []
    },
    {
      "cell_type": "code",
      "source": [
        "y_test,y_test.shape"
      ],
      "metadata": {
        "colab": {
          "base_uri": "https://localhost:8080/"
        },
        "id": "1JeOlRASQaGH",
        "outputId": "25367f6c-e4bc-42ba-9138-be52dd379c06"
      },
      "execution_count": null,
      "outputs": [
        {
          "output_type": "execute_result",
          "data": {
            "text/plain": [
              "(764      9095.06825\n",
              " 887      5272.17580\n",
              " 890     29330.98315\n",
              " 1293     9301.89355\n",
              " 259     33750.29180\n",
              "            ...     \n",
              " 109     47055.53210\n",
              " 575     12222.89830\n",
              " 535      6067.12675\n",
              " 543     63770.42801\n",
              " 846      9872.70100\n",
              " Name: charges, Length: 268, dtype: float64, (268,))"
            ]
          },
          "metadata": {},
          "execution_count": 80
        }
      ]
    },
    {
      "cell_type": "code",
      "source": [
        "insurance_model_preds.shape"
      ],
      "metadata": {
        "colab": {
          "base_uri": "https://localhost:8080/"
        },
        "id": "IE6gRmNWQocY",
        "outputId": "570af0f9-1cf2-4f7c-e476-e22d222e439b"
      },
      "execution_count": null,
      "outputs": [
        {
          "output_type": "execute_result",
          "data": {
            "text/plain": [
              "(268, 11, 1)"
            ]
          },
          "metadata": {},
          "execution_count": 81
        }
      ]
    },
    {
      "cell_type": "code",
      "source": [
        "tf.squeeze(insurance_model_preds)"
      ],
      "metadata": {
        "colab": {
          "base_uri": "https://localhost:8080/"
        },
        "id": "ybO6sC1_Q_97",
        "outputId": "c2435618-938c-4dc7-f53c-8c527794c216"
      },
      "execution_count": null,
      "outputs": [
        {
          "output_type": "execute_result",
          "data": {
            "text/plain": [
              "<tf.Tensor: shape=(268, 11), dtype=float32, numpy=\n",
              "array([[17302.299 , 13789.632 ,  9683.397 , ...,  9329.029 ,  9329.029 ,\n",
              "         9329.029 ],\n",
              "       [15707.646 , 14648.087 ,  9329.029 , ...,  9506.214 ,  9329.029 ,\n",
              "         9329.029 ],\n",
              "       [20668.793 , 14092.616 ,  9329.029 , ...,  9506.214 ,  9329.029 ,\n",
              "         9329.029 ],\n",
              "       ...,\n",
              "       [16062.014 , 14294.6045,  9506.214 , ...,  9329.029 ,  9329.029 ,\n",
              "         9329.029 ],\n",
              "       [18896.955 , 17729.312 ,  9329.029 , ...,  9329.029 ,  9506.214 ,\n",
              "         9329.029 ],\n",
              "       [18365.404 , 15388.716 ,  9506.214 , ...,  9329.029 ,  9329.029 ,\n",
              "         9506.214 ]], dtype=float32)>"
            ]
          },
          "metadata": {},
          "execution_count": 82
        }
      ]
    },
    {
      "cell_type": "code",
      "source": [
        "len(insurance_model_preds)"
      ],
      "metadata": {
        "colab": {
          "base_uri": "https://localhost:8080/"
        },
        "id": "Q5nPNnuaRN02",
        "outputId": "e9bf3eed-13a4-4cc1-adaa-717407028c84"
      },
      "execution_count": null,
      "outputs": [
        {
          "output_type": "execute_result",
          "data": {
            "text/plain": [
              "268"
            ]
          },
          "metadata": {},
          "execution_count": 83
        }
      ]
    },
    {
      "cell_type": "code",
      "source": [
        "X_test"
      ],
      "metadata": {
        "colab": {
          "base_uri": "https://localhost:8080/",
          "height": 424
        },
        "id": "uZ-Hzaw2SQJm",
        "outputId": "6de41174-c2d0-4327-8b08-75beb1ddc8c3"
      },
      "execution_count": null,
      "outputs": [
        {
          "output_type": "execute_result",
          "data": {
            "text/plain": [
              "      age     bmi  children  sex_female  sex_male  smoker_no  smoker_yes  \\\n",
              "764    45  25.175         2           1         0          1           0   \n",
              "887    36  30.020         0           1         0          1           0   \n",
              "890    64  26.885         0           1         0          0           1   \n",
              "1293   46  25.745         3           0         1          1           0   \n",
              "259    19  31.920         0           0         1          0           1   \n",
              "...   ...     ...       ...         ...       ...        ...         ...   \n",
              "109    63  35.090         0           0         1          0           1   \n",
              "575    58  27.170         0           1         0          1           0   \n",
              "535    38  28.025         1           0         1          1           0   \n",
              "543    54  47.410         0           1         0          0           1   \n",
              "846    51  34.200         1           1         0          1           0   \n",
              "\n",
              "      region_northeast  region_northwest  region_southeast  region_southwest  \n",
              "764                  1                 0                 0                 0  \n",
              "887                  0                 1                 0                 0  \n",
              "890                  0                 1                 0                 0  \n",
              "1293                 0                 1                 0                 0  \n",
              "259                  0                 1                 0                 0  \n",
              "...                ...               ...               ...               ...  \n",
              "109                  0                 0                 1                 0  \n",
              "575                  0                 1                 0                 0  \n",
              "535                  1                 0                 0                 0  \n",
              "543                  0                 0                 1                 0  \n",
              "846                  0                 0                 0                 1  \n",
              "\n",
              "[268 rows x 11 columns]"
            ],
            "text/html": [
              "\n",
              "  <div id=\"df-361dd83a-32b3-40f0-b787-fdadee11613d\">\n",
              "    <div class=\"colab-df-container\">\n",
              "      <div>\n",
              "<style scoped>\n",
              "    .dataframe tbody tr th:only-of-type {\n",
              "        vertical-align: middle;\n",
              "    }\n",
              "\n",
              "    .dataframe tbody tr th {\n",
              "        vertical-align: top;\n",
              "    }\n",
              "\n",
              "    .dataframe thead th {\n",
              "        text-align: right;\n",
              "    }\n",
              "</style>\n",
              "<table border=\"1\" class=\"dataframe\">\n",
              "  <thead>\n",
              "    <tr style=\"text-align: right;\">\n",
              "      <th></th>\n",
              "      <th>age</th>\n",
              "      <th>bmi</th>\n",
              "      <th>children</th>\n",
              "      <th>sex_female</th>\n",
              "      <th>sex_male</th>\n",
              "      <th>smoker_no</th>\n",
              "      <th>smoker_yes</th>\n",
              "      <th>region_northeast</th>\n",
              "      <th>region_northwest</th>\n",
              "      <th>region_southeast</th>\n",
              "      <th>region_southwest</th>\n",
              "    </tr>\n",
              "  </thead>\n",
              "  <tbody>\n",
              "    <tr>\n",
              "      <th>764</th>\n",
              "      <td>45</td>\n",
              "      <td>25.175</td>\n",
              "      <td>2</td>\n",
              "      <td>1</td>\n",
              "      <td>0</td>\n",
              "      <td>1</td>\n",
              "      <td>0</td>\n",
              "      <td>1</td>\n",
              "      <td>0</td>\n",
              "      <td>0</td>\n",
              "      <td>0</td>\n",
              "    </tr>\n",
              "    <tr>\n",
              "      <th>887</th>\n",
              "      <td>36</td>\n",
              "      <td>30.020</td>\n",
              "      <td>0</td>\n",
              "      <td>1</td>\n",
              "      <td>0</td>\n",
              "      <td>1</td>\n",
              "      <td>0</td>\n",
              "      <td>0</td>\n",
              "      <td>1</td>\n",
              "      <td>0</td>\n",
              "      <td>0</td>\n",
              "    </tr>\n",
              "    <tr>\n",
              "      <th>890</th>\n",
              "      <td>64</td>\n",
              "      <td>26.885</td>\n",
              "      <td>0</td>\n",
              "      <td>1</td>\n",
              "      <td>0</td>\n",
              "      <td>0</td>\n",
              "      <td>1</td>\n",
              "      <td>0</td>\n",
              "      <td>1</td>\n",
              "      <td>0</td>\n",
              "      <td>0</td>\n",
              "    </tr>\n",
              "    <tr>\n",
              "      <th>1293</th>\n",
              "      <td>46</td>\n",
              "      <td>25.745</td>\n",
              "      <td>3</td>\n",
              "      <td>0</td>\n",
              "      <td>1</td>\n",
              "      <td>1</td>\n",
              "      <td>0</td>\n",
              "      <td>0</td>\n",
              "      <td>1</td>\n",
              "      <td>0</td>\n",
              "      <td>0</td>\n",
              "    </tr>\n",
              "    <tr>\n",
              "      <th>259</th>\n",
              "      <td>19</td>\n",
              "      <td>31.920</td>\n",
              "      <td>0</td>\n",
              "      <td>0</td>\n",
              "      <td>1</td>\n",
              "      <td>0</td>\n",
              "      <td>1</td>\n",
              "      <td>0</td>\n",
              "      <td>1</td>\n",
              "      <td>0</td>\n",
              "      <td>0</td>\n",
              "    </tr>\n",
              "    <tr>\n",
              "      <th>...</th>\n",
              "      <td>...</td>\n",
              "      <td>...</td>\n",
              "      <td>...</td>\n",
              "      <td>...</td>\n",
              "      <td>...</td>\n",
              "      <td>...</td>\n",
              "      <td>...</td>\n",
              "      <td>...</td>\n",
              "      <td>...</td>\n",
              "      <td>...</td>\n",
              "      <td>...</td>\n",
              "    </tr>\n",
              "    <tr>\n",
              "      <th>109</th>\n",
              "      <td>63</td>\n",
              "      <td>35.090</td>\n",
              "      <td>0</td>\n",
              "      <td>0</td>\n",
              "      <td>1</td>\n",
              "      <td>0</td>\n",
              "      <td>1</td>\n",
              "      <td>0</td>\n",
              "      <td>0</td>\n",
              "      <td>1</td>\n",
              "      <td>0</td>\n",
              "    </tr>\n",
              "    <tr>\n",
              "      <th>575</th>\n",
              "      <td>58</td>\n",
              "      <td>27.170</td>\n",
              "      <td>0</td>\n",
              "      <td>1</td>\n",
              "      <td>0</td>\n",
              "      <td>1</td>\n",
              "      <td>0</td>\n",
              "      <td>0</td>\n",
              "      <td>1</td>\n",
              "      <td>0</td>\n",
              "      <td>0</td>\n",
              "    </tr>\n",
              "    <tr>\n",
              "      <th>535</th>\n",
              "      <td>38</td>\n",
              "      <td>28.025</td>\n",
              "      <td>1</td>\n",
              "      <td>0</td>\n",
              "      <td>1</td>\n",
              "      <td>1</td>\n",
              "      <td>0</td>\n",
              "      <td>1</td>\n",
              "      <td>0</td>\n",
              "      <td>0</td>\n",
              "      <td>0</td>\n",
              "    </tr>\n",
              "    <tr>\n",
              "      <th>543</th>\n",
              "      <td>54</td>\n",
              "      <td>47.410</td>\n",
              "      <td>0</td>\n",
              "      <td>1</td>\n",
              "      <td>0</td>\n",
              "      <td>0</td>\n",
              "      <td>1</td>\n",
              "      <td>0</td>\n",
              "      <td>0</td>\n",
              "      <td>1</td>\n",
              "      <td>0</td>\n",
              "    </tr>\n",
              "    <tr>\n",
              "      <th>846</th>\n",
              "      <td>51</td>\n",
              "      <td>34.200</td>\n",
              "      <td>1</td>\n",
              "      <td>1</td>\n",
              "      <td>0</td>\n",
              "      <td>1</td>\n",
              "      <td>0</td>\n",
              "      <td>0</td>\n",
              "      <td>0</td>\n",
              "      <td>0</td>\n",
              "      <td>1</td>\n",
              "    </tr>\n",
              "  </tbody>\n",
              "</table>\n",
              "<p>268 rows × 11 columns</p>\n",
              "</div>\n",
              "      <button class=\"colab-df-convert\" onclick=\"convertToInteractive('df-361dd83a-32b3-40f0-b787-fdadee11613d')\"\n",
              "              title=\"Convert this dataframe to an interactive table.\"\n",
              "              style=\"display:none;\">\n",
              "        \n",
              "  <svg xmlns=\"http://www.w3.org/2000/svg\" height=\"24px\"viewBox=\"0 0 24 24\"\n",
              "       width=\"24px\">\n",
              "    <path d=\"M0 0h24v24H0V0z\" fill=\"none\"/>\n",
              "    <path d=\"M18.56 5.44l.94 2.06.94-2.06 2.06-.94-2.06-.94-.94-2.06-.94 2.06-2.06.94zm-11 1L8.5 8.5l.94-2.06 2.06-.94-2.06-.94L8.5 2.5l-.94 2.06-2.06.94zm10 10l.94 2.06.94-2.06 2.06-.94-2.06-.94-.94-2.06-.94 2.06-2.06.94z\"/><path d=\"M17.41 7.96l-1.37-1.37c-.4-.4-.92-.59-1.43-.59-.52 0-1.04.2-1.43.59L10.3 9.45l-7.72 7.72c-.78.78-.78 2.05 0 2.83L4 21.41c.39.39.9.59 1.41.59.51 0 1.02-.2 1.41-.59l7.78-7.78 2.81-2.81c.8-.78.8-2.07 0-2.86zM5.41 20L4 18.59l7.72-7.72 1.47 1.35L5.41 20z\"/>\n",
              "  </svg>\n",
              "      </button>\n",
              "      \n",
              "  <style>\n",
              "    .colab-df-container {\n",
              "      display:flex;\n",
              "      flex-wrap:wrap;\n",
              "      gap: 12px;\n",
              "    }\n",
              "\n",
              "    .colab-df-convert {\n",
              "      background-color: #E8F0FE;\n",
              "      border: none;\n",
              "      border-radius: 50%;\n",
              "      cursor: pointer;\n",
              "      display: none;\n",
              "      fill: #1967D2;\n",
              "      height: 32px;\n",
              "      padding: 0 0 0 0;\n",
              "      width: 32px;\n",
              "    }\n",
              "\n",
              "    .colab-df-convert:hover {\n",
              "      background-color: #E2EBFA;\n",
              "      box-shadow: 0px 1px 2px rgba(60, 64, 67, 0.3), 0px 1px 3px 1px rgba(60, 64, 67, 0.15);\n",
              "      fill: #174EA6;\n",
              "    }\n",
              "\n",
              "    [theme=dark] .colab-df-convert {\n",
              "      background-color: #3B4455;\n",
              "      fill: #D2E3FC;\n",
              "    }\n",
              "\n",
              "    [theme=dark] .colab-df-convert:hover {\n",
              "      background-color: #434B5C;\n",
              "      box-shadow: 0px 1px 3px 1px rgba(0, 0, 0, 0.15);\n",
              "      filter: drop-shadow(0px 1px 2px rgba(0, 0, 0, 0.3));\n",
              "      fill: #FFFFFF;\n",
              "    }\n",
              "  </style>\n",
              "\n",
              "      <script>\n",
              "        const buttonEl =\n",
              "          document.querySelector('#df-361dd83a-32b3-40f0-b787-fdadee11613d button.colab-df-convert');\n",
              "        buttonEl.style.display =\n",
              "          google.colab.kernel.accessAllowed ? 'block' : 'none';\n",
              "\n",
              "        async function convertToInteractive(key) {\n",
              "          const element = document.querySelector('#df-361dd83a-32b3-40f0-b787-fdadee11613d');\n",
              "          const dataTable =\n",
              "            await google.colab.kernel.invokeFunction('convertToInteractive',\n",
              "                                                     [key], {});\n",
              "          if (!dataTable) return;\n",
              "\n",
              "          const docLinkHtml = 'Like what you see? Visit the ' +\n",
              "            '<a target=\"_blank\" href=https://colab.research.google.com/notebooks/data_table.ipynb>data table notebook</a>'\n",
              "            + ' to learn more about interactive tables.';\n",
              "          element.innerHTML = '';\n",
              "          dataTable['output_type'] = 'display_data';\n",
              "          await google.colab.output.renderOutput(dataTable, element);\n",
              "          const docLink = document.createElement('div');\n",
              "          docLink.innerHTML = docLinkHtml;\n",
              "          element.appendChild(docLink);\n",
              "        }\n",
              "      </script>\n",
              "    </div>\n",
              "  </div>\n",
              "  "
            ]
          },
          "metadata": {},
          "execution_count": 84
        }
      ]
    },
    {
      "cell_type": "code",
      "source": [
        "#Model_2\n",
        "tf.random.set_seed(42)\n",
        "insurance_model_2=tf.keras.Sequential([\n",
        "    tf.keras.layers.Dense(100),\n",
        "    tf.keras.layers.Dense(10),\n",
        "    tf.keras.layers.Dense(1)\n",
        "])\n",
        "insurance_model_2.compile(loss=tf.keras.losses.mae,\n",
        "                          optimizer=tf.keras.optimizers.Adam(),\n",
        "                          metrics=[\"mae\"])\n",
        "insurance_model_2.fit(X_train,y_train,epochs=500,verbose=1)"
      ],
      "metadata": {
        "colab": {
          "base_uri": "https://localhost:8080/"
        },
        "id": "7orBzSO1SRyf",
        "outputId": "2fec0513-9aee-4ffd-d338-04168e4eef90"
      },
      "execution_count": null,
      "outputs": [
        {
          "output_type": "stream",
          "name": "stdout",
          "text": [
            "Epoch 1/500\n",
            "34/34 [==============================] - 0s 2ms/step - loss: 13273.1602 - mae: 13273.1602\n",
            "Epoch 2/500\n",
            "34/34 [==============================] - 0s 2ms/step - loss: 13104.4297 - mae: 13104.4297\n",
            "Epoch 3/500\n",
            "34/34 [==============================] - 0s 2ms/step - loss: 12749.5420 - mae: 12749.5420\n",
            "Epoch 4/500\n",
            "34/34 [==============================] - 0s 2ms/step - loss: 12055.7500 - mae: 12055.7500\n",
            "Epoch 5/500\n",
            "34/34 [==============================] - 0s 2ms/step - loss: 10905.8154 - mae: 10905.8154\n",
            "Epoch 6/500\n",
            "34/34 [==============================] - 0s 2ms/step - loss: 9457.7217 - mae: 9457.7217\n",
            "Epoch 7/500\n",
            "34/34 [==============================] - 0s 2ms/step - loss: 8147.6543 - mae: 8147.6543\n",
            "Epoch 8/500\n",
            "34/34 [==============================] - 0s 2ms/step - loss: 7528.8413 - mae: 7528.8413\n",
            "Epoch 9/500\n",
            "34/34 [==============================] - 0s 2ms/step - loss: 7429.1528 - mae: 7429.1528\n",
            "Epoch 10/500\n",
            "34/34 [==============================] - 0s 3ms/step - loss: 7409.0811 - mae: 7409.0811\n",
            "Epoch 11/500\n",
            "34/34 [==============================] - 0s 2ms/step - loss: 7390.8042 - mae: 7390.8042\n",
            "Epoch 12/500\n",
            "34/34 [==============================] - 0s 2ms/step - loss: 7368.9170 - mae: 7368.9170\n",
            "Epoch 13/500\n",
            "34/34 [==============================] - 0s 2ms/step - loss: 7348.5190 - mae: 7348.5190\n",
            "Epoch 14/500\n",
            "34/34 [==============================] - 0s 2ms/step - loss: 7326.4893 - mae: 7326.4893\n",
            "Epoch 15/500\n",
            "34/34 [==============================] - 0s 3ms/step - loss: 7307.5811 - mae: 7307.5811\n",
            "Epoch 16/500\n",
            "34/34 [==============================] - 0s 2ms/step - loss: 7285.7734 - mae: 7285.7734\n",
            "Epoch 17/500\n",
            "34/34 [==============================] - 0s 2ms/step - loss: 7265.7104 - mae: 7265.7104\n",
            "Epoch 18/500\n",
            "34/34 [==============================] - 0s 2ms/step - loss: 7242.5488 - mae: 7242.5488\n",
            "Epoch 19/500\n",
            "34/34 [==============================] - 0s 2ms/step - loss: 7220.5068 - mae: 7220.5068\n",
            "Epoch 20/500\n",
            "34/34 [==============================] - 0s 2ms/step - loss: 7197.1978 - mae: 7197.1978\n",
            "Epoch 21/500\n",
            "34/34 [==============================] - 0s 2ms/step - loss: 7179.0195 - mae: 7179.0195\n",
            "Epoch 22/500\n",
            "34/34 [==============================] - 0s 3ms/step - loss: 7151.2104 - mae: 7151.2104\n",
            "Epoch 23/500\n",
            "34/34 [==============================] - 0s 2ms/step - loss: 7126.4639 - mae: 7126.4639\n",
            "Epoch 24/500\n",
            "34/34 [==============================] - 0s 2ms/step - loss: 7101.9199 - mae: 7101.9199\n",
            "Epoch 25/500\n",
            "34/34 [==============================] - 0s 2ms/step - loss: 7084.3379 - mae: 7084.3379\n",
            "Epoch 26/500\n",
            "34/34 [==============================] - 0s 2ms/step - loss: 7052.3291 - mae: 7052.3291\n",
            "Epoch 27/500\n",
            "34/34 [==============================] - 0s 2ms/step - loss: 7024.3511 - mae: 7024.3511\n",
            "Epoch 28/500\n",
            "34/34 [==============================] - 0s 3ms/step - loss: 6996.6963 - mae: 6996.6963\n",
            "Epoch 29/500\n",
            "34/34 [==============================] - 0s 2ms/step - loss: 6969.0112 - mae: 6969.0112\n",
            "Epoch 30/500\n",
            "34/34 [==============================] - 0s 2ms/step - loss: 6942.1899 - mae: 6942.1899\n",
            "Epoch 31/500\n",
            "34/34 [==============================] - 0s 2ms/step - loss: 6911.7280 - mae: 6911.7280\n",
            "Epoch 32/500\n",
            "34/34 [==============================] - 0s 2ms/step - loss: 6884.0205 - mae: 6884.0205\n",
            "Epoch 33/500\n",
            "34/34 [==============================] - 0s 2ms/step - loss: 6853.4648 - mae: 6853.4648\n",
            "Epoch 34/500\n",
            "34/34 [==============================] - 0s 2ms/step - loss: 6823.0674 - mae: 6823.0674\n",
            "Epoch 35/500\n",
            "34/34 [==============================] - 0s 2ms/step - loss: 6789.6855 - mae: 6789.6855\n",
            "Epoch 36/500\n",
            "34/34 [==============================] - 0s 2ms/step - loss: 6755.7646 - mae: 6755.7646\n",
            "Epoch 37/500\n",
            "34/34 [==============================] - 0s 2ms/step - loss: 6720.2026 - mae: 6720.2026\n",
            "Epoch 38/500\n",
            "34/34 [==============================] - 0s 2ms/step - loss: 6689.7158 - mae: 6689.7158\n",
            "Epoch 39/500\n",
            "34/34 [==============================] - 0s 2ms/step - loss: 6652.4609 - mae: 6652.4609\n",
            "Epoch 40/500\n",
            "34/34 [==============================] - 0s 2ms/step - loss: 6618.1016 - mae: 6618.1016\n",
            "Epoch 41/500\n",
            "34/34 [==============================] - 0s 2ms/step - loss: 6585.8633 - mae: 6585.8633\n",
            "Epoch 42/500\n",
            "34/34 [==============================] - 0s 2ms/step - loss: 6559.4956 - mae: 6559.4956\n",
            "Epoch 43/500\n",
            "34/34 [==============================] - 0s 2ms/step - loss: 6530.0439 - mae: 6530.0439\n",
            "Epoch 44/500\n",
            "34/34 [==============================] - 0s 2ms/step - loss: 6506.8066 - mae: 6506.8066\n",
            "Epoch 45/500\n",
            "34/34 [==============================] - 0s 2ms/step - loss: 6493.5718 - mae: 6493.5718\n",
            "Epoch 46/500\n",
            "34/34 [==============================] - 0s 2ms/step - loss: 6475.9258 - mae: 6475.9258\n",
            "Epoch 47/500\n",
            "34/34 [==============================] - 0s 2ms/step - loss: 6458.8979 - mae: 6458.8979\n",
            "Epoch 48/500\n",
            "34/34 [==============================] - 0s 2ms/step - loss: 6445.1494 - mae: 6445.1494\n",
            "Epoch 49/500\n",
            "34/34 [==============================] - 0s 2ms/step - loss: 6430.9639 - mae: 6430.9639\n",
            "Epoch 50/500\n",
            "34/34 [==============================] - 0s 2ms/step - loss: 6417.7510 - mae: 6417.7510\n",
            "Epoch 51/500\n",
            "34/34 [==============================] - 0s 2ms/step - loss: 6403.2759 - mae: 6403.2759\n",
            "Epoch 52/500\n",
            "34/34 [==============================] - 0s 2ms/step - loss: 6392.4141 - mae: 6392.4141\n",
            "Epoch 53/500\n",
            "34/34 [==============================] - 0s 2ms/step - loss: 6378.7451 - mae: 6378.7451\n",
            "Epoch 54/500\n",
            "34/34 [==============================] - 0s 2ms/step - loss: 6364.9131 - mae: 6364.9131\n",
            "Epoch 55/500\n",
            "34/34 [==============================] - 0s 2ms/step - loss: 6351.5273 - mae: 6351.5273\n",
            "Epoch 56/500\n",
            "34/34 [==============================] - 0s 2ms/step - loss: 6337.6602 - mae: 6337.6602\n",
            "Epoch 57/500\n",
            "34/34 [==============================] - 0s 2ms/step - loss: 6324.8369 - mae: 6324.8369\n",
            "Epoch 58/500\n",
            "34/34 [==============================] - 0s 2ms/step - loss: 6310.1943 - mae: 6310.1943\n",
            "Epoch 59/500\n",
            "34/34 [==============================] - 0s 2ms/step - loss: 6295.6035 - mae: 6295.6035\n",
            "Epoch 60/500\n",
            "34/34 [==============================] - 0s 2ms/step - loss: 6284.8696 - mae: 6284.8696\n",
            "Epoch 61/500\n",
            "34/34 [==============================] - 0s 2ms/step - loss: 6265.6411 - mae: 6265.6411\n",
            "Epoch 62/500\n",
            "34/34 [==============================] - 0s 3ms/step - loss: 6253.0112 - mae: 6253.0112\n",
            "Epoch 63/500\n",
            "34/34 [==============================] - 0s 2ms/step - loss: 6234.9292 - mae: 6234.9292\n",
            "Epoch 64/500\n",
            "34/34 [==============================] - 0s 2ms/step - loss: 6218.0435 - mae: 6218.0435\n",
            "Epoch 65/500\n",
            "34/34 [==============================] - 0s 2ms/step - loss: 6201.1899 - mae: 6201.1899\n",
            "Epoch 66/500\n",
            "34/34 [==============================] - 0s 2ms/step - loss: 6183.9590 - mae: 6183.9590\n",
            "Epoch 67/500\n",
            "34/34 [==============================] - 0s 2ms/step - loss: 6171.2993 - mae: 6171.2993\n",
            "Epoch 68/500\n",
            "34/34 [==============================] - 0s 2ms/step - loss: 6148.8398 - mae: 6148.8398\n",
            "Epoch 69/500\n",
            "34/34 [==============================] - 0s 2ms/step - loss: 6132.5981 - mae: 6132.5981\n",
            "Epoch 70/500\n",
            "34/34 [==============================] - 0s 2ms/step - loss: 6112.3853 - mae: 6112.3853\n",
            "Epoch 71/500\n",
            "34/34 [==============================] - 0s 2ms/step - loss: 6092.7202 - mae: 6092.7202\n",
            "Epoch 72/500\n",
            "34/34 [==============================] - 0s 2ms/step - loss: 6073.7422 - mae: 6073.7422\n",
            "Epoch 73/500\n",
            "34/34 [==============================] - 0s 2ms/step - loss: 6059.4873 - mae: 6059.4873\n",
            "Epoch 74/500\n",
            "34/34 [==============================] - 0s 2ms/step - loss: 6031.3848 - mae: 6031.3848\n",
            "Epoch 75/500\n",
            "34/34 [==============================] - 0s 2ms/step - loss: 6010.3350 - mae: 6010.3350\n",
            "Epoch 76/500\n",
            "34/34 [==============================] - 0s 2ms/step - loss: 5995.2178 - mae: 5995.2178\n",
            "Epoch 77/500\n",
            "34/34 [==============================] - 0s 2ms/step - loss: 5963.0723 - mae: 5963.0723\n",
            "Epoch 78/500\n",
            "34/34 [==============================] - 0s 2ms/step - loss: 5940.0605 - mae: 5940.0605\n",
            "Epoch 79/500\n",
            "34/34 [==============================] - 0s 2ms/step - loss: 5915.1064 - mae: 5915.1064\n",
            "Epoch 80/500\n",
            "34/34 [==============================] - 0s 2ms/step - loss: 5887.9990 - mae: 5887.9990\n",
            "Epoch 81/500\n",
            "34/34 [==============================] - 0s 2ms/step - loss: 5861.6992 - mae: 5861.6992\n",
            "Epoch 82/500\n",
            "34/34 [==============================] - 0s 2ms/step - loss: 5834.3066 - mae: 5834.3066\n",
            "Epoch 83/500\n",
            "34/34 [==============================] - 0s 2ms/step - loss: 5805.8237 - mae: 5805.8237\n",
            "Epoch 84/500\n",
            "34/34 [==============================] - 0s 2ms/step - loss: 5772.3232 - mae: 5772.3232\n",
            "Epoch 85/500\n",
            "34/34 [==============================] - 0s 2ms/step - loss: 5745.1514 - mae: 5745.1514\n",
            "Epoch 86/500\n",
            "34/34 [==============================] - 0s 2ms/step - loss: 5711.3477 - mae: 5711.3477\n",
            "Epoch 87/500\n",
            "34/34 [==============================] - 0s 2ms/step - loss: 5674.5215 - mae: 5674.5215\n",
            "Epoch 88/500\n",
            "34/34 [==============================] - 0s 2ms/step - loss: 5639.4927 - mae: 5639.4927\n",
            "Epoch 89/500\n",
            "34/34 [==============================] - 0s 2ms/step - loss: 5600.6655 - mae: 5600.6655\n",
            "Epoch 90/500\n",
            "34/34 [==============================] - 0s 2ms/step - loss: 5559.4326 - mae: 5559.4326\n",
            "Epoch 91/500\n",
            "34/34 [==============================] - 0s 2ms/step - loss: 5523.6187 - mae: 5523.6187\n",
            "Epoch 92/500\n",
            "34/34 [==============================] - 0s 2ms/step - loss: 5474.1250 - mae: 5474.1250\n",
            "Epoch 93/500\n",
            "34/34 [==============================] - 0s 2ms/step - loss: 5432.2656 - mae: 5432.2656\n",
            "Epoch 94/500\n",
            "34/34 [==============================] - 0s 2ms/step - loss: 5386.0527 - mae: 5386.0527\n",
            "Epoch 95/500\n",
            "34/34 [==============================] - 0s 2ms/step - loss: 5333.1812 - mae: 5333.1812\n",
            "Epoch 96/500\n",
            "34/34 [==============================] - 0s 2ms/step - loss: 5288.8159 - mae: 5288.8159\n",
            "Epoch 97/500\n",
            "34/34 [==============================] - 0s 2ms/step - loss: 5234.6792 - mae: 5234.6792\n",
            "Epoch 98/500\n",
            "34/34 [==============================] - 0s 2ms/step - loss: 5170.9360 - mae: 5170.9360\n",
            "Epoch 99/500\n",
            "34/34 [==============================] - 0s 2ms/step - loss: 5112.9443 - mae: 5112.9443\n",
            "Epoch 100/500\n",
            "34/34 [==============================] - 0s 2ms/step - loss: 5059.8643 - mae: 5059.8643\n",
            "Epoch 101/500\n",
            "34/34 [==============================] - 0s 2ms/step - loss: 4987.6191 - mae: 4987.6191\n",
            "Epoch 102/500\n",
            "34/34 [==============================] - 0s 2ms/step - loss: 4915.2905 - mae: 4915.2905\n",
            "Epoch 103/500\n",
            "34/34 [==============================] - 0s 2ms/step - loss: 4847.3604 - mae: 4847.3604\n",
            "Epoch 104/500\n",
            "34/34 [==============================] - 0s 2ms/step - loss: 4768.0151 - mae: 4768.0151\n",
            "Epoch 105/500\n",
            "34/34 [==============================] - 0s 2ms/step - loss: 4683.4727 - mae: 4683.4727\n",
            "Epoch 106/500\n",
            "34/34 [==============================] - 0s 2ms/step - loss: 4600.5054 - mae: 4600.5054\n",
            "Epoch 107/500\n",
            "34/34 [==============================] - 0s 2ms/step - loss: 4513.1436 - mae: 4513.1436\n",
            "Epoch 108/500\n",
            "34/34 [==============================] - 0s 2ms/step - loss: 4422.2983 - mae: 4422.2983\n",
            "Epoch 109/500\n",
            "34/34 [==============================] - 0s 2ms/step - loss: 4339.9600 - mae: 4339.9600\n",
            "Epoch 110/500\n",
            "34/34 [==============================] - 0s 2ms/step - loss: 4254.3916 - mae: 4254.3916\n",
            "Epoch 111/500\n",
            "34/34 [==============================] - 0s 2ms/step - loss: 4173.1797 - mae: 4173.1797\n",
            "Epoch 112/500\n",
            "34/34 [==============================] - 0s 2ms/step - loss: 4102.2944 - mae: 4102.2944\n",
            "Epoch 113/500\n",
            "34/34 [==============================] - 0s 3ms/step - loss: 4031.9590 - mae: 4031.9590\n",
            "Epoch 114/500\n",
            "34/34 [==============================] - 0s 2ms/step - loss: 3986.0220 - mae: 3986.0220\n",
            "Epoch 115/500\n",
            "34/34 [==============================] - 0s 2ms/step - loss: 3943.2346 - mae: 3943.2346\n",
            "Epoch 116/500\n",
            "34/34 [==============================] - 0s 2ms/step - loss: 3918.8977 - mae: 3918.8977\n",
            "Epoch 117/500\n",
            "34/34 [==============================] - 0s 2ms/step - loss: 3895.5610 - mae: 3895.5610\n",
            "Epoch 118/500\n",
            "34/34 [==============================] - 0s 2ms/step - loss: 3869.5679 - mae: 3869.5679\n",
            "Epoch 119/500\n",
            "34/34 [==============================] - 0s 2ms/step - loss: 3850.2136 - mae: 3850.2136\n",
            "Epoch 120/500\n",
            "34/34 [==============================] - 0s 2ms/step - loss: 3834.7349 - mae: 3834.7349\n",
            "Epoch 121/500\n",
            "34/34 [==============================] - 0s 2ms/step - loss: 3827.0952 - mae: 3827.0952\n",
            "Epoch 122/500\n",
            "34/34 [==============================] - 0s 3ms/step - loss: 3821.6382 - mae: 3821.6382\n",
            "Epoch 123/500\n",
            "34/34 [==============================] - 0s 2ms/step - loss: 3813.8315 - mae: 3813.8315\n",
            "Epoch 124/500\n",
            "34/34 [==============================] - 0s 2ms/step - loss: 3805.7307 - mae: 3805.7307\n",
            "Epoch 125/500\n",
            "34/34 [==============================] - 0s 2ms/step - loss: 3794.7085 - mae: 3794.7085\n",
            "Epoch 126/500\n",
            "34/34 [==============================] - 0s 2ms/step - loss: 3804.4946 - mae: 3804.4946\n",
            "Epoch 127/500\n",
            "34/34 [==============================] - 0s 2ms/step - loss: 3796.0596 - mae: 3796.0596\n",
            "Epoch 128/500\n",
            "34/34 [==============================] - 0s 2ms/step - loss: 3791.0422 - mae: 3791.0422\n",
            "Epoch 129/500\n",
            "34/34 [==============================] - 0s 2ms/step - loss: 3800.0696 - mae: 3800.0696\n",
            "Epoch 130/500\n",
            "34/34 [==============================] - 0s 2ms/step - loss: 3788.5005 - mae: 3788.5005\n",
            "Epoch 131/500\n",
            "34/34 [==============================] - 0s 2ms/step - loss: 3780.8442 - mae: 3780.8442\n",
            "Epoch 132/500\n",
            "34/34 [==============================] - 0s 2ms/step - loss: 3774.5413 - mae: 3774.5413\n",
            "Epoch 133/500\n",
            "34/34 [==============================] - 0s 2ms/step - loss: 3771.0156 - mae: 3771.0156\n",
            "Epoch 134/500\n",
            "34/34 [==============================] - 0s 2ms/step - loss: 3769.3762 - mae: 3769.3762\n",
            "Epoch 135/500\n",
            "34/34 [==============================] - 0s 2ms/step - loss: 3766.7612 - mae: 3766.7612\n",
            "Epoch 136/500\n",
            "34/34 [==============================] - 0s 2ms/step - loss: 3765.5510 - mae: 3765.5510\n",
            "Epoch 137/500\n",
            "34/34 [==============================] - 0s 2ms/step - loss: 3774.5034 - mae: 3774.5034\n",
            "Epoch 138/500\n",
            "34/34 [==============================] - 0s 2ms/step - loss: 3785.3909 - mae: 3785.3909\n",
            "Epoch 139/500\n",
            "34/34 [==============================] - 0s 2ms/step - loss: 3761.1299 - mae: 3761.1299\n",
            "Epoch 140/500\n",
            "34/34 [==============================] - 0s 2ms/step - loss: 3764.1753 - mae: 3764.1753\n",
            "Epoch 141/500\n",
            "34/34 [==============================] - 0s 2ms/step - loss: 3763.9250 - mae: 3763.9250\n",
            "Epoch 142/500\n",
            "34/34 [==============================] - 0s 2ms/step - loss: 3762.7959 - mae: 3762.7959\n",
            "Epoch 143/500\n",
            "34/34 [==============================] - 0s 2ms/step - loss: 3754.4397 - mae: 3754.4397\n",
            "Epoch 144/500\n",
            "34/34 [==============================] - 0s 2ms/step - loss: 3750.3347 - mae: 3750.3347\n",
            "Epoch 145/500\n",
            "34/34 [==============================] - 0s 2ms/step - loss: 3750.4006 - mae: 3750.4006\n",
            "Epoch 146/500\n",
            "34/34 [==============================] - 0s 2ms/step - loss: 3755.4736 - mae: 3755.4736\n",
            "Epoch 147/500\n",
            "34/34 [==============================] - 0s 2ms/step - loss: 3750.3223 - mae: 3750.3223\n",
            "Epoch 148/500\n",
            "34/34 [==============================] - 0s 3ms/step - loss: 3758.1089 - mae: 3758.1089\n",
            "Epoch 149/500\n",
            "34/34 [==============================] - 0s 2ms/step - loss: 3743.4858 - mae: 3743.4858\n",
            "Epoch 150/500\n",
            "34/34 [==============================] - 0s 2ms/step - loss: 3738.5342 - mae: 3738.5342\n",
            "Epoch 151/500\n",
            "34/34 [==============================] - 0s 2ms/step - loss: 3740.1384 - mae: 3740.1384\n",
            "Epoch 152/500\n",
            "34/34 [==============================] - 0s 2ms/step - loss: 3742.4954 - mae: 3742.4954\n",
            "Epoch 153/500\n",
            "34/34 [==============================] - 0s 2ms/step - loss: 3744.4395 - mae: 3744.4395\n",
            "Epoch 154/500\n",
            "34/34 [==============================] - 0s 3ms/step - loss: 3737.1826 - mae: 3737.1826\n",
            "Epoch 155/500\n",
            "34/34 [==============================] - 0s 2ms/step - loss: 3737.6541 - mae: 3737.6541\n",
            "Epoch 156/500\n",
            "34/34 [==============================] - 0s 2ms/step - loss: 3737.1663 - mae: 3737.1663\n",
            "Epoch 157/500\n",
            "34/34 [==============================] - 0s 2ms/step - loss: 3733.1101 - mae: 3733.1101\n",
            "Epoch 158/500\n",
            "34/34 [==============================] - 0s 2ms/step - loss: 3729.5813 - mae: 3729.5813\n",
            "Epoch 159/500\n",
            "34/34 [==============================] - 0s 2ms/step - loss: 3725.9053 - mae: 3725.9053\n",
            "Epoch 160/500\n",
            "34/34 [==============================] - 0s 3ms/step - loss: 3733.2822 - mae: 3733.2822\n",
            "Epoch 161/500\n",
            "34/34 [==============================] - 0s 2ms/step - loss: 3728.2559 - mae: 3728.2559\n",
            "Epoch 162/500\n",
            "34/34 [==============================] - 0s 2ms/step - loss: 3724.5825 - mae: 3724.5825\n",
            "Epoch 163/500\n",
            "34/34 [==============================] - 0s 2ms/step - loss: 3723.0806 - mae: 3723.0806\n",
            "Epoch 164/500\n",
            "34/34 [==============================] - 0s 2ms/step - loss: 3726.9475 - mae: 3726.9475\n",
            "Epoch 165/500\n",
            "34/34 [==============================] - 0s 2ms/step - loss: 3716.5430 - mae: 3716.5430\n",
            "Epoch 166/500\n",
            "34/34 [==============================] - 0s 2ms/step - loss: 3721.9155 - mae: 3721.9155\n",
            "Epoch 167/500\n",
            "34/34 [==============================] - 0s 2ms/step - loss: 3721.1814 - mae: 3721.1814\n",
            "Epoch 168/500\n",
            "34/34 [==============================] - 0s 2ms/step - loss: 3715.2458 - mae: 3715.2458\n",
            "Epoch 169/500\n",
            "34/34 [==============================] - 0s 2ms/step - loss: 3713.9756 - mae: 3713.9756\n",
            "Epoch 170/500\n",
            "34/34 [==============================] - 0s 2ms/step - loss: 3707.9922 - mae: 3707.9922\n",
            "Epoch 171/500\n",
            "34/34 [==============================] - 0s 2ms/step - loss: 3707.4158 - mae: 3707.4158\n",
            "Epoch 172/500\n",
            "34/34 [==============================] - 0s 2ms/step - loss: 3710.6833 - mae: 3710.6833\n",
            "Epoch 173/500\n",
            "34/34 [==============================] - 0s 2ms/step - loss: 3703.3618 - mae: 3703.3618\n",
            "Epoch 174/500\n",
            "34/34 [==============================] - 0s 2ms/step - loss: 3710.9385 - mae: 3710.9385\n",
            "Epoch 175/500\n",
            "34/34 [==============================] - 0s 2ms/step - loss: 3713.0417 - mae: 3713.0417\n",
            "Epoch 176/500\n",
            "34/34 [==============================] - 0s 2ms/step - loss: 3705.0571 - mae: 3705.0571\n",
            "Epoch 177/500\n",
            "34/34 [==============================] - 0s 2ms/step - loss: 3698.9333 - mae: 3698.9333\n",
            "Epoch 178/500\n",
            "34/34 [==============================] - 0s 2ms/step - loss: 3697.9983 - mae: 3697.9983\n",
            "Epoch 179/500\n",
            "34/34 [==============================] - 0s 2ms/step - loss: 3704.9150 - mae: 3704.9150\n",
            "Epoch 180/500\n",
            "34/34 [==============================] - 0s 2ms/step - loss: 3710.3679 - mae: 3710.3679\n",
            "Epoch 181/500\n",
            "34/34 [==============================] - 0s 2ms/step - loss: 3696.6482 - mae: 3696.6482\n",
            "Epoch 182/500\n",
            "34/34 [==============================] - 0s 2ms/step - loss: 3692.7329 - mae: 3692.7329\n",
            "Epoch 183/500\n",
            "34/34 [==============================] - 0s 2ms/step - loss: 3691.1655 - mae: 3691.1655\n",
            "Epoch 184/500\n",
            "34/34 [==============================] - 0s 3ms/step - loss: 3699.2437 - mae: 3699.2437\n",
            "Epoch 185/500\n",
            "34/34 [==============================] - 0s 2ms/step - loss: 3693.2480 - mae: 3693.2480\n",
            "Epoch 186/500\n",
            "34/34 [==============================] - 0s 2ms/step - loss: 3696.1389 - mae: 3696.1389\n",
            "Epoch 187/500\n",
            "34/34 [==============================] - 0s 2ms/step - loss: 3687.8640 - mae: 3687.8640\n",
            "Epoch 188/500\n",
            "34/34 [==============================] - 0s 2ms/step - loss: 3693.3562 - mae: 3693.3562\n",
            "Epoch 189/500\n",
            "34/34 [==============================] - 0s 2ms/step - loss: 3682.7324 - mae: 3682.7324\n",
            "Epoch 190/500\n",
            "34/34 [==============================] - 0s 2ms/step - loss: 3683.2891 - mae: 3683.2891\n",
            "Epoch 191/500\n",
            "34/34 [==============================] - 0s 2ms/step - loss: 3697.6536 - mae: 3697.6536\n",
            "Epoch 192/500\n",
            "34/34 [==============================] - 0s 2ms/step - loss: 3684.6665 - mae: 3684.6665\n",
            "Epoch 193/500\n",
            "34/34 [==============================] - 0s 2ms/step - loss: 3675.5154 - mae: 3675.5154\n",
            "Epoch 194/500\n",
            "34/34 [==============================] - 0s 2ms/step - loss: 3676.3923 - mae: 3676.3923\n",
            "Epoch 195/500\n",
            "34/34 [==============================] - 0s 2ms/step - loss: 3672.8452 - mae: 3672.8452\n",
            "Epoch 196/500\n",
            "34/34 [==============================] - 0s 2ms/step - loss: 3682.0283 - mae: 3682.0283\n",
            "Epoch 197/500\n",
            "34/34 [==============================] - 0s 2ms/step - loss: 3665.7961 - mae: 3665.7961\n",
            "Epoch 198/500\n",
            "34/34 [==============================] - 0s 2ms/step - loss: 3671.7419 - mae: 3671.7419\n",
            "Epoch 199/500\n",
            "34/34 [==============================] - 0s 2ms/step - loss: 3680.5464 - mae: 3680.5464\n",
            "Epoch 200/500\n",
            "34/34 [==============================] - 0s 2ms/step - loss: 3665.6401 - mae: 3665.6401\n",
            "Epoch 201/500\n",
            "34/34 [==============================] - 0s 2ms/step - loss: 3664.7283 - mae: 3664.7283\n",
            "Epoch 202/500\n",
            "34/34 [==============================] - 0s 2ms/step - loss: 3664.4663 - mae: 3664.4663\n",
            "Epoch 203/500\n",
            "34/34 [==============================] - 0s 2ms/step - loss: 3663.0562 - mae: 3663.0562\n",
            "Epoch 204/500\n",
            "34/34 [==============================] - 0s 2ms/step - loss: 3655.0967 - mae: 3655.0967\n",
            "Epoch 205/500\n",
            "34/34 [==============================] - 0s 2ms/step - loss: 3663.9702 - mae: 3663.9702\n",
            "Epoch 206/500\n",
            "34/34 [==============================] - 0s 2ms/step - loss: 3657.8708 - mae: 3657.8708\n",
            "Epoch 207/500\n",
            "34/34 [==============================] - 0s 2ms/step - loss: 3656.2446 - mae: 3656.2446\n",
            "Epoch 208/500\n",
            "34/34 [==============================] - 0s 2ms/step - loss: 3653.7644 - mae: 3653.7644\n",
            "Epoch 209/500\n",
            "34/34 [==============================] - 0s 2ms/step - loss: 3653.3008 - mae: 3653.3008\n",
            "Epoch 210/500\n",
            "34/34 [==============================] - 0s 2ms/step - loss: 3654.8423 - mae: 3654.8423\n",
            "Epoch 211/500\n",
            "34/34 [==============================] - 0s 2ms/step - loss: 3655.9434 - mae: 3655.9434\n",
            "Epoch 212/500\n",
            "34/34 [==============================] - 0s 2ms/step - loss: 3672.0022 - mae: 3672.0022\n",
            "Epoch 213/500\n",
            "34/34 [==============================] - 0s 2ms/step - loss: 3656.8813 - mae: 3656.8813\n",
            "Epoch 214/500\n",
            "34/34 [==============================] - 0s 2ms/step - loss: 3676.4402 - mae: 3676.4402\n",
            "Epoch 215/500\n",
            "34/34 [==============================] - 0s 2ms/step - loss: 3652.4204 - mae: 3652.4204\n",
            "Epoch 216/500\n",
            "34/34 [==============================] - 0s 2ms/step - loss: 3644.3799 - mae: 3644.3799\n",
            "Epoch 217/500\n",
            "34/34 [==============================] - 0s 2ms/step - loss: 3646.7351 - mae: 3646.7351\n",
            "Epoch 218/500\n",
            "34/34 [==============================] - 0s 2ms/step - loss: 3642.8015 - mae: 3642.8015\n",
            "Epoch 219/500\n",
            "34/34 [==============================] - 0s 2ms/step - loss: 3653.9639 - mae: 3653.9639\n",
            "Epoch 220/500\n",
            "34/34 [==============================] - 0s 2ms/step - loss: 3639.4590 - mae: 3639.4590\n",
            "Epoch 221/500\n",
            "34/34 [==============================] - 0s 2ms/step - loss: 3643.2046 - mae: 3643.2046\n",
            "Epoch 222/500\n",
            "34/34 [==============================] - 0s 2ms/step - loss: 3649.1143 - mae: 3649.1143\n",
            "Epoch 223/500\n",
            "34/34 [==============================] - 0s 2ms/step - loss: 3633.1921 - mae: 3633.1921\n",
            "Epoch 224/500\n",
            "34/34 [==============================] - 0s 2ms/step - loss: 3636.7673 - mae: 3636.7673\n",
            "Epoch 225/500\n",
            "34/34 [==============================] - 0s 2ms/step - loss: 3631.1479 - mae: 3631.1479\n",
            "Epoch 226/500\n",
            "34/34 [==============================] - 0s 2ms/step - loss: 3626.8916 - mae: 3626.8916\n",
            "Epoch 227/500\n",
            "34/34 [==============================] - 0s 2ms/step - loss: 3621.6331 - mae: 3621.6331\n",
            "Epoch 228/500\n",
            "34/34 [==============================] - 0s 2ms/step - loss: 3631.5535 - mae: 3631.5535\n",
            "Epoch 229/500\n",
            "34/34 [==============================] - 0s 2ms/step - loss: 3630.4858 - mae: 3630.4858\n",
            "Epoch 230/500\n",
            "34/34 [==============================] - 0s 2ms/step - loss: 3617.2891 - mae: 3617.2891\n",
            "Epoch 231/500\n",
            "34/34 [==============================] - 0s 2ms/step - loss: 3615.4753 - mae: 3615.4753\n",
            "Epoch 232/500\n",
            "34/34 [==============================] - 0s 2ms/step - loss: 3612.7854 - mae: 3612.7854\n",
            "Epoch 233/500\n",
            "34/34 [==============================] - 0s 2ms/step - loss: 3611.3074 - mae: 3611.3074\n",
            "Epoch 234/500\n",
            "34/34 [==============================] - 0s 3ms/step - loss: 3624.4998 - mae: 3624.4998\n",
            "Epoch 235/500\n",
            "34/34 [==============================] - 0s 2ms/step - loss: 3625.5149 - mae: 3625.5149\n",
            "Epoch 236/500\n",
            "34/34 [==============================] - 0s 2ms/step - loss: 3616.0054 - mae: 3616.0054\n",
            "Epoch 237/500\n",
            "34/34 [==============================] - 0s 2ms/step - loss: 3618.5925 - mae: 3618.5925\n",
            "Epoch 238/500\n",
            "34/34 [==============================] - 0s 2ms/step - loss: 3597.6370 - mae: 3597.6370\n",
            "Epoch 239/500\n",
            "34/34 [==============================] - 0s 2ms/step - loss: 3606.0518 - mae: 3606.0518\n",
            "Epoch 240/500\n",
            "34/34 [==============================] - 0s 2ms/step - loss: 3604.4333 - mae: 3604.4333\n",
            "Epoch 241/500\n",
            "34/34 [==============================] - 0s 2ms/step - loss: 3598.9114 - mae: 3598.9114\n",
            "Epoch 242/500\n",
            "34/34 [==============================] - 0s 2ms/step - loss: 3596.6577 - mae: 3596.6577\n",
            "Epoch 243/500\n",
            "34/34 [==============================] - 0s 2ms/step - loss: 3592.3105 - mae: 3592.3105\n",
            "Epoch 244/500\n",
            "34/34 [==============================] - 0s 2ms/step - loss: 3606.5950 - mae: 3606.5950\n",
            "Epoch 245/500\n",
            "34/34 [==============================] - 0s 2ms/step - loss: 3590.9053 - mae: 3590.9053\n",
            "Epoch 246/500\n",
            "34/34 [==============================] - 0s 2ms/step - loss: 3585.8945 - mae: 3585.8945\n",
            "Epoch 247/500\n",
            "34/34 [==============================] - 0s 2ms/step - loss: 3585.0798 - mae: 3585.0798\n",
            "Epoch 248/500\n",
            "34/34 [==============================] - 0s 2ms/step - loss: 3599.2827 - mae: 3599.2827\n",
            "Epoch 249/500\n",
            "34/34 [==============================] - 0s 2ms/step - loss: 3585.4707 - mae: 3585.4707\n",
            "Epoch 250/500\n",
            "34/34 [==============================] - 0s 2ms/step - loss: 3579.7139 - mae: 3579.7139\n",
            "Epoch 251/500\n",
            "34/34 [==============================] - 0s 2ms/step - loss: 3577.3928 - mae: 3577.3928\n",
            "Epoch 252/500\n",
            "34/34 [==============================] - 0s 2ms/step - loss: 3580.5137 - mae: 3580.5137\n",
            "Epoch 253/500\n",
            "34/34 [==============================] - 0s 2ms/step - loss: 3575.3125 - mae: 3575.3125\n",
            "Epoch 254/500\n",
            "34/34 [==============================] - 0s 2ms/step - loss: 3572.0474 - mae: 3572.0474\n",
            "Epoch 255/500\n",
            "34/34 [==============================] - 0s 2ms/step - loss: 3566.4463 - mae: 3566.4463\n",
            "Epoch 256/500\n",
            "34/34 [==============================] - 0s 3ms/step - loss: 3572.2180 - mae: 3572.2180\n",
            "Epoch 257/500\n",
            "34/34 [==============================] - 0s 2ms/step - loss: 3567.5842 - mae: 3567.5842\n",
            "Epoch 258/500\n",
            "34/34 [==============================] - 0s 2ms/step - loss: 3586.5842 - mae: 3586.5842\n",
            "Epoch 259/500\n",
            "34/34 [==============================] - 0s 2ms/step - loss: 3562.6982 - mae: 3562.6982\n",
            "Epoch 260/500\n",
            "34/34 [==============================] - 0s 2ms/step - loss: 3565.1277 - mae: 3565.1277\n",
            "Epoch 261/500\n",
            "34/34 [==============================] - 0s 2ms/step - loss: 3565.4133 - mae: 3565.4133\n",
            "Epoch 262/500\n",
            "34/34 [==============================] - 0s 2ms/step - loss: 3560.0479 - mae: 3560.0479\n",
            "Epoch 263/500\n",
            "34/34 [==============================] - 0s 2ms/step - loss: 3560.9795 - mae: 3560.9795\n",
            "Epoch 264/500\n",
            "34/34 [==============================] - 0s 2ms/step - loss: 3559.4487 - mae: 3559.4487\n",
            "Epoch 265/500\n",
            "34/34 [==============================] - 0s 2ms/step - loss: 3558.2920 - mae: 3558.2920\n",
            "Epoch 266/500\n",
            "34/34 [==============================] - 0s 2ms/step - loss: 3558.9316 - mae: 3558.9316\n",
            "Epoch 267/500\n",
            "34/34 [==============================] - 0s 2ms/step - loss: 3558.0767 - mae: 3558.0767\n",
            "Epoch 268/500\n",
            "34/34 [==============================] - 0s 2ms/step - loss: 3550.7830 - mae: 3550.7830\n",
            "Epoch 269/500\n",
            "34/34 [==============================] - 0s 2ms/step - loss: 3557.6301 - mae: 3557.6301\n",
            "Epoch 270/500\n",
            "34/34 [==============================] - 0s 2ms/step - loss: 3545.9753 - mae: 3545.9753\n",
            "Epoch 271/500\n",
            "34/34 [==============================] - 0s 2ms/step - loss: 3548.9944 - mae: 3548.9944\n",
            "Epoch 272/500\n",
            "34/34 [==============================] - 0s 2ms/step - loss: 3542.8513 - mae: 3542.8513\n",
            "Epoch 273/500\n",
            "34/34 [==============================] - 0s 2ms/step - loss: 3543.8042 - mae: 3543.8042\n",
            "Epoch 274/500\n",
            "34/34 [==============================] - 0s 2ms/step - loss: 3541.6685 - mae: 3541.6685\n",
            "Epoch 275/500\n",
            "34/34 [==============================] - 0s 2ms/step - loss: 3538.5771 - mae: 3538.5771\n",
            "Epoch 276/500\n",
            "34/34 [==============================] - 0s 2ms/step - loss: 3542.1555 - mae: 3542.1555\n",
            "Epoch 277/500\n",
            "34/34 [==============================] - 0s 2ms/step - loss: 3539.0789 - mae: 3539.0789\n",
            "Epoch 278/500\n",
            "34/34 [==============================] - 0s 2ms/step - loss: 3539.3350 - mae: 3539.3350\n",
            "Epoch 279/500\n",
            "34/34 [==============================] - 0s 2ms/step - loss: 3539.6960 - mae: 3539.6960\n",
            "Epoch 280/500\n",
            "34/34 [==============================] - 0s 2ms/step - loss: 3532.3438 - mae: 3532.3438\n",
            "Epoch 281/500\n",
            "34/34 [==============================] - 0s 2ms/step - loss: 3539.1404 - mae: 3539.1404\n",
            "Epoch 282/500\n",
            "34/34 [==============================] - 0s 2ms/step - loss: 3530.5645 - mae: 3530.5645\n",
            "Epoch 283/500\n",
            "34/34 [==============================] - 0s 2ms/step - loss: 3536.4604 - mae: 3536.4602\n",
            "Epoch 284/500\n",
            "34/34 [==============================] - 0s 2ms/step - loss: 3529.6218 - mae: 3529.6218\n",
            "Epoch 285/500\n",
            "34/34 [==============================] - 0s 2ms/step - loss: 3528.3076 - mae: 3528.3076\n",
            "Epoch 286/500\n",
            "34/34 [==============================] - 0s 2ms/step - loss: 3523.9958 - mae: 3523.9958\n",
            "Epoch 287/500\n",
            "34/34 [==============================] - 0s 2ms/step - loss: 3522.2058 - mae: 3522.2058\n",
            "Epoch 288/500\n",
            "34/34 [==============================] - 0s 2ms/step - loss: 3521.8447 - mae: 3521.8447\n",
            "Epoch 289/500\n",
            "34/34 [==============================] - 0s 3ms/step - loss: 3523.8564 - mae: 3523.8564\n",
            "Epoch 290/500\n",
            "34/34 [==============================] - 0s 2ms/step - loss: 3526.6807 - mae: 3526.6807\n",
            "Epoch 291/500\n",
            "34/34 [==============================] - 0s 2ms/step - loss: 3529.3877 - mae: 3529.3877\n",
            "Epoch 292/500\n",
            "34/34 [==============================] - 0s 2ms/step - loss: 3529.3960 - mae: 3529.3960\n",
            "Epoch 293/500\n",
            "34/34 [==============================] - 0s 2ms/step - loss: 3518.6306 - mae: 3518.6306\n",
            "Epoch 294/500\n",
            "34/34 [==============================] - 0s 2ms/step - loss: 3525.9136 - mae: 3525.9136\n",
            "Epoch 295/500\n",
            "34/34 [==============================] - 0s 2ms/step - loss: 3532.4136 - mae: 3532.4136\n",
            "Epoch 296/500\n",
            "34/34 [==============================] - 0s 2ms/step - loss: 3516.2791 - mae: 3516.2791\n",
            "Epoch 297/500\n",
            "34/34 [==============================] - 0s 2ms/step - loss: 3507.4697 - mae: 3507.4697\n",
            "Epoch 298/500\n",
            "34/34 [==============================] - 0s 2ms/step - loss: 3515.4614 - mae: 3515.4614\n",
            "Epoch 299/500\n",
            "34/34 [==============================] - 0s 2ms/step - loss: 3523.5278 - mae: 3523.5278\n",
            "Epoch 300/500\n",
            "34/34 [==============================] - 0s 2ms/step - loss: 3510.8652 - mae: 3510.8652\n",
            "Epoch 301/500\n",
            "34/34 [==============================] - 0s 2ms/step - loss: 3508.2097 - mae: 3508.2097\n",
            "Epoch 302/500\n",
            "34/34 [==============================] - 0s 3ms/step - loss: 3532.1104 - mae: 3532.1104\n",
            "Epoch 303/500\n",
            "34/34 [==============================] - 0s 2ms/step - loss: 3531.7095 - mae: 3531.7095\n",
            "Epoch 304/500\n",
            "34/34 [==============================] - 0s 2ms/step - loss: 3507.3794 - mae: 3507.3794\n",
            "Epoch 305/500\n",
            "34/34 [==============================] - 0s 2ms/step - loss: 3501.2781 - mae: 3501.2781\n",
            "Epoch 306/500\n",
            "34/34 [==============================] - 0s 2ms/step - loss: 3501.3896 - mae: 3501.3896\n",
            "Epoch 307/500\n",
            "34/34 [==============================] - 0s 2ms/step - loss: 3499.6365 - mae: 3499.6365\n",
            "Epoch 308/500\n",
            "34/34 [==============================] - 0s 2ms/step - loss: 3501.4143 - mae: 3501.4143\n",
            "Epoch 309/500\n",
            "34/34 [==============================] - 0s 2ms/step - loss: 3495.4399 - mae: 3495.4399\n",
            "Epoch 310/500\n",
            "34/34 [==============================] - 0s 2ms/step - loss: 3499.2012 - mae: 3499.2012\n",
            "Epoch 311/500\n",
            "34/34 [==============================] - 0s 2ms/step - loss: 3502.1523 - mae: 3502.1523\n",
            "Epoch 312/500\n",
            "34/34 [==============================] - 0s 2ms/step - loss: 3495.0142 - mae: 3495.0142\n",
            "Epoch 313/500\n",
            "34/34 [==============================] - 0s 3ms/step - loss: 3488.7329 - mae: 3488.7329\n",
            "Epoch 314/500\n",
            "34/34 [==============================] - 0s 2ms/step - loss: 3489.4199 - mae: 3489.4199\n",
            "Epoch 315/500\n",
            "34/34 [==============================] - 0s 2ms/step - loss: 3495.1230 - mae: 3495.1228\n",
            "Epoch 316/500\n",
            "34/34 [==============================] - 0s 2ms/step - loss: 3484.9150 - mae: 3484.9150\n",
            "Epoch 317/500\n",
            "34/34 [==============================] - 0s 2ms/step - loss: 3484.3386 - mae: 3484.3386\n",
            "Epoch 318/500\n",
            "34/34 [==============================] - 0s 2ms/step - loss: 3484.7136 - mae: 3484.7136\n",
            "Epoch 319/500\n",
            "34/34 [==============================] - 0s 2ms/step - loss: 3486.3879 - mae: 3486.3879\n",
            "Epoch 320/500\n",
            "34/34 [==============================] - 0s 2ms/step - loss: 3491.8506 - mae: 3491.8506\n",
            "Epoch 321/500\n",
            "34/34 [==============================] - 0s 2ms/step - loss: 3494.2039 - mae: 3494.2039\n",
            "Epoch 322/500\n",
            "34/34 [==============================] - 0s 2ms/step - loss: 3493.2793 - mae: 3493.2793\n",
            "Epoch 323/500\n",
            "34/34 [==============================] - 0s 2ms/step - loss: 3482.4905 - mae: 3482.4905\n",
            "Epoch 324/500\n",
            "34/34 [==============================] - 0s 2ms/step - loss: 3484.3352 - mae: 3484.3352\n",
            "Epoch 325/500\n",
            "34/34 [==============================] - 0s 2ms/step - loss: 3480.7219 - mae: 3480.7219\n",
            "Epoch 326/500\n",
            "34/34 [==============================] - 0s 2ms/step - loss: 3482.6960 - mae: 3482.6960\n",
            "Epoch 327/500\n",
            "34/34 [==============================] - 0s 2ms/step - loss: 3480.4868 - mae: 3480.4868\n",
            "Epoch 328/500\n",
            "34/34 [==============================] - 0s 3ms/step - loss: 3491.2876 - mae: 3491.2876\n",
            "Epoch 329/500\n",
            "34/34 [==============================] - 0s 2ms/step - loss: 3501.6528 - mae: 3501.6528\n",
            "Epoch 330/500\n",
            "34/34 [==============================] - 0s 2ms/step - loss: 3477.2646 - mae: 3477.2646\n",
            "Epoch 331/500\n",
            "34/34 [==============================] - 0s 2ms/step - loss: 3482.1172 - mae: 3482.1172\n",
            "Epoch 332/500\n",
            "34/34 [==============================] - 0s 2ms/step - loss: 3482.1191 - mae: 3482.1191\n",
            "Epoch 333/500\n",
            "34/34 [==============================] - 0s 2ms/step - loss: 3479.0779 - mae: 3479.0779\n",
            "Epoch 334/500\n",
            "34/34 [==============================] - 0s 2ms/step - loss: 3477.2524 - mae: 3477.2524\n",
            "Epoch 335/500\n",
            "34/34 [==============================] - 0s 2ms/step - loss: 3476.6477 - mae: 3476.6477\n",
            "Epoch 336/500\n",
            "34/34 [==============================] - 0s 2ms/step - loss: 3481.8936 - mae: 3481.8936\n",
            "Epoch 337/500\n",
            "34/34 [==============================] - 0s 2ms/step - loss: 3482.7107 - mae: 3482.7107\n",
            "Epoch 338/500\n",
            "34/34 [==============================] - 0s 2ms/step - loss: 3491.2981 - mae: 3491.2981\n",
            "Epoch 339/500\n",
            "34/34 [==============================] - 0s 2ms/step - loss: 3479.4216 - mae: 3479.4216\n",
            "Epoch 340/500\n",
            "34/34 [==============================] - 0s 3ms/step - loss: 3480.0850 - mae: 3480.0850\n",
            "Epoch 341/500\n",
            "34/34 [==============================] - 0s 2ms/step - loss: 3478.7634 - mae: 3478.7634\n",
            "Epoch 342/500\n",
            "34/34 [==============================] - 0s 2ms/step - loss: 3488.6875 - mae: 3488.6875\n",
            "Epoch 343/500\n",
            "34/34 [==============================] - 0s 2ms/step - loss: 3479.2739 - mae: 3479.2739\n",
            "Epoch 344/500\n",
            "34/34 [==============================] - 0s 2ms/step - loss: 3480.1575 - mae: 3480.1575\n",
            "Epoch 345/500\n",
            "34/34 [==============================] - 0s 2ms/step - loss: 3482.7446 - mae: 3482.7446\n",
            "Epoch 346/500\n",
            "34/34 [==============================] - 0s 2ms/step - loss: 3486.8452 - mae: 3486.8452\n",
            "Epoch 347/500\n",
            "34/34 [==============================] - 0s 3ms/step - loss: 3479.1033 - mae: 3479.1033\n",
            "Epoch 348/500\n",
            "34/34 [==============================] - 0s 2ms/step - loss: 3476.6116 - mae: 3476.6116\n",
            "Epoch 349/500\n",
            "34/34 [==============================] - 0s 2ms/step - loss: 3483.4902 - mae: 3483.4902\n",
            "Epoch 350/500\n",
            "34/34 [==============================] - 0s 3ms/step - loss: 3481.8535 - mae: 3481.8535\n",
            "Epoch 351/500\n",
            "34/34 [==============================] - 0s 2ms/step - loss: 3483.2896 - mae: 3483.2896\n",
            "Epoch 352/500\n",
            "34/34 [==============================] - 0s 2ms/step - loss: 3480.8110 - mae: 3480.8110\n",
            "Epoch 353/500\n",
            "34/34 [==============================] - 0s 2ms/step - loss: 3494.8472 - mae: 3494.8472\n",
            "Epoch 354/500\n",
            "34/34 [==============================] - 0s 2ms/step - loss: 3477.5439 - mae: 3477.5439\n",
            "Epoch 355/500\n",
            "34/34 [==============================] - 0s 2ms/step - loss: 3475.4348 - mae: 3475.4348\n",
            "Epoch 356/500\n",
            "34/34 [==============================] - 0s 2ms/step - loss: 3486.5986 - mae: 3486.5986\n",
            "Epoch 357/500\n",
            "34/34 [==============================] - 0s 3ms/step - loss: 3477.2898 - mae: 3477.2898\n",
            "Epoch 358/500\n",
            "34/34 [==============================] - 0s 2ms/step - loss: 3484.8850 - mae: 3484.8850\n",
            "Epoch 359/500\n",
            "34/34 [==============================] - 0s 2ms/step - loss: 3504.3792 - mae: 3504.3792\n",
            "Epoch 360/500\n",
            "34/34 [==============================] - 0s 2ms/step - loss: 3480.4917 - mae: 3480.4917\n",
            "Epoch 361/500\n",
            "34/34 [==============================] - 0s 3ms/step - loss: 3480.9226 - mae: 3480.9226\n",
            "Epoch 362/500\n",
            "34/34 [==============================] - 0s 2ms/step - loss: 3484.1067 - mae: 3484.1067\n",
            "Epoch 363/500\n",
            "34/34 [==============================] - 0s 2ms/step - loss: 3482.5081 - mae: 3482.5081\n",
            "Epoch 364/500\n",
            "34/34 [==============================] - 0s 2ms/step - loss: 3500.5762 - mae: 3500.5762\n",
            "Epoch 365/500\n",
            "34/34 [==============================] - 0s 2ms/step - loss: 3484.7532 - mae: 3484.7532\n",
            "Epoch 366/500\n",
            "34/34 [==============================] - 0s 3ms/step - loss: 3479.5898 - mae: 3479.5898\n",
            "Epoch 367/500\n",
            "34/34 [==============================] - 0s 2ms/step - loss: 3474.7485 - mae: 3474.7485\n",
            "Epoch 368/500\n",
            "34/34 [==============================] - 0s 2ms/step - loss: 3481.3806 - mae: 3481.3806\n",
            "Epoch 369/500\n",
            "34/34 [==============================] - 0s 3ms/step - loss: 3481.7915 - mae: 3481.7915\n",
            "Epoch 370/500\n",
            "34/34 [==============================] - 0s 2ms/step - loss: 3488.6643 - mae: 3488.6643\n",
            "Epoch 371/500\n",
            "34/34 [==============================] - 0s 2ms/step - loss: 3477.2468 - mae: 3477.2468\n",
            "Epoch 372/500\n",
            "34/34 [==============================] - 0s 2ms/step - loss: 3476.6045 - mae: 3476.6045\n",
            "Epoch 373/500\n",
            "34/34 [==============================] - 0s 2ms/step - loss: 3477.1541 - mae: 3477.1541\n",
            "Epoch 374/500\n",
            "34/34 [==============================] - 0s 3ms/step - loss: 3487.5952 - mae: 3487.5952\n",
            "Epoch 375/500\n",
            "34/34 [==============================] - 0s 3ms/step - loss: 3475.6062 - mae: 3475.6062\n",
            "Epoch 376/500\n",
            "34/34 [==============================] - 0s 2ms/step - loss: 3475.1824 - mae: 3475.1824\n",
            "Epoch 377/500\n",
            "34/34 [==============================] - 0s 2ms/step - loss: 3477.0974 - mae: 3477.0974\n",
            "Epoch 378/500\n",
            "34/34 [==============================] - 0s 2ms/step - loss: 3479.5852 - mae: 3479.5852\n",
            "Epoch 379/500\n",
            "34/34 [==============================] - 0s 2ms/step - loss: 3481.3159 - mae: 3481.3159\n",
            "Epoch 380/500\n",
            "34/34 [==============================] - 0s 3ms/step - loss: 3478.5671 - mae: 3478.5671\n",
            "Epoch 381/500\n",
            "34/34 [==============================] - 0s 2ms/step - loss: 3496.9641 - mae: 3496.9641\n",
            "Epoch 382/500\n",
            "34/34 [==============================] - 0s 2ms/step - loss: 3480.7810 - mae: 3480.7810\n",
            "Epoch 383/500\n",
            "34/34 [==============================] - 0s 2ms/step - loss: 3477.3081 - mae: 3477.3081\n",
            "Epoch 384/500\n",
            "34/34 [==============================] - 0s 3ms/step - loss: 3498.3311 - mae: 3498.3311\n",
            "Epoch 385/500\n",
            "34/34 [==============================] - 0s 3ms/step - loss: 3481.0959 - mae: 3481.0959\n",
            "Epoch 386/500\n",
            "34/34 [==============================] - 0s 3ms/step - loss: 3486.4404 - mae: 3486.4404\n",
            "Epoch 387/500\n",
            "34/34 [==============================] - 0s 2ms/step - loss: 3480.7053 - mae: 3480.7053\n",
            "Epoch 388/500\n",
            "34/34 [==============================] - 0s 3ms/step - loss: 3481.3608 - mae: 3481.3608\n",
            "Epoch 389/500\n",
            "34/34 [==============================] - 0s 4ms/step - loss: 3485.8198 - mae: 3485.8198\n",
            "Epoch 390/500\n",
            "34/34 [==============================] - 0s 4ms/step - loss: 3494.9963 - mae: 3494.9963\n",
            "Epoch 391/500\n",
            "34/34 [==============================] - 0s 4ms/step - loss: 3483.3811 - mae: 3483.3811\n",
            "Epoch 392/500\n",
            "34/34 [==============================] - 0s 4ms/step - loss: 3481.6323 - mae: 3481.6323\n",
            "Epoch 393/500\n",
            "34/34 [==============================] - 0s 4ms/step - loss: 3495.8982 - mae: 3495.8982\n",
            "Epoch 394/500\n",
            "34/34 [==============================] - 0s 4ms/step - loss: 3476.4519 - mae: 3476.4519\n",
            "Epoch 395/500\n",
            "34/34 [==============================] - 0s 4ms/step - loss: 3490.6482 - mae: 3490.6482\n",
            "Epoch 396/500\n",
            "34/34 [==============================] - 0s 4ms/step - loss: 3481.2104 - mae: 3481.2104\n",
            "Epoch 397/500\n",
            "34/34 [==============================] - 0s 4ms/step - loss: 3479.5520 - mae: 3479.5520\n",
            "Epoch 398/500\n",
            "34/34 [==============================] - 0s 4ms/step - loss: 3480.7449 - mae: 3480.7449\n",
            "Epoch 399/500\n",
            "34/34 [==============================] - 0s 4ms/step - loss: 3477.5359 - mae: 3477.5359\n",
            "Epoch 400/500\n",
            "34/34 [==============================] - 0s 4ms/step - loss: 3475.9412 - mae: 3475.9412\n",
            "Epoch 401/500\n",
            "34/34 [==============================] - 0s 4ms/step - loss: 3478.4624 - mae: 3478.4624\n",
            "Epoch 402/500\n",
            "34/34 [==============================] - 0s 4ms/step - loss: 3482.0471 - mae: 3482.0471\n",
            "Epoch 403/500\n",
            "34/34 [==============================] - 0s 4ms/step - loss: 3483.0251 - mae: 3483.0251\n",
            "Epoch 404/500\n",
            "34/34 [==============================] - 0s 4ms/step - loss: 3482.5767 - mae: 3482.5767\n",
            "Epoch 405/500\n",
            "34/34 [==============================] - 0s 4ms/step - loss: 3474.5266 - mae: 3474.5266\n",
            "Epoch 406/500\n",
            "34/34 [==============================] - 0s 4ms/step - loss: 3482.6487 - mae: 3482.6487\n",
            "Epoch 407/500\n",
            "34/34 [==============================] - 0s 4ms/step - loss: 3483.1174 - mae: 3483.1174\n",
            "Epoch 408/500\n",
            "34/34 [==============================] - 0s 4ms/step - loss: 3480.1995 - mae: 3480.1995\n",
            "Epoch 409/500\n",
            "34/34 [==============================] - 0s 4ms/step - loss: 3480.4482 - mae: 3480.4482\n",
            "Epoch 410/500\n",
            "34/34 [==============================] - 0s 4ms/step - loss: 3478.0208 - mae: 3478.0208\n",
            "Epoch 411/500\n",
            "34/34 [==============================] - 0s 4ms/step - loss: 3484.3523 - mae: 3484.3523\n",
            "Epoch 412/500\n",
            "34/34 [==============================] - 0s 4ms/step - loss: 3478.2778 - mae: 3478.2778\n",
            "Epoch 413/500\n",
            "34/34 [==============================] - 0s 3ms/step - loss: 3475.8354 - mae: 3475.8354\n",
            "Epoch 414/500\n",
            "34/34 [==============================] - 0s 2ms/step - loss: 3478.5544 - mae: 3478.5544\n",
            "Epoch 415/500\n",
            "34/34 [==============================] - 0s 2ms/step - loss: 3484.4646 - mae: 3484.4646\n",
            "Epoch 416/500\n",
            "34/34 [==============================] - 0s 2ms/step - loss: 3477.3110 - mae: 3477.3110\n",
            "Epoch 417/500\n",
            "34/34 [==============================] - 0s 2ms/step - loss: 3477.6360 - mae: 3477.6360\n",
            "Epoch 418/500\n",
            "34/34 [==============================] - 0s 2ms/step - loss: 3489.1792 - mae: 3489.1792\n",
            "Epoch 419/500\n",
            "34/34 [==============================] - 0s 2ms/step - loss: 3478.3906 - mae: 3478.3906\n",
            "Epoch 420/500\n",
            "34/34 [==============================] - 0s 2ms/step - loss: 3485.5957 - mae: 3485.5957\n",
            "Epoch 421/500\n",
            "34/34 [==============================] - 0s 2ms/step - loss: 3476.7581 - mae: 3476.7581\n",
            "Epoch 422/500\n",
            "34/34 [==============================] - 0s 2ms/step - loss: 3485.2625 - mae: 3485.2625\n",
            "Epoch 423/500\n",
            "34/34 [==============================] - 0s 2ms/step - loss: 3487.6257 - mae: 3487.6257\n",
            "Epoch 424/500\n",
            "34/34 [==============================] - 0s 2ms/step - loss: 3503.6929 - mae: 3503.6929\n",
            "Epoch 425/500\n",
            "34/34 [==============================] - 0s 2ms/step - loss: 3475.7891 - mae: 3475.7891\n",
            "Epoch 426/500\n",
            "34/34 [==============================] - 0s 2ms/step - loss: 3494.6816 - mae: 3494.6816\n",
            "Epoch 427/500\n",
            "34/34 [==============================] - 0s 2ms/step - loss: 3480.4824 - mae: 3480.4824\n",
            "Epoch 428/500\n",
            "34/34 [==============================] - 0s 3ms/step - loss: 3476.9185 - mae: 3476.9185\n",
            "Epoch 429/500\n",
            "34/34 [==============================] - 0s 2ms/step - loss: 3473.7307 - mae: 3473.7307\n",
            "Epoch 430/500\n",
            "34/34 [==============================] - 0s 2ms/step - loss: 3483.5972 - mae: 3483.5972\n",
            "Epoch 431/500\n",
            "34/34 [==============================] - 0s 2ms/step - loss: 3488.0356 - mae: 3488.0356\n",
            "Epoch 432/500\n",
            "34/34 [==============================] - 0s 2ms/step - loss: 3475.5444 - mae: 3475.5444\n",
            "Epoch 433/500\n",
            "34/34 [==============================] - 0s 3ms/step - loss: 3474.9880 - mae: 3474.9880\n",
            "Epoch 434/500\n",
            "34/34 [==============================] - 0s 2ms/step - loss: 3490.3892 - mae: 3490.3892\n",
            "Epoch 435/500\n",
            "34/34 [==============================] - 0s 2ms/step - loss: 3488.1812 - mae: 3488.1812\n",
            "Epoch 436/500\n",
            "34/34 [==============================] - 0s 2ms/step - loss: 3481.0500 - mae: 3481.0500\n",
            "Epoch 437/500\n",
            "34/34 [==============================] - 0s 2ms/step - loss: 3484.6467 - mae: 3484.6467\n",
            "Epoch 438/500\n",
            "34/34 [==============================] - 0s 2ms/step - loss: 3491.0095 - mae: 3491.0095\n",
            "Epoch 439/500\n",
            "34/34 [==============================] - 0s 2ms/step - loss: 3481.4292 - mae: 3481.4292\n",
            "Epoch 440/500\n",
            "34/34 [==============================] - 0s 2ms/step - loss: 3489.6497 - mae: 3489.6497\n",
            "Epoch 441/500\n",
            "34/34 [==============================] - 0s 2ms/step - loss: 3480.3945 - mae: 3480.3945\n",
            "Epoch 442/500\n",
            "34/34 [==============================] - 0s 2ms/step - loss: 3485.1606 - mae: 3485.1606\n",
            "Epoch 443/500\n",
            "34/34 [==============================] - 0s 2ms/step - loss: 3478.3042 - mae: 3478.3042\n",
            "Epoch 444/500\n",
            "34/34 [==============================] - 0s 2ms/step - loss: 3479.5571 - mae: 3479.5571\n",
            "Epoch 445/500\n",
            "34/34 [==============================] - 0s 2ms/step - loss: 3486.4060 - mae: 3486.4060\n",
            "Epoch 446/500\n",
            "34/34 [==============================] - 0s 2ms/step - loss: 3501.1160 - mae: 3501.1160\n",
            "Epoch 447/500\n",
            "34/34 [==============================] - 0s 2ms/step - loss: 3477.9858 - mae: 3477.9858\n",
            "Epoch 448/500\n",
            "34/34 [==============================] - 0s 2ms/step - loss: 3482.2351 - mae: 3482.2351\n",
            "Epoch 449/500\n",
            "34/34 [==============================] - 0s 2ms/step - loss: 3487.4917 - mae: 3487.4917\n",
            "Epoch 450/500\n",
            "34/34 [==============================] - 0s 3ms/step - loss: 3482.7371 - mae: 3482.7371\n",
            "Epoch 451/500\n",
            "34/34 [==============================] - 0s 3ms/step - loss: 3486.4539 - mae: 3486.4539\n",
            "Epoch 452/500\n",
            "34/34 [==============================] - 0s 2ms/step - loss: 3495.3450 - mae: 3495.3450\n",
            "Epoch 453/500\n",
            "34/34 [==============================] - 0s 2ms/step - loss: 3476.8560 - mae: 3476.8560\n",
            "Epoch 454/500\n",
            "34/34 [==============================] - 0s 2ms/step - loss: 3486.0178 - mae: 3486.0178\n",
            "Epoch 455/500\n",
            "34/34 [==============================] - 0s 2ms/step - loss: 3481.5493 - mae: 3481.5493\n",
            "Epoch 456/500\n",
            "34/34 [==============================] - 0s 2ms/step - loss: 3481.2434 - mae: 3481.2434\n",
            "Epoch 457/500\n",
            "34/34 [==============================] - 0s 3ms/step - loss: 3485.8215 - mae: 3485.8215\n",
            "Epoch 458/500\n",
            "34/34 [==============================] - 0s 2ms/step - loss: 3485.4094 - mae: 3485.4094\n",
            "Epoch 459/500\n",
            "34/34 [==============================] - 0s 2ms/step - loss: 3478.8335 - mae: 3478.8335\n",
            "Epoch 460/500\n",
            "34/34 [==============================] - 0s 2ms/step - loss: 3477.9307 - mae: 3477.9307\n",
            "Epoch 461/500\n",
            "34/34 [==============================] - 0s 2ms/step - loss: 3474.6509 - mae: 3474.6509\n",
            "Epoch 462/500\n",
            "34/34 [==============================] - 0s 2ms/step - loss: 3481.9163 - mae: 3481.9163\n",
            "Epoch 463/500\n",
            "34/34 [==============================] - 0s 2ms/step - loss: 3478.7310 - mae: 3478.7310\n",
            "Epoch 464/500\n",
            "34/34 [==============================] - 0s 2ms/step - loss: 3479.1438 - mae: 3479.1438\n",
            "Epoch 465/500\n",
            "34/34 [==============================] - 0s 2ms/step - loss: 3479.0735 - mae: 3479.0735\n",
            "Epoch 466/500\n",
            "34/34 [==============================] - 0s 2ms/step - loss: 3483.6565 - mae: 3483.6565\n",
            "Epoch 467/500\n",
            "34/34 [==============================] - 0s 2ms/step - loss: 3482.9192 - mae: 3482.9192\n",
            "Epoch 468/500\n",
            "34/34 [==============================] - 0s 2ms/step - loss: 3485.9919 - mae: 3485.9919\n",
            "Epoch 469/500\n",
            "34/34 [==============================] - 0s 3ms/step - loss: 3477.6580 - mae: 3477.6580\n",
            "Epoch 470/500\n",
            "34/34 [==============================] - 0s 2ms/step - loss: 3477.6045 - mae: 3477.6045\n",
            "Epoch 471/500\n",
            "34/34 [==============================] - 0s 2ms/step - loss: 3487.9890 - mae: 3487.9890\n",
            "Epoch 472/500\n",
            "34/34 [==============================] - 0s 2ms/step - loss: 3475.9187 - mae: 3475.9187\n",
            "Epoch 473/500\n",
            "34/34 [==============================] - 0s 2ms/step - loss: 3476.6589 - mae: 3476.6589\n",
            "Epoch 474/500\n",
            "34/34 [==============================] - 0s 2ms/step - loss: 3480.5701 - mae: 3480.5701\n",
            "Epoch 475/500\n",
            "34/34 [==============================] - 0s 2ms/step - loss: 3493.0693 - mae: 3493.0693\n",
            "Epoch 476/500\n",
            "34/34 [==============================] - 0s 2ms/step - loss: 3489.4360 - mae: 3489.4360\n",
            "Epoch 477/500\n",
            "34/34 [==============================] - 0s 2ms/step - loss: 3491.6167 - mae: 3491.6167\n",
            "Epoch 478/500\n",
            "34/34 [==============================] - 0s 2ms/step - loss: 3476.4578 - mae: 3476.4578\n",
            "Epoch 479/500\n",
            "34/34 [==============================] - 0s 2ms/step - loss: 3482.1519 - mae: 3482.1519\n",
            "Epoch 480/500\n",
            "34/34 [==============================] - 0s 3ms/step - loss: 3485.5723 - mae: 3485.5723\n",
            "Epoch 481/500\n",
            "34/34 [==============================] - 0s 2ms/step - loss: 3475.8477 - mae: 3475.8477\n",
            "Epoch 482/500\n",
            "34/34 [==============================] - 0s 2ms/step - loss: 3483.1655 - mae: 3483.1655\n",
            "Epoch 483/500\n",
            "34/34 [==============================] - 0s 2ms/step - loss: 3482.2344 - mae: 3482.2344\n",
            "Epoch 484/500\n",
            "34/34 [==============================] - 0s 2ms/step - loss: 3481.5630 - mae: 3481.5630\n",
            "Epoch 485/500\n",
            "34/34 [==============================] - 0s 2ms/step - loss: 3484.5225 - mae: 3484.5225\n",
            "Epoch 486/500\n",
            "34/34 [==============================] - 0s 2ms/step - loss: 3501.3599 - mae: 3501.3599\n",
            "Epoch 487/500\n",
            "34/34 [==============================] - 0s 2ms/step - loss: 3480.7808 - mae: 3480.7808\n",
            "Epoch 488/500\n",
            "34/34 [==============================] - 0s 2ms/step - loss: 3476.7090 - mae: 3476.7090\n",
            "Epoch 489/500\n",
            "34/34 [==============================] - 0s 2ms/step - loss: 3473.3455 - mae: 3473.3455\n",
            "Epoch 490/500\n",
            "34/34 [==============================] - 0s 2ms/step - loss: 3475.0161 - mae: 3475.0161\n",
            "Epoch 491/500\n",
            "34/34 [==============================] - 0s 3ms/step - loss: 3510.6509 - mae: 3510.6509\n",
            "Epoch 492/500\n",
            "34/34 [==============================] - 0s 2ms/step - loss: 3473.5688 - mae: 3473.5688\n",
            "Epoch 493/500\n",
            "34/34 [==============================] - 0s 2ms/step - loss: 3491.3018 - mae: 3491.3018\n",
            "Epoch 494/500\n",
            "34/34 [==============================] - 0s 2ms/step - loss: 3477.7185 - mae: 3477.7185\n",
            "Epoch 495/500\n",
            "34/34 [==============================] - 0s 2ms/step - loss: 3481.1426 - mae: 3481.1426\n",
            "Epoch 496/500\n",
            "34/34 [==============================] - 0s 2ms/step - loss: 3475.7986 - mae: 3475.7986\n",
            "Epoch 497/500\n",
            "34/34 [==============================] - 0s 2ms/step - loss: 3484.5837 - mae: 3484.5837\n",
            "Epoch 498/500\n",
            "34/34 [==============================] - 0s 2ms/step - loss: 3486.7329 - mae: 3486.7329\n",
            "Epoch 499/500\n",
            "34/34 [==============================] - 0s 2ms/step - loss: 3475.2766 - mae: 3475.2766\n",
            "Epoch 500/500\n",
            "34/34 [==============================] - 0s 2ms/step - loss: 3477.3154 - mae: 3477.3154\n"
          ]
        },
        {
          "output_type": "execute_result",
          "data": {
            "text/plain": [
              "<keras.callbacks.History at 0x7f079a84c550>"
            ]
          },
          "metadata": {},
          "execution_count": 85
        }
      ]
    },
    {
      "cell_type": "code",
      "source": [
        "insurance_model_2.evaluate(X_test,y_test)"
      ],
      "metadata": {
        "colab": {
          "base_uri": "https://localhost:8080/"
        },
        "id": "wRtLqjp2UaPg",
        "outputId": "34b951bf-8439-4192-ca44-4f5238b612a2"
      },
      "execution_count": null,
      "outputs": [
        {
          "output_type": "stream",
          "name": "stdout",
          "text": [
            "9/9 [==============================] - 0s 2ms/step - loss: 3170.5703 - mae: 3170.5703\n"
          ]
        },
        {
          "output_type": "execute_result",
          "data": {
            "text/plain": [
              "[3170.5703125, 3170.5703125]"
            ]
          },
          "metadata": {},
          "execution_count": 86
        }
      ]
    },
    {
      "cell_type": "code",
      "source": [
        "#X_test,y_test# Set random seed\n",
        "tf.random.set_seed(42)\n",
        "\n",
        "# Add an extra layer and increase number of units\n",
        "insurance_model_2 = tf.keras.Sequential([\n",
        "  tf.keras.layers.Dense(100), # 100 units\n",
        "  tf.keras.layers.Dense(10), # 10 units\n",
        "  tf.keras.layers.Dense(1) # 1 unit (important for output layer)\n",
        "])\n",
        "\n",
        "# Compile the model\n",
        "insurance_model_2.compile(loss=tf.keras.losses.mae,\n",
        "                          optimizer=tf.keras.optimizers.Adam(), # Adam works but SGD doesn't \n",
        "                          metrics=['mae'])\n",
        "\n",
        "# Fit the model and save the history (we can plot this)\n",
        "history = insurance_model_2.fit(X_train, y_train, epochs=100, verbose=0)# Set random seed\n"
      ],
      "metadata": {
        "id": "AOwhJxdyUomF"
      },
      "execution_count": null,
      "outputs": []
    },
    {
      "cell_type": "code",
      "source": [
        "insurance_model_2.evaluate(X_test,y_test)"
      ],
      "metadata": {
        "colab": {
          "base_uri": "https://localhost:8080/"
        },
        "id": "c5zfE-ZhaUZY",
        "outputId": "7630fd0e-3d01-4343-c01d-1795216e591c"
      },
      "execution_count": null,
      "outputs": [
        {
          "output_type": "stream",
          "name": "stdout",
          "text": [
            "9/9 [==============================] - 0s 2ms/step - loss: 4924.3477 - mae: 4924.3477\n"
          ]
        },
        {
          "output_type": "execute_result",
          "data": {
            "text/plain": [
              "[4924.34765625, 4924.34765625]"
            ]
          },
          "metadata": {},
          "execution_count": 88
        }
      ]
    },
    {
      "cell_type": "code",
      "source": [
        "# Plot history (also known as a loss curve)\n",
        "pd.DataFrame(history.history).plot()\n",
        "plt.ylabel(\"loss\")\n",
        "plt.xlabel(\"epochs\")"
      ],
      "metadata": {
        "colab": {
          "base_uri": "https://localhost:8080/",
          "height": 297
        },
        "id": "cw_u_mPJacsY",
        "outputId": "4146593c-3f10-4bc8-f5ef-c6af92798c89"
      },
      "execution_count": null,
      "outputs": [
        {
          "output_type": "execute_result",
          "data": {
            "text/plain": [
              "Text(0.5, 0, 'epochs')"
            ]
          },
          "metadata": {},
          "execution_count": 89
        },
        {
          "output_type": "display_data",
          "data": {
            "text/plain": [
              "<Figure size 432x288 with 1 Axes>"
            ],
            "image/png": "[encoded data removed]"
          },
          "metadata": {
            "needs_background": "light"
          }
        }
      ]
    },
    {
      "cell_type": "code",
      "source": [
        "#X_test,y_test# Set random seed\n",
        "tf.random.set_seed(42)\n",
        "\n",
        "# Add an extra layer and increase number of units\n",
        "insurance_model_3 = tf.keras.Sequential([\n",
        "  tf.keras.layers.Dense(100), # 100 units\n",
        "  tf.keras.layers.Dense(10), # 10 units\n",
        "  tf.keras.layers.Dense(1) # 1 unit (important for output layer)\n",
        "])\n",
        "\n",
        "# Compile the model\n",
        "insurance_model_3.compile(loss=tf.keras.losses.mae,\n",
        "                          optimizer=tf.keras.optimizers.Adam(), # Adam works but SGD doesn't \n",
        "                          metrics=['mae'])\n",
        "\n",
        "# Fit the model and save the history (we can plot this)\n",
        "history = insurance_model_3.fit(tf.expand_dims(X_train,axis=-1), y_train, epochs=500, verbose=0)# Set random seed\n"
      ],
      "metadata": {
        "colab": {
          "base_uri": "https://localhost:8080/"
        },
        "id": "3uu0DnLralnJ",
        "outputId": "cf8745e6-dc5f-47fa-bf2c-416487626553"
      },
      "execution_count": null,
      "outputs": [
        {
          "output_type": "stream",
          "name": "stdout",
          "text": [
            "Epoch 1/500\n",
            "34/34 [==============================] - 1s 2ms/step - loss: 13335.7275 - mae: 13335.7275\n",
            "Epoch 2/500\n",
            "34/34 [==============================] - 0s 2ms/step - loss: 13314.8389 - mae: 13314.8389\n",
            "Epoch 3/500\n",
            "34/34 [==============================] - 0s 2ms/step - loss: 13274.5283 - mae: 13274.5283\n",
            "Epoch 4/500\n",
            "34/34 [==============================] - 0s 2ms/step - loss: 13199.7266 - mae: 13199.7266\n",
            "Epoch 5/500\n",
            "34/34 [==============================] - 0s 2ms/step - loss: 13074.9053 - mae: 13074.9053\n",
            "Epoch 6/500\n",
            "34/34 [==============================] - 0s 2ms/step - loss: 12889.0273 - mae: 12889.0273\n",
            "Epoch 7/500\n",
            "34/34 [==============================] - 0s 2ms/step - loss: 12651.0098 - mae: 12651.0098\n",
            "Epoch 8/500\n",
            "34/34 [==============================] - 0s 2ms/step - loss: 12395.2949 - mae: 12395.2949\n",
            "Epoch 9/500\n",
            "34/34 [==============================] - 0s 2ms/step - loss: 12192.5039 - mae: 12192.5039\n",
            "Epoch 10/500\n",
            "34/34 [==============================] - 0s 2ms/step - loss: 12110.9824 - mae: 12110.9824\n",
            "Epoch 11/500\n",
            "34/34 [==============================] - 0s 2ms/step - loss: 12084.4785 - mae: 12084.4785\n",
            "Epoch 12/500\n",
            "34/34 [==============================] - 0s 3ms/step - loss: 12062.7061 - mae: 12062.7061\n",
            "Epoch 13/500\n",
            "34/34 [==============================] - 0s 2ms/step - loss: 12041.3838 - mae: 12041.3838\n",
            "Epoch 14/500\n",
            "34/34 [==============================] - 0s 2ms/step - loss: 12018.9814 - mae: 12018.9814\n",
            "Epoch 15/500\n",
            "34/34 [==============================] - 0s 2ms/step - loss: 11995.4033 - mae: 11995.4033\n",
            "Epoch 16/500\n",
            "34/34 [==============================] - 0s 3ms/step - loss: 11969.7061 - mae: 11969.7061\n",
            "Epoch 17/500\n",
            "34/34 [==============================] - 0s 2ms/step - loss: 11941.7939 - mae: 11941.7939\n",
            "Epoch 18/500\n",
            "34/34 [==============================] - 0s 2ms/step - loss: 11910.9727 - mae: 11910.9727\n",
            "Epoch 19/500\n",
            "34/34 [==============================] - 0s 2ms/step - loss: 11876.6816 - mae: 11876.6816\n",
            "Epoch 20/500\n",
            "34/34 [==============================] - 0s 2ms/step - loss: 11837.4248 - mae: 11837.4248\n",
            "Epoch 21/500\n",
            "34/34 [==============================] - 0s 2ms/step - loss: 11792.8369 - mae: 11792.8369\n",
            "Epoch 22/500\n",
            "34/34 [==============================] - 0s 2ms/step - loss: 11741.0898 - mae: 11741.0898\n",
            "Epoch 23/500\n",
            "34/34 [==============================] - 0s 2ms/step - loss: 11680.7119 - mae: 11680.7119\n",
            "Epoch 24/500\n",
            "34/34 [==============================] - 0s 2ms/step - loss: 11609.6074 - mae: 11609.6074\n",
            "Epoch 25/500\n",
            "34/34 [==============================] - 0s 2ms/step - loss: 11526.2402 - mae: 11526.2402\n",
            "Epoch 26/500\n",
            "34/34 [==============================] - 0s 2ms/step - loss: 11425.3320 - mae: 11425.3320\n",
            "Epoch 27/500\n",
            "34/34 [==============================] - 0s 2ms/step - loss: 11307.6865 - mae: 11307.6865\n",
            "Epoch 28/500\n",
            "34/34 [==============================] - 0s 2ms/step - loss: 11170.9912 - mae: 11170.9912\n",
            "Epoch 29/500\n",
            "34/34 [==============================] - 0s 2ms/step - loss: 11014.7217 - mae: 11014.7217\n",
            "Epoch 30/500\n",
            "34/34 [==============================] - 0s 2ms/step - loss: 10845.9502 - mae: 10845.9502\n",
            "Epoch 31/500\n",
            "34/34 [==============================] - 0s 2ms/step - loss: 10668.5098 - mae: 10668.5098\n",
            "Epoch 32/500\n",
            "34/34 [==============================] - 0s 2ms/step - loss: 10487.0898 - mae: 10487.0898\n",
            "Epoch 33/500\n",
            "34/34 [==============================] - 0s 2ms/step - loss: 10302.6035 - mae: 10302.6035\n",
            "Epoch 34/500\n",
            "34/34 [==============================] - 0s 2ms/step - loss: 10118.2568 - mae: 10118.2568\n",
            "Epoch 35/500\n",
            "34/34 [==============================] - 0s 3ms/step - loss: 9925.0420 - mae: 9925.0420\n",
            "Epoch 36/500\n",
            "34/34 [==============================] - 0s 2ms/step - loss: 9735.6123 - mae: 9735.6123\n",
            "Epoch 37/500\n",
            "34/34 [==============================] - 0s 2ms/step - loss: 9549.8271 - mae: 9549.8271\n",
            "Epoch 38/500\n",
            "34/34 [==============================] - 0s 2ms/step - loss: 9373.5742 - mae: 9373.5742\n",
            "Epoch 39/500\n",
            "34/34 [==============================] - 0s 2ms/step - loss: 9211.0762 - mae: 9211.0762\n",
            "Epoch 40/500\n",
            "34/34 [==============================] - 0s 2ms/step - loss: 9065.4404 - mae: 9065.4404\n",
            "Epoch 41/500\n",
            "34/34 [==============================] - 0s 2ms/step - loss: 8934.7500 - mae: 8934.7500\n",
            "Epoch 42/500\n",
            "34/34 [==============================] - 0s 2ms/step - loss: 8815.2314 - mae: 8815.2314\n",
            "Epoch 43/500\n",
            "34/34 [==============================] - 0s 2ms/step - loss: 8708.4180 - mae: 8708.4180\n",
            "Epoch 44/500\n",
            "34/34 [==============================] - 0s 2ms/step - loss: 8607.6084 - mae: 8607.6084\n",
            "Epoch 45/500\n",
            "34/34 [==============================] - 0s 2ms/step - loss: 8536.3408 - mae: 8536.3408\n",
            "Epoch 46/500\n",
            "34/34 [==============================] - 0s 2ms/step - loss: 8472.2070 - mae: 8472.2070\n",
            "Epoch 47/500\n",
            "34/34 [==============================] - 0s 2ms/step - loss: 8432.3643 - mae: 8432.3643\n",
            "Epoch 48/500\n",
            "34/34 [==============================] - 0s 2ms/step - loss: 8389.9512 - mae: 8389.9512\n",
            "Epoch 49/500\n",
            "34/34 [==============================] - 0s 2ms/step - loss: 8362.3594 - mae: 8362.3594\n",
            "Epoch 50/500\n",
            "34/34 [==============================] - 0s 2ms/step - loss: 8337.7080 - mae: 8337.7080\n",
            "Epoch 51/500\n",
            "34/34 [==============================] - 0s 2ms/step - loss: 8322.0127 - mae: 8322.0127\n",
            "Epoch 52/500\n",
            "34/34 [==============================] - 0s 2ms/step - loss: 8313.5654 - mae: 8313.5654\n",
            "Epoch 53/500\n",
            "34/34 [==============================] - 0s 2ms/step - loss: 8296.5430 - mae: 8296.5430\n",
            "Epoch 54/500\n",
            "34/34 [==============================] - 0s 2ms/step - loss: 8290.0078 - mae: 8290.0078\n",
            "Epoch 55/500\n",
            "34/34 [==============================] - 0s 2ms/step - loss: 8287.4893 - mae: 8287.4893\n",
            "Epoch 56/500\n",
            "34/34 [==============================] - 0s 2ms/step - loss: 8282.9756 - mae: 8282.9756\n",
            "Epoch 57/500\n",
            "34/34 [==============================] - 0s 2ms/step - loss: 8280.3125 - mae: 8280.3125\n",
            "Epoch 58/500\n",
            "34/34 [==============================] - 0s 2ms/step - loss: 8278.3457 - mae: 8278.3457\n",
            "Epoch 59/500\n",
            "34/34 [==============================] - 0s 3ms/step - loss: 8278.5957 - mae: 8278.5957\n",
            "Epoch 60/500\n",
            "34/34 [==============================] - 0s 2ms/step - loss: 8280.3516 - mae: 8280.3516\n",
            "Epoch 61/500\n",
            "34/34 [==============================] - 0s 2ms/step - loss: 8278.4854 - mae: 8278.4854\n",
            "Epoch 62/500\n",
            "34/34 [==============================] - 0s 2ms/step - loss: 8275.1396 - mae: 8275.1396\n",
            "Epoch 63/500\n",
            "34/34 [==============================] - 0s 2ms/step - loss: 8275.8848 - mae: 8275.8848\n",
            "Epoch 64/500\n",
            "34/34 [==============================] - 0s 2ms/step - loss: 8274.5693 - mae: 8274.5693\n",
            "Epoch 65/500\n",
            "34/34 [==============================] - 0s 2ms/step - loss: 8274.2383 - mae: 8274.2383\n",
            "Epoch 66/500\n",
            "34/34 [==============================] - 0s 2ms/step - loss: 8273.5938 - mae: 8273.5938\n",
            "Epoch 67/500\n",
            "34/34 [==============================] - 0s 2ms/step - loss: 8276.8916 - mae: 8276.8916\n",
            "Epoch 68/500\n",
            "34/34 [==============================] - 0s 3ms/step - loss: 8274.4824 - mae: 8274.4824\n",
            "Epoch 69/500\n",
            "34/34 [==============================] - 0s 2ms/step - loss: 8274.3379 - mae: 8274.3379\n",
            "Epoch 70/500\n",
            "34/34 [==============================] - 0s 2ms/step - loss: 8276.9834 - mae: 8276.9834\n",
            "Epoch 71/500\n",
            "34/34 [==============================] - 0s 3ms/step - loss: 8275.5977 - mae: 8275.5977\n",
            "Epoch 72/500\n",
            "34/34 [==============================] - 0s 2ms/step - loss: 8276.0225 - mae: 8276.0225\n",
            "Epoch 73/500\n",
            "34/34 [==============================] - 0s 2ms/step - loss: 8274.3174 - mae: 8274.3174\n",
            "Epoch 74/500\n",
            "34/34 [==============================] - 0s 2ms/step - loss: 8273.6689 - mae: 8273.6689\n",
            "Epoch 75/500\n",
            "34/34 [==============================] - 0s 2ms/step - loss: 8273.7725 - mae: 8273.7725\n",
            "Epoch 76/500\n",
            "34/34 [==============================] - 0s 2ms/step - loss: 8276.3926 - mae: 8276.3926\n",
            "Epoch 77/500\n",
            "34/34 [==============================] - 0s 2ms/step - loss: 8273.0977 - mae: 8273.0977\n",
            "Epoch 78/500\n",
            "34/34 [==============================] - 0s 2ms/step - loss: 8274.1523 - mae: 8274.1523\n",
            "Epoch 79/500\n",
            "34/34 [==============================] - 0s 2ms/step - loss: 8275.2471 - mae: 8275.2471\n",
            "Epoch 80/500\n",
            "34/34 [==============================] - 0s 2ms/step - loss: 8273.0967 - mae: 8273.0967\n",
            "Epoch 81/500\n",
            "34/34 [==============================] - 0s 2ms/step - loss: 8274.0508 - mae: 8274.0508\n",
            "Epoch 82/500\n",
            "34/34 [==============================] - 0s 2ms/step - loss: 8275.0615 - mae: 8275.0615\n",
            "Epoch 83/500\n",
            "34/34 [==============================] - 0s 3ms/step - loss: 8278.9482 - mae: 8278.9482\n",
            "Epoch 84/500\n",
            "34/34 [==============================] - 0s 2ms/step - loss: 8273.3945 - mae: 8273.3945\n",
            "Epoch 85/500\n",
            "34/34 [==============================] - 0s 2ms/step - loss: 8277.4922 - mae: 8277.4922\n",
            "Epoch 86/500\n",
            "34/34 [==============================] - 0s 2ms/step - loss: 8275.0674 - mae: 8275.0674\n",
            "Epoch 87/500\n",
            "34/34 [==============================] - 0s 2ms/step - loss: 8275.9238 - mae: 8275.9238\n",
            "Epoch 88/500\n",
            "34/34 [==============================] - 0s 2ms/step - loss: 8273.7627 - mae: 8273.7627\n",
            "Epoch 89/500\n",
            "34/34 [==============================] - 0s 2ms/step - loss: 8273.5156 - mae: 8273.5156\n",
            "Epoch 90/500\n",
            "34/34 [==============================] - 0s 2ms/step - loss: 8275.6562 - mae: 8275.6562\n",
            "Epoch 91/500\n",
            "34/34 [==============================] - 0s 2ms/step - loss: 8273.6045 - mae: 8273.6045\n",
            "Epoch 92/500\n",
            "34/34 [==============================] - 0s 3ms/step - loss: 8274.7070 - mae: 8274.7070\n",
            "Epoch 93/500\n",
            "34/34 [==============================] - 0s 2ms/step - loss: 8274.7432 - mae: 8274.7432\n",
            "Epoch 94/500\n",
            "34/34 [==============================] - 0s 3ms/step - loss: 8275.3115 - mae: 8275.3115\n",
            "Epoch 95/500\n",
            "34/34 [==============================] - 0s 3ms/step - loss: 8274.7627 - mae: 8274.7627\n",
            "Epoch 96/500\n",
            "34/34 [==============================] - 0s 2ms/step - loss: 8274.3232 - mae: 8274.3232\n",
            "Epoch 97/500\n",
            "34/34 [==============================] - 0s 2ms/step - loss: 8276.7998 - mae: 8276.7998\n",
            "Epoch 98/500\n",
            "34/34 [==============================] - 0s 2ms/step - loss: 8273.8389 - mae: 8273.8389\n",
            "Epoch 99/500\n",
            "34/34 [==============================] - 0s 2ms/step - loss: 8274.2100 - mae: 8274.2100\n",
            "Epoch 100/500\n",
            "34/34 [==============================] - 0s 2ms/step - loss: 8273.7812 - mae: 8273.7812\n",
            "Epoch 101/500\n",
            "34/34 [==============================] - 0s 2ms/step - loss: 8276.0371 - mae: 8276.0371\n",
            "Epoch 102/500\n",
            "34/34 [==============================] - 0s 2ms/step - loss: 8276.0107 - mae: 8276.0107\n",
            "Epoch 103/500\n",
            "34/34 [==============================] - 0s 2ms/step - loss: 8274.7500 - mae: 8274.7500\n",
            "Epoch 104/500\n",
            "34/34 [==============================] - 0s 2ms/step - loss: 8273.5439 - mae: 8273.5439\n",
            "Epoch 105/500\n",
            "34/34 [==============================] - 0s 2ms/step - loss: 8273.9238 - mae: 8273.9238\n",
            "Epoch 106/500\n",
            "34/34 [==============================] - 0s 2ms/step - loss: 8273.5723 - mae: 8273.5723\n",
            "Epoch 107/500\n",
            "34/34 [==============================] - 0s 2ms/step - loss: 8275.7900 - mae: 8275.7900\n",
            "Epoch 108/500\n",
            "34/34 [==============================] - 0s 2ms/step - loss: 8279.0410 - mae: 8279.0410\n",
            "Epoch 109/500\n",
            "34/34 [==============================] - 0s 2ms/step - loss: 8275.1934 - mae: 8275.1934\n",
            "Epoch 110/500\n",
            "34/34 [==============================] - 0s 2ms/step - loss: 8276.6504 - mae: 8276.6504\n",
            "Epoch 111/500\n",
            "34/34 [==============================] - 0s 2ms/step - loss: 8276.3623 - mae: 8276.3623\n",
            "Epoch 112/500\n",
            "34/34 [==============================] - 0s 2ms/step - loss: 8273.4189 - mae: 8273.4189\n",
            "Epoch 113/500\n",
            "34/34 [==============================] - 0s 3ms/step - loss: 8273.8115 - mae: 8273.8115\n",
            "Epoch 114/500\n",
            "34/34 [==============================] - 0s 2ms/step - loss: 8273.9570 - mae: 8273.9570\n",
            "Epoch 115/500\n",
            "34/34 [==============================] - 0s 2ms/step - loss: 8275.7393 - mae: 8275.7393\n",
            "Epoch 116/500\n",
            "34/34 [==============================] - 0s 2ms/step - loss: 8275.4248 - mae: 8275.4248\n",
            "Epoch 117/500\n",
            "34/34 [==============================] - 0s 2ms/step - loss: 8275.4160 - mae: 8275.4160\n",
            "Epoch 118/500\n",
            "34/34 [==============================] - 0s 2ms/step - loss: 8274.6084 - mae: 8274.6084\n",
            "Epoch 119/500\n",
            "34/34 [==============================] - 0s 2ms/step - loss: 8276.0947 - mae: 8276.0947\n",
            "Epoch 120/500\n",
            "34/34 [==============================] - 0s 2ms/step - loss: 8273.6777 - mae: 8273.6777\n",
            "Epoch 121/500\n",
            "34/34 [==============================] - 0s 2ms/step - loss: 8273.8838 - mae: 8273.8838\n",
            "Epoch 122/500\n",
            "34/34 [==============================] - 0s 2ms/step - loss: 8273.7305 - mae: 8273.7305\n",
            "Epoch 123/500\n",
            "34/34 [==============================] - 0s 2ms/step - loss: 8274.2783 - mae: 8274.2783\n",
            "Epoch 124/500\n",
            "34/34 [==============================] - 0s 2ms/step - loss: 8274.0703 - mae: 8274.0703\n",
            "Epoch 125/500\n",
            "34/34 [==============================] - 0s 2ms/step - loss: 8275.3916 - mae: 8275.3916\n",
            "Epoch 126/500\n",
            "34/34 [==============================] - 0s 2ms/step - loss: 8275.5273 - mae: 8275.5273\n",
            "Epoch 127/500\n",
            "34/34 [==============================] - 0s 2ms/step - loss: 8274.8359 - mae: 8274.8359\n",
            "Epoch 128/500\n",
            "34/34 [==============================] - 0s 2ms/step - loss: 8274.5723 - mae: 8274.5723\n",
            "Epoch 129/500\n",
            "34/34 [==============================] - 0s 2ms/step - loss: 8275.0303 - mae: 8275.0303\n",
            "Epoch 130/500\n",
            "34/34 [==============================] - 0s 2ms/step - loss: 8274.7939 - mae: 8274.7939\n",
            "Epoch 131/500\n",
            "34/34 [==============================] - 0s 2ms/step - loss: 8276.9160 - mae: 8276.9160\n",
            "Epoch 132/500\n",
            "34/34 [==============================] - 0s 2ms/step - loss: 8276.2920 - mae: 8276.2920\n",
            "Epoch 133/500\n",
            "34/34 [==============================] - 0s 2ms/step - loss: 8275.0859 - mae: 8275.0859\n",
            "Epoch 134/500\n",
            "34/34 [==============================] - 0s 2ms/step - loss: 8273.4717 - mae: 8273.4717\n",
            "Epoch 135/500\n",
            "34/34 [==============================] - 0s 2ms/step - loss: 8273.8750 - mae: 8273.8750\n",
            "Epoch 136/500\n",
            "34/34 [==============================] - 0s 2ms/step - loss: 8273.7256 - mae: 8273.7256\n",
            "Epoch 137/500\n",
            "34/34 [==============================] - 0s 2ms/step - loss: 8274.0625 - mae: 8274.0625\n",
            "Epoch 138/500\n",
            "34/34 [==============================] - 0s 2ms/step - loss: 8274.3389 - mae: 8274.3389\n",
            "Epoch 139/500\n",
            "34/34 [==============================] - 0s 2ms/step - loss: 8274.4180 - mae: 8274.4180\n",
            "Epoch 140/500\n",
            "34/34 [==============================] - 0s 3ms/step - loss: 8273.7500 - mae: 8273.7500\n",
            "Epoch 141/500\n",
            "34/34 [==============================] - 0s 2ms/step - loss: 8274.3174 - mae: 8274.3174\n",
            "Epoch 142/500\n",
            "34/34 [==============================] - 0s 2ms/step - loss: 8276.6084 - mae: 8276.6084\n",
            "Epoch 143/500\n",
            "34/34 [==============================] - 0s 2ms/step - loss: 8276.6074 - mae: 8276.6074\n",
            "Epoch 144/500\n",
            "34/34 [==============================] - 0s 2ms/step - loss: 8279.0674 - mae: 8279.0674\n",
            "Epoch 145/500\n",
            "34/34 [==============================] - 0s 2ms/step - loss: 8275.0762 - mae: 8275.0762\n",
            "Epoch 146/500\n",
            "34/34 [==============================] - 0s 2ms/step - loss: 8275.6494 - mae: 8275.6494\n",
            "Epoch 147/500\n",
            "34/34 [==============================] - 0s 2ms/step - loss: 8275.8691 - mae: 8275.8691\n",
            "Epoch 148/500\n",
            "34/34 [==============================] - 0s 2ms/step - loss: 8275.1914 - mae: 8275.1914\n",
            "Epoch 149/500\n",
            "34/34 [==============================] - 0s 2ms/step - loss: 8274.9385 - mae: 8274.9385\n",
            "Epoch 150/500\n",
            "34/34 [==============================] - 0s 2ms/step - loss: 8273.8232 - mae: 8273.8232\n",
            "Epoch 151/500\n",
            "34/34 [==============================] - 0s 2ms/step - loss: 8274.4326 - mae: 8274.4326\n",
            "Epoch 152/500\n",
            "34/34 [==============================] - 0s 3ms/step - loss: 8274.0430 - mae: 8274.0430\n",
            "Epoch 153/500\n",
            "34/34 [==============================] - 0s 2ms/step - loss: 8277.1445 - mae: 8277.1445\n",
            "Epoch 154/500\n",
            "34/34 [==============================] - 0s 2ms/step - loss: 8276.2061 - mae: 8276.2061\n",
            "Epoch 155/500\n",
            "34/34 [==============================] - 0s 2ms/step - loss: 8274.1318 - mae: 8274.1318\n",
            "Epoch 156/500\n",
            "34/34 [==============================] - 0s 2ms/step - loss: 8273.6113 - mae: 8273.6113\n",
            "Epoch 157/500\n",
            "34/34 [==============================] - 0s 2ms/step - loss: 8275.6777 - mae: 8275.6777\n",
            "Epoch 158/500\n",
            "34/34 [==============================] - 0s 2ms/step - loss: 8274.5762 - mae: 8274.5762\n",
            "Epoch 159/500\n",
            "34/34 [==============================] - 0s 2ms/step - loss: 8273.4854 - mae: 8273.4854\n",
            "Epoch 160/500\n",
            "34/34 [==============================] - 0s 2ms/step - loss: 8274.8594 - mae: 8274.8594\n",
            "Epoch 161/500\n",
            "34/34 [==============================] - 0s 3ms/step - loss: 8273.6641 - mae: 8273.6641\n",
            "Epoch 162/500\n",
            "34/34 [==============================] - 0s 2ms/step - loss: 8274.5811 - mae: 8274.5811\n",
            "Epoch 163/500\n",
            "34/34 [==============================] - 0s 3ms/step - loss: 8274.4043 - mae: 8274.4043\n",
            "Epoch 164/500\n",
            "34/34 [==============================] - 0s 2ms/step - loss: 8273.8877 - mae: 8273.8877\n",
            "Epoch 165/500\n",
            "34/34 [==============================] - 0s 2ms/step - loss: 8276.5352 - mae: 8276.5352\n",
            "Epoch 166/500\n",
            "34/34 [==============================] - 0s 2ms/step - loss: 8275.6426 - mae: 8275.6426\n",
            "Epoch 167/500\n",
            "34/34 [==============================] - 0s 2ms/step - loss: 8274.4092 - mae: 8274.4092\n",
            "Epoch 168/500\n",
            "34/34 [==============================] - 0s 2ms/step - loss: 8274.2100 - mae: 8274.2100\n",
            "Epoch 169/500\n",
            "34/34 [==============================] - 0s 2ms/step - loss: 8273.6221 - mae: 8273.6221\n",
            "Epoch 170/500\n",
            "34/34 [==============================] - 0s 2ms/step - loss: 8275.2744 - mae: 8275.2744\n",
            "Epoch 171/500\n",
            "34/34 [==============================] - 0s 2ms/step - loss: 8274.4219 - mae: 8274.4219\n",
            "Epoch 172/500\n",
            "34/34 [==============================] - 0s 2ms/step - loss: 8275.2852 - mae: 8275.2852\n",
            "Epoch 173/500\n",
            "34/34 [==============================] - 0s 2ms/step - loss: 8274.9521 - mae: 8274.9521\n",
            "Epoch 174/500\n",
            "34/34 [==============================] - 0s 2ms/step - loss: 8274.4385 - mae: 8274.4385\n",
            "Epoch 175/500\n",
            "34/34 [==============================] - 0s 3ms/step - loss: 8275.7178 - mae: 8275.7178\n",
            "Epoch 176/500\n",
            "34/34 [==============================] - 0s 2ms/step - loss: 8275.7920 - mae: 8275.7920\n",
            "Epoch 177/500\n",
            "34/34 [==============================] - 0s 2ms/step - loss: 8274.1660 - mae: 8274.1660\n",
            "Epoch 178/500\n",
            "34/34 [==============================] - 0s 2ms/step - loss: 8274.2393 - mae: 8274.2393\n",
            "Epoch 179/500\n",
            "34/34 [==============================] - 0s 2ms/step - loss: 8274.1475 - mae: 8274.1475\n",
            "Epoch 180/500\n",
            "34/34 [==============================] - 0s 2ms/step - loss: 8274.6758 - mae: 8274.6758\n",
            "Epoch 181/500\n",
            "34/34 [==============================] - 0s 3ms/step - loss: 8274.4883 - mae: 8274.4883\n",
            "Epoch 182/500\n",
            "34/34 [==============================] - 0s 2ms/step - loss: 8273.7783 - mae: 8273.7783\n",
            "Epoch 183/500\n",
            "34/34 [==============================] - 0s 2ms/step - loss: 8274.5049 - mae: 8274.5049\n",
            "Epoch 184/500\n",
            "34/34 [==============================] - 0s 2ms/step - loss: 8276.8486 - mae: 8276.8486\n",
            "Epoch 185/500\n",
            "34/34 [==============================] - 0s 2ms/step - loss: 8276.3701 - mae: 8276.3701\n",
            "Epoch 186/500\n",
            "34/34 [==============================] - 0s 3ms/step - loss: 8275.7744 - mae: 8275.7744\n",
            "Epoch 187/500\n",
            "34/34 [==============================] - 0s 2ms/step - loss: 8277.0293 - mae: 8277.0293\n",
            "Epoch 188/500\n",
            "34/34 [==============================] - 0s 2ms/step - loss: 8273.4678 - mae: 8273.4678\n",
            "Epoch 189/500\n",
            "34/34 [==============================] - 0s 3ms/step - loss: 8275.0977 - mae: 8275.0977\n",
            "Epoch 190/500\n",
            "34/34 [==============================] - 0s 2ms/step - loss: 8276.2363 - mae: 8276.2363\n",
            "Epoch 191/500\n",
            "34/34 [==============================] - 0s 2ms/step - loss: 8273.7002 - mae: 8273.7002\n",
            "Epoch 192/500\n",
            "34/34 [==============================] - 0s 2ms/step - loss: 8274.0205 - mae: 8274.0205\n",
            "Epoch 193/500\n",
            "34/34 [==============================] - 0s 2ms/step - loss: 8275.5459 - mae: 8275.5459\n",
            "Epoch 194/500\n",
            "34/34 [==============================] - 0s 2ms/step - loss: 8273.5371 - mae: 8273.5371\n",
            "Epoch 195/500\n",
            "34/34 [==============================] - 0s 2ms/step - loss: 8274.7656 - mae: 8274.7656\n",
            "Epoch 196/500\n",
            "34/34 [==============================] - 0s 2ms/step - loss: 8274.9795 - mae: 8274.9795\n",
            "Epoch 197/500\n",
            "34/34 [==============================] - 0s 3ms/step - loss: 8274.9180 - mae: 8274.9180\n",
            "Epoch 198/500\n",
            "34/34 [==============================] - 0s 2ms/step - loss: 8274.8486 - mae: 8274.8486\n",
            "Epoch 199/500\n",
            "34/34 [==============================] - 0s 2ms/step - loss: 8273.7939 - mae: 8273.7939\n",
            "Epoch 200/500\n",
            "34/34 [==============================] - 0s 2ms/step - loss: 8277.0254 - mae: 8277.0254\n",
            "Epoch 201/500\n",
            "34/34 [==============================] - 0s 2ms/step - loss: 8275.0215 - mae: 8275.0215\n",
            "Epoch 202/500\n",
            "34/34 [==============================] - 0s 2ms/step - loss: 8275.1484 - mae: 8275.1484\n",
            "Epoch 203/500\n",
            "34/34 [==============================] - 0s 3ms/step - loss: 8275.6133 - mae: 8275.6133\n",
            "Epoch 204/500\n",
            "34/34 [==============================] - 0s 2ms/step - loss: 8274.6846 - mae: 8274.6846\n",
            "Epoch 205/500\n",
            "34/34 [==============================] - 0s 2ms/step - loss: 8277.2285 - mae: 8277.2285\n",
            "Epoch 206/500\n",
            "34/34 [==============================] - 0s 2ms/step - loss: 8274.9248 - mae: 8274.9248\n",
            "Epoch 207/500\n",
            "34/34 [==============================] - 0s 2ms/step - loss: 8276.1318 - mae: 8276.1318\n",
            "Epoch 208/500\n",
            "34/34 [==============================] - 0s 2ms/step - loss: 8275.6367 - mae: 8275.6367\n",
            "Epoch 209/500\n",
            "34/34 [==============================] - 0s 3ms/step - loss: 8274.0762 - mae: 8274.0762\n",
            "Epoch 210/500\n",
            "34/34 [==============================] - 0s 3ms/step - loss: 8275.7695 - mae: 8275.7695\n",
            "Epoch 211/500\n",
            "34/34 [==============================] - 0s 3ms/step - loss: 8275.8379 - mae: 8275.8379\n",
            "Epoch 212/500\n",
            "34/34 [==============================] - 0s 2ms/step - loss: 8275.3750 - mae: 8275.3750\n",
            "Epoch 213/500\n",
            "34/34 [==============================] - 0s 2ms/step - loss: 8274.2812 - mae: 8274.2812\n",
            "Epoch 214/500\n",
            "34/34 [==============================] - 0s 2ms/step - loss: 8274.8115 - mae: 8274.8115\n",
            "Epoch 215/500\n",
            "34/34 [==============================] - 0s 3ms/step - loss: 8273.6211 - mae: 8273.6211\n",
            "Epoch 216/500\n",
            "34/34 [==============================] - 0s 2ms/step - loss: 8274.5967 - mae: 8274.5967\n",
            "Epoch 217/500\n",
            "34/34 [==============================] - 0s 2ms/step - loss: 8273.7256 - mae: 8273.7256\n",
            "Epoch 218/500\n",
            "34/34 [==============================] - 0s 2ms/step - loss: 8274.6973 - mae: 8274.6973\n",
            "Epoch 219/500\n",
            "34/34 [==============================] - 0s 3ms/step - loss: 8276.6338 - mae: 8276.6338\n",
            "Epoch 220/500\n",
            "34/34 [==============================] - 0s 2ms/step - loss: 8273.9287 - mae: 8273.9287\n",
            "Epoch 221/500\n",
            "34/34 [==============================] - 0s 2ms/step - loss: 8275.5430 - mae: 8275.5430\n",
            "Epoch 222/500\n",
            "34/34 [==============================] - 0s 2ms/step - loss: 8275.4502 - mae: 8275.4502\n",
            "Epoch 223/500\n",
            "34/34 [==============================] - 0s 2ms/step - loss: 8275.6445 - mae: 8275.6445\n",
            "Epoch 224/500\n",
            "34/34 [==============================] - 0s 3ms/step - loss: 8276.8594 - mae: 8276.8594\n",
            "Epoch 225/500\n",
            "34/34 [==============================] - 0s 2ms/step - loss: 8273.3936 - mae: 8273.3936\n",
            "Epoch 226/500\n",
            "34/34 [==============================] - 0s 2ms/step - loss: 8274.2939 - mae: 8274.2939\n",
            "Epoch 227/500\n",
            "34/34 [==============================] - 0s 2ms/step - loss: 8273.4580 - mae: 8273.4580\n",
            "Epoch 228/500\n",
            "34/34 [==============================] - 0s 2ms/step - loss: 8275.5352 - mae: 8275.5352\n",
            "Epoch 229/500\n",
            "34/34 [==============================] - 0s 2ms/step - loss: 8274.0762 - mae: 8274.0762\n",
            "Epoch 230/500\n",
            "34/34 [==============================] - 0s 2ms/step - loss: 8274.4580 - mae: 8274.4580\n",
            "Epoch 231/500\n",
            "34/34 [==============================] - 0s 3ms/step - loss: 8276.3330 - mae: 8276.3330\n",
            "Epoch 232/500\n",
            "34/34 [==============================] - 0s 2ms/step - loss: 8276.5439 - mae: 8276.5439\n",
            "Epoch 233/500\n",
            "34/34 [==============================] - 0s 2ms/step - loss: 8273.4453 - mae: 8273.4453\n",
            "Epoch 234/500\n",
            "34/34 [==============================] - 0s 2ms/step - loss: 8277.8643 - mae: 8277.8643\n",
            "Epoch 235/500\n",
            "34/34 [==============================] - 0s 2ms/step - loss: 8281.5801 - mae: 8281.5801\n",
            "Epoch 236/500\n",
            "34/34 [==============================] - 0s 2ms/step - loss: 8273.1260 - mae: 8273.1260\n",
            "Epoch 237/500\n",
            "34/34 [==============================] - 0s 2ms/step - loss: 8274.1357 - mae: 8274.1357\n",
            "Epoch 238/500\n",
            "34/34 [==============================] - 0s 2ms/step - loss: 8276.2139 - mae: 8276.2139\n",
            "Epoch 239/500\n",
            "34/34 [==============================] - 0s 3ms/step - loss: 8274.9150 - mae: 8274.9150\n",
            "Epoch 240/500\n",
            "34/34 [==============================] - 0s 2ms/step - loss: 8275.9043 - mae: 8275.9043\n",
            "Epoch 241/500\n",
            "34/34 [==============================] - 0s 2ms/step - loss: 8273.5088 - mae: 8273.5088\n",
            "Epoch 242/500\n",
            "34/34 [==============================] - 0s 3ms/step - loss: 8274.1045 - mae: 8274.1045\n",
            "Epoch 243/500\n",
            "34/34 [==============================] - 0s 2ms/step - loss: 8277.7461 - mae: 8277.7461\n",
            "Epoch 244/500\n",
            "34/34 [==============================] - 0s 2ms/step - loss: 8276.1855 - mae: 8276.1855\n",
            "Epoch 245/500\n",
            "34/34 [==============================] - 0s 2ms/step - loss: 8273.8252 - mae: 8273.8252\n",
            "Epoch 246/500\n",
            "34/34 [==============================] - 0s 2ms/step - loss: 8274.9961 - mae: 8274.9961\n",
            "Epoch 247/500\n",
            "34/34 [==============================] - 0s 2ms/step - loss: 8274.9756 - mae: 8274.9756\n",
            "Epoch 248/500\n",
            "34/34 [==============================] - 0s 2ms/step - loss: 8275.0781 - mae: 8275.0781\n",
            "Epoch 249/500\n",
            "34/34 [==============================] - 0s 2ms/step - loss: 8277.5449 - mae: 8277.5449\n",
            "Epoch 250/500\n",
            "34/34 [==============================] - 0s 7ms/step - loss: 8274.1240 - mae: 8274.1240\n",
            "Epoch 251/500\n",
            "34/34 [==============================] - 0s 9ms/step - loss: 8275.2520 - mae: 8275.2520\n",
            "Epoch 252/500\n",
            "34/34 [==============================] - 0s 7ms/step - loss: 8276.6572 - mae: 8276.6572\n",
            "Epoch 253/500\n",
            "34/34 [==============================] - 0s 5ms/step - loss: 8274.6309 - mae: 8274.6309\n",
            "Epoch 254/500\n",
            "34/34 [==============================] - 0s 6ms/step - loss: 8273.2471 - mae: 8273.2471\n",
            "Epoch 255/500\n",
            "34/34 [==============================] - 0s 7ms/step - loss: 8277.0664 - mae: 8277.0664\n",
            "Epoch 256/500\n",
            "34/34 [==============================] - 0s 3ms/step - loss: 8274.6416 - mae: 8274.6416\n",
            "Epoch 257/500\n",
            "34/34 [==============================] - 0s 3ms/step - loss: 8275.9043 - mae: 8275.9043\n",
            "Epoch 258/500\n",
            "34/34 [==============================] - 0s 2ms/step - loss: 8273.8232 - mae: 8273.8232\n",
            "Epoch 259/500\n",
            "34/34 [==============================] - 0s 3ms/step - loss: 8273.4785 - mae: 8273.4785\n",
            "Epoch 260/500\n",
            "34/34 [==============================] - 0s 2ms/step - loss: 8274.4141 - mae: 8274.4141\n",
            "Epoch 261/500\n",
            "34/34 [==============================] - 0s 2ms/step - loss: 8274.8613 - mae: 8274.8613\n",
            "Epoch 262/500\n",
            "34/34 [==============================] - 0s 2ms/step - loss: 8274.1387 - mae: 8274.1387\n",
            "Epoch 263/500\n",
            "34/34 [==============================] - 0s 2ms/step - loss: 8275.2314 - mae: 8275.2314\n",
            "Epoch 264/500\n",
            "34/34 [==============================] - 0s 3ms/step - loss: 8274.0322 - mae: 8274.0322\n",
            "Epoch 265/500\n",
            "34/34 [==============================] - 0s 3ms/step - loss: 8275.1914 - mae: 8275.1914\n",
            "Epoch 266/500\n",
            "34/34 [==============================] - 0s 2ms/step - loss: 8274.9727 - mae: 8274.9727\n",
            "Epoch 267/500\n",
            "34/34 [==============================] - 0s 2ms/step - loss: 8276.4111 - mae: 8276.4111\n",
            "Epoch 268/500\n",
            "34/34 [==============================] - 0s 2ms/step - loss: 8274.6465 - mae: 8274.6465\n",
            "Epoch 269/500\n",
            "34/34 [==============================] - 0s 2ms/step - loss: 8274.7471 - mae: 8274.7471\n",
            "Epoch 270/500\n",
            "34/34 [==============================] - 0s 2ms/step - loss: 8274.2598 - mae: 8274.2598\n",
            "Epoch 271/500\n",
            "34/34 [==============================] - 0s 2ms/step - loss: 8275.4229 - mae: 8275.4229\n",
            "Epoch 272/500\n",
            "34/34 [==============================] - 0s 2ms/step - loss: 8275.5908 - mae: 8275.5908\n",
            "Epoch 273/500\n",
            "34/34 [==============================] - 0s 2ms/step - loss: 8273.8330 - mae: 8273.8330\n",
            "Epoch 274/500\n",
            "34/34 [==============================] - 0s 2ms/step - loss: 8275.7520 - mae: 8275.7520\n",
            "Epoch 275/500\n",
            "34/34 [==============================] - 0s 2ms/step - loss: 8275.2920 - mae: 8275.2920\n",
            "Epoch 276/500\n",
            "34/34 [==============================] - 0s 3ms/step - loss: 8275.1729 - mae: 8275.1729\n",
            "Epoch 277/500\n",
            "34/34 [==============================] - 0s 2ms/step - loss: 8274.6602 - mae: 8274.6602\n",
            "Epoch 278/500\n",
            "34/34 [==============================] - 0s 2ms/step - loss: 8273.6680 - mae: 8273.6680\n",
            "Epoch 279/500\n",
            "34/34 [==============================] - 0s 3ms/step - loss: 8273.5225 - mae: 8273.5225\n",
            "Epoch 280/500\n",
            "34/34 [==============================] - 0s 2ms/step - loss: 8274.3965 - mae: 8274.3965\n",
            "Epoch 281/500\n",
            "34/34 [==============================] - 0s 2ms/step - loss: 8273.3984 - mae: 8273.3984\n",
            "Epoch 282/500\n",
            "34/34 [==============================] - 0s 2ms/step - loss: 8273.8789 - mae: 8273.8789\n",
            "Epoch 283/500\n",
            "34/34 [==============================] - 0s 2ms/step - loss: 8273.5088 - mae: 8273.5088\n",
            "Epoch 284/500\n",
            "34/34 [==============================] - 0s 2ms/step - loss: 8273.4941 - mae: 8273.4941\n",
            "Epoch 285/500\n",
            "34/34 [==============================] - 0s 2ms/step - loss: 8273.6982 - mae: 8273.6982\n",
            "Epoch 286/500\n",
            "34/34 [==============================] - 0s 2ms/step - loss: 8275.7354 - mae: 8275.7354\n",
            "Epoch 287/500\n",
            "34/34 [==============================] - 0s 2ms/step - loss: 8276.5420 - mae: 8276.5420\n",
            "Epoch 288/500\n",
            "34/34 [==============================] - 0s 3ms/step - loss: 8275.4512 - mae: 8275.4512\n",
            "Epoch 289/500\n",
            "34/34 [==============================] - 0s 2ms/step - loss: 8277.7998 - mae: 8277.7998\n",
            "Epoch 290/500\n",
            "34/34 [==============================] - 0s 2ms/step - loss: 8274.2695 - mae: 8274.2695\n",
            "Epoch 291/500\n",
            "34/34 [==============================] - 0s 2ms/step - loss: 8273.5791 - mae: 8273.5791\n",
            "Epoch 292/500\n",
            "34/34 [==============================] - 0s 2ms/step - loss: 8275.5352 - mae: 8275.5352\n",
            "Epoch 293/500\n",
            "34/34 [==============================] - 0s 2ms/step - loss: 8273.9395 - mae: 8273.9395\n",
            "Epoch 294/500\n",
            "34/34 [==============================] - 0s 2ms/step - loss: 8275.2939 - mae: 8275.2939\n",
            "Epoch 295/500\n",
            "34/34 [==============================] - 0s 2ms/step - loss: 8276.0127 - mae: 8276.0127\n",
            "Epoch 296/500\n",
            "34/34 [==============================] - 0s 2ms/step - loss: 8275.5117 - mae: 8275.5117\n",
            "Epoch 297/500\n",
            "34/34 [==============================] - 0s 2ms/step - loss: 8273.1348 - mae: 8273.1348\n",
            "Epoch 298/500\n",
            "34/34 [==============================] - 0s 2ms/step - loss: 8276.0303 - mae: 8276.0303\n",
            "Epoch 299/500\n",
            "34/34 [==============================] - 0s 3ms/step - loss: 8274.1680 - mae: 8274.1680\n",
            "Epoch 300/500\n",
            "34/34 [==============================] - 0s 2ms/step - loss: 8274.0703 - mae: 8274.0703\n",
            "Epoch 301/500\n",
            "34/34 [==============================] - 0s 2ms/step - loss: 8275.2832 - mae: 8275.2832\n",
            "Epoch 302/500\n",
            "34/34 [==============================] - 0s 2ms/step - loss: 8277.7393 - mae: 8277.7393\n",
            "Epoch 303/500\n",
            "34/34 [==============================] - 0s 2ms/step - loss: 8274.3301 - mae: 8274.3301\n",
            "Epoch 304/500\n",
            "34/34 [==============================] - 0s 2ms/step - loss: 8273.6719 - mae: 8273.6719\n",
            "Epoch 305/500\n",
            "34/34 [==============================] - 0s 2ms/step - loss: 8274.7295 - mae: 8274.7295\n",
            "Epoch 306/500\n",
            "34/34 [==============================] - 0s 2ms/step - loss: 8277.4443 - mae: 8277.4443\n",
            "Epoch 307/500\n",
            "34/34 [==============================] - 0s 3ms/step - loss: 8278.1211 - mae: 8278.1211\n",
            "Epoch 308/500\n",
            "34/34 [==============================] - 0s 3ms/step - loss: 8274.5059 - mae: 8274.5059\n",
            "Epoch 309/500\n",
            "34/34 [==============================] - 0s 2ms/step - loss: 8273.7217 - mae: 8273.7217\n",
            "Epoch 310/500\n",
            "34/34 [==============================] - 0s 3ms/step - loss: 8275.0469 - mae: 8275.0469\n",
            "Epoch 311/500\n",
            "34/34 [==============================] - 0s 2ms/step - loss: 8275.7568 - mae: 8275.7568\n",
            "Epoch 312/500\n",
            "34/34 [==============================] - 0s 2ms/step - loss: 8274.3379 - mae: 8274.3379\n",
            "Epoch 313/500\n",
            "34/34 [==============================] - 0s 2ms/step - loss: 8274.6260 - mae: 8274.6260\n",
            "Epoch 314/500\n",
            "34/34 [==============================] - 0s 2ms/step - loss: 8274.0977 - mae: 8274.0977\n",
            "Epoch 315/500\n",
            "34/34 [==============================] - 0s 3ms/step - loss: 8274.1377 - mae: 8274.1377\n",
            "Epoch 316/500\n",
            "34/34 [==============================] - 0s 2ms/step - loss: 8274.0693 - mae: 8274.0693\n",
            "Epoch 317/500\n",
            "34/34 [==============================] - 0s 2ms/step - loss: 8273.7686 - mae: 8273.7686\n",
            "Epoch 318/500\n",
            "34/34 [==============================] - 0s 3ms/step - loss: 8276.1816 - mae: 8276.1816\n",
            "Epoch 319/500\n",
            "34/34 [==============================] - 0s 2ms/step - loss: 8275.4160 - mae: 8275.4160\n",
            "Epoch 320/500\n",
            "34/34 [==============================] - 0s 2ms/step - loss: 8274.1875 - mae: 8274.1875\n",
            "Epoch 321/500\n",
            "34/34 [==============================] - 0s 3ms/step - loss: 8274.1465 - mae: 8274.1465\n",
            "Epoch 322/500\n",
            "34/34 [==============================] - 0s 2ms/step - loss: 8274.7939 - mae: 8274.7939\n",
            "Epoch 323/500\n",
            "34/34 [==============================] - 0s 2ms/step - loss: 8274.4736 - mae: 8274.4736\n",
            "Epoch 324/500\n",
            "34/34 [==============================] - 0s 2ms/step - loss: 8275.3154 - mae: 8275.3154\n",
            "Epoch 325/500\n",
            "34/34 [==============================] - 0s 2ms/step - loss: 8273.8018 - mae: 8273.8018\n",
            "Epoch 326/500\n",
            "34/34 [==============================] - 0s 2ms/step - loss: 8274.5322 - mae: 8274.5322\n",
            "Epoch 327/500\n",
            "34/34 [==============================] - 0s 3ms/step - loss: 8274.5762 - mae: 8274.5762\n",
            "Epoch 328/500\n",
            "34/34 [==============================] - 0s 3ms/step - loss: 8281.1348 - mae: 8281.1348\n",
            "Epoch 329/500\n",
            "34/34 [==============================] - 0s 2ms/step - loss: 8274.1543 - mae: 8274.1543\n",
            "Epoch 330/500\n",
            "34/34 [==============================] - 0s 3ms/step - loss: 8274.3633 - mae: 8274.3633\n",
            "Epoch 331/500\n",
            "34/34 [==============================] - 0s 2ms/step - loss: 8275.1182 - mae: 8275.1182\n",
            "Epoch 332/500\n",
            "34/34 [==============================] - 0s 3ms/step - loss: 8275.7559 - mae: 8275.7559\n",
            "Epoch 333/500\n",
            "34/34 [==============================] - 0s 2ms/step - loss: 8275.7764 - mae: 8275.7764\n",
            "Epoch 334/500\n",
            "34/34 [==============================] - 0s 2ms/step - loss: 8275.5508 - mae: 8275.5508\n",
            "Epoch 335/500\n",
            "34/34 [==============================] - 0s 2ms/step - loss: 8275.0547 - mae: 8275.0547\n",
            "Epoch 336/500\n",
            "34/34 [==============================] - 0s 3ms/step - loss: 8277.4893 - mae: 8277.4893\n",
            "Epoch 337/500\n",
            "34/34 [==============================] - 0s 2ms/step - loss: 8275.7773 - mae: 8275.7773\n",
            "Epoch 338/500\n",
            "34/34 [==============================] - 0s 2ms/step - loss: 8276.2617 - mae: 8276.2617\n",
            "Epoch 339/500\n",
            "34/34 [==============================] - 0s 2ms/step - loss: 8274.0576 - mae: 8274.0576\n",
            "Epoch 340/500\n",
            "34/34 [==============================] - 0s 3ms/step - loss: 8273.9121 - mae: 8273.9121\n",
            "Epoch 341/500\n",
            "34/34 [==============================] - 0s 2ms/step - loss: 8274.5703 - mae: 8274.5703\n",
            "Epoch 342/500\n",
            "34/34 [==============================] - 0s 2ms/step - loss: 8274.5918 - mae: 8274.5918\n",
            "Epoch 343/500\n",
            "34/34 [==============================] - 0s 3ms/step - loss: 8274.9473 - mae: 8274.9473\n",
            "Epoch 344/500\n",
            "34/34 [==============================] - 0s 2ms/step - loss: 8274.2285 - mae: 8274.2285\n",
            "Epoch 345/500\n",
            "34/34 [==============================] - 0s 2ms/step - loss: 8274.3457 - mae: 8274.3457\n",
            "Epoch 346/500\n",
            "34/34 [==============================] - 0s 2ms/step - loss: 8275.3896 - mae: 8275.3896\n",
            "Epoch 347/500\n",
            "34/34 [==============================] - 0s 2ms/step - loss: 8274.7998 - mae: 8274.7998\n",
            "Epoch 348/500\n",
            "34/34 [==============================] - 0s 3ms/step - loss: 8275.6035 - mae: 8275.6035\n",
            "Epoch 349/500\n",
            "34/34 [==============================] - 0s 2ms/step - loss: 8273.7852 - mae: 8273.7852\n",
            "Epoch 350/500\n",
            "34/34 [==============================] - 0s 2ms/step - loss: 8274.0244 - mae: 8274.0244\n",
            "Epoch 351/500\n",
            "34/34 [==============================] - 0s 3ms/step - loss: 8274.8809 - mae: 8274.8809\n",
            "Epoch 352/500\n",
            "34/34 [==============================] - 0s 3ms/step - loss: 8276.2031 - mae: 8276.2031\n",
            "Epoch 353/500\n",
            "34/34 [==============================] - 0s 2ms/step - loss: 8274.3994 - mae: 8274.3994\n",
            "Epoch 354/500\n",
            "34/34 [==============================] - 0s 3ms/step - loss: 8275.0166 - mae: 8275.0166\n",
            "Epoch 355/500\n",
            "34/34 [==============================] - 0s 3ms/step - loss: 8273.9951 - mae: 8273.9951\n",
            "Epoch 356/500\n",
            "34/34 [==============================] - 0s 2ms/step - loss: 8274.4141 - mae: 8274.4141\n",
            "Epoch 357/500\n",
            "34/34 [==============================] - 0s 2ms/step - loss: 8274.6924 - mae: 8274.6924\n",
            "Epoch 358/500\n",
            "34/34 [==============================] - 0s 3ms/step - loss: 8275.4785 - mae: 8275.4785\n",
            "Epoch 359/500\n",
            "34/34 [==============================] - 0s 2ms/step - loss: 8273.7939 - mae: 8273.7939\n",
            "Epoch 360/500\n",
            "34/34 [==============================] - 0s 2ms/step - loss: 8273.8555 - mae: 8273.8555\n",
            "Epoch 361/500\n",
            "34/34 [==============================] - 0s 2ms/step - loss: 8274.4805 - mae: 8274.4805\n",
            "Epoch 362/500\n",
            "34/34 [==============================] - 0s 3ms/step - loss: 8274.9873 - mae: 8274.9873\n",
            "Epoch 363/500\n",
            "34/34 [==============================] - 0s 2ms/step - loss: 8274.2129 - mae: 8274.2129\n",
            "Epoch 364/500\n",
            "34/34 [==============================] - 0s 2ms/step - loss: 8274.2139 - mae: 8274.2139\n",
            "Epoch 365/500\n",
            "34/34 [==============================] - 0s 3ms/step - loss: 8274.0986 - mae: 8274.0986\n",
            "Epoch 366/500\n",
            "34/34 [==============================] - 0s 2ms/step - loss: 8276.9102 - mae: 8276.9102\n",
            "Epoch 367/500\n",
            "34/34 [==============================] - 0s 3ms/step - loss: 8275.4834 - mae: 8275.4834\n",
            "Epoch 368/500\n",
            "34/34 [==============================] - 0s 3ms/step - loss: 8277.9863 - mae: 8277.9863\n",
            "Epoch 369/500\n",
            "34/34 [==============================] - 0s 2ms/step - loss: 8274.9961 - mae: 8274.9961\n",
            "Epoch 370/500\n",
            "34/34 [==============================] - 0s 2ms/step - loss: 8273.6123 - mae: 8273.6123\n",
            "Epoch 371/500\n",
            "34/34 [==============================] - 0s 3ms/step - loss: 8274.4258 - mae: 8274.4258\n",
            "Epoch 372/500\n",
            "34/34 [==============================] - 0s 3ms/step - loss: 8274.5352 - mae: 8274.5352\n",
            "Epoch 373/500\n",
            "34/34 [==============================] - 0s 3ms/step - loss: 8278.2646 - mae: 8278.2646\n",
            "Epoch 374/500\n",
            "34/34 [==============================] - 0s 2ms/step - loss: 8275.0186 - mae: 8275.0186\n",
            "Epoch 375/500\n",
            "34/34 [==============================] - 0s 3ms/step - loss: 8277.1885 - mae: 8277.1885\n",
            "Epoch 376/500\n",
            "34/34 [==============================] - 0s 3ms/step - loss: 8275.6309 - mae: 8275.6309\n",
            "Epoch 377/500\n",
            "34/34 [==============================] - 0s 3ms/step - loss: 8274.7832 - mae: 8274.7832\n",
            "Epoch 378/500\n",
            "34/34 [==============================] - 0s 2ms/step - loss: 8273.7842 - mae: 8273.7842\n",
            "Epoch 379/500\n",
            "34/34 [==============================] - 0s 2ms/step - loss: 8274.2754 - mae: 8274.2754\n",
            "Epoch 380/500\n",
            "34/34 [==============================] - 0s 2ms/step - loss: 8274.6602 - mae: 8274.6602\n",
            "Epoch 381/500\n",
            "34/34 [==============================] - 0s 3ms/step - loss: 8274.5332 - mae: 8274.5332\n",
            "Epoch 382/500\n",
            "34/34 [==============================] - 0s 2ms/step - loss: 8274.1143 - mae: 8274.1143\n",
            "Epoch 383/500\n",
            "34/34 [==============================] - 0s 2ms/step - loss: 8274.6953 - mae: 8274.6953\n",
            "Epoch 384/500\n",
            "34/34 [==============================] - 0s 2ms/step - loss: 8275.6426 - mae: 8275.6426\n",
            "Epoch 385/500\n",
            "34/34 [==============================] - 0s 3ms/step - loss: 8274.9023 - mae: 8274.9023\n",
            "Epoch 386/500\n",
            "34/34 [==============================] - 0s 3ms/step - loss: 8278.2373 - mae: 8278.2373\n",
            "Epoch 387/500\n",
            "34/34 [==============================] - 0s 2ms/step - loss: 8276.6748 - mae: 8276.6748\n",
            "Epoch 388/500\n",
            "34/34 [==============================] - 0s 2ms/step - loss: 8273.9785 - mae: 8273.9785\n",
            "Epoch 389/500\n",
            "34/34 [==============================] - 0s 3ms/step - loss: 8273.6191 - mae: 8273.6191\n",
            "Epoch 390/500\n",
            "34/34 [==============================] - 0s 3ms/step - loss: 8274.1738 - mae: 8274.1738\n",
            "Epoch 391/500\n",
            "34/34 [==============================] - 0s 3ms/step - loss: 8276.3350 - mae: 8276.3350\n",
            "Epoch 392/500\n",
            "34/34 [==============================] - 0s 3ms/step - loss: 8275.7217 - mae: 8275.7217\n",
            "Epoch 393/500\n",
            "34/34 [==============================] - 0s 3ms/step - loss: 8274.9697 - mae: 8274.9697\n",
            "Epoch 394/500\n",
            "34/34 [==============================] - 0s 3ms/step - loss: 8273.6221 - mae: 8273.6221\n",
            "Epoch 395/500\n",
            "34/34 [==============================] - 0s 3ms/step - loss: 8273.2549 - mae: 8273.2549\n",
            "Epoch 396/500\n",
            "34/34 [==============================] - 0s 3ms/step - loss: 8273.9492 - mae: 8273.9492\n",
            "Epoch 397/500\n",
            "34/34 [==============================] - 0s 2ms/step - loss: 8273.9209 - mae: 8273.9209\n",
            "Epoch 398/500\n",
            "34/34 [==============================] - 0s 3ms/step - loss: 8274.2832 - mae: 8274.2832\n",
            "Epoch 399/500\n",
            "34/34 [==============================] - 0s 2ms/step - loss: 8273.7686 - mae: 8273.7686\n",
            "Epoch 400/500\n",
            "34/34 [==============================] - 0s 3ms/step - loss: 8274.0723 - mae: 8274.0723\n",
            "Epoch 401/500\n",
            "34/34 [==============================] - 0s 3ms/step - loss: 8274.2178 - mae: 8274.2178\n",
            "Epoch 402/500\n",
            "34/34 [==============================] - 0s 2ms/step - loss: 8273.4980 - mae: 8273.4980\n",
            "Epoch 403/500\n",
            "34/34 [==============================] - 0s 2ms/step - loss: 8274.8232 - mae: 8274.8232\n",
            "Epoch 404/500\n",
            "34/34 [==============================] - 0s 3ms/step - loss: 8274.6523 - mae: 8274.6523\n",
            "Epoch 405/500\n",
            "34/34 [==============================] - 0s 3ms/step - loss: 8275.1650 - mae: 8275.1650\n",
            "Epoch 406/500\n",
            "34/34 [==============================] - 0s 3ms/step - loss: 8275.2100 - mae: 8275.2100\n",
            "Epoch 407/500\n",
            "34/34 [==============================] - 0s 3ms/step - loss: 8274.5020 - mae: 8274.5020\n",
            "Epoch 408/500\n",
            "34/34 [==============================] - 0s 3ms/step - loss: 8273.4854 - mae: 8273.4854\n",
            "Epoch 409/500\n",
            "34/34 [==============================] - 0s 3ms/step - loss: 8274.2939 - mae: 8274.2939\n",
            "Epoch 410/500\n",
            "34/34 [==============================] - 0s 2ms/step - loss: 8276.2998 - mae: 8276.2998\n",
            "Epoch 411/500\n",
            "34/34 [==============================] - 0s 2ms/step - loss: 8275.1328 - mae: 8275.1328\n",
            "Epoch 412/500\n",
            "34/34 [==============================] - 0s 2ms/step - loss: 8273.9883 - mae: 8273.9883\n",
            "Epoch 413/500\n",
            "34/34 [==============================] - 0s 2ms/step - loss: 8275.0283 - mae: 8275.0283\n",
            "Epoch 414/500\n",
            "34/34 [==============================] - 0s 2ms/step - loss: 8276.9824 - mae: 8276.9824\n",
            "Epoch 415/500\n",
            "34/34 [==============================] - 0s 3ms/step - loss: 8273.9951 - mae: 8273.9951\n",
            "Epoch 416/500\n",
            "34/34 [==============================] - 0s 3ms/step - loss: 8273.9004 - mae: 8273.9004\n",
            "Epoch 417/500\n",
            "34/34 [==============================] - 0s 3ms/step - loss: 8273.8193 - mae: 8273.8193\n",
            "Epoch 418/500\n",
            "34/34 [==============================] - 0s 2ms/step - loss: 8274.3271 - mae: 8274.3271\n",
            "Epoch 419/500\n",
            "34/34 [==============================] - 0s 2ms/step - loss: 8275.9502 - mae: 8275.9502\n",
            "Epoch 420/500\n",
            "34/34 [==============================] - 0s 2ms/step - loss: 8274.2080 - mae: 8274.2080\n",
            "Epoch 421/500\n",
            "34/34 [==============================] - 0s 3ms/step - loss: 8276.4082 - mae: 8276.4082\n",
            "Epoch 422/500\n",
            "34/34 [==============================] - 0s 3ms/step - loss: 8273.9805 - mae: 8273.9805\n",
            "Epoch 423/500\n",
            "34/34 [==============================] - 0s 2ms/step - loss: 8275.7109 - mae: 8275.7109\n",
            "Epoch 424/500\n",
            "34/34 [==============================] - 0s 3ms/step - loss: 8274.2910 - mae: 8274.2910\n",
            "Epoch 425/500\n",
            "34/34 [==============================] - 0s 3ms/step - loss: 8273.4502 - mae: 8273.4502\n",
            "Epoch 426/500\n",
            "34/34 [==============================] - 0s 3ms/step - loss: 8274.8037 - mae: 8274.8037\n",
            "Epoch 427/500\n",
            "34/34 [==============================] - 0s 2ms/step - loss: 8274.4482 - mae: 8274.4482\n",
            "Epoch 428/500\n",
            "34/34 [==============================] - 0s 2ms/step - loss: 8273.7539 - mae: 8273.7539\n",
            "Epoch 429/500\n",
            "34/34 [==============================] - 0s 3ms/step - loss: 8277.3545 - mae: 8277.3545\n",
            "Epoch 430/500\n",
            "34/34 [==============================] - 0s 2ms/step - loss: 8274.8076 - mae: 8274.8076\n",
            "Epoch 431/500\n",
            "34/34 [==============================] - 0s 3ms/step - loss: 8274.8076 - mae: 8274.8076\n",
            "Epoch 432/500\n",
            "34/34 [==============================] - 0s 3ms/step - loss: 8275.0527 - mae: 8275.0527\n",
            "Epoch 433/500\n",
            "34/34 [==============================] - 0s 2ms/step - loss: 8274.0195 - mae: 8274.0195\n",
            "Epoch 434/500\n",
            "34/34 [==============================] - 0s 3ms/step - loss: 8274.4883 - mae: 8274.4883\n",
            "Epoch 435/500\n",
            "34/34 [==============================] - 0s 3ms/step - loss: 8273.9980 - mae: 8273.9980\n",
            "Epoch 436/500\n",
            "34/34 [==============================] - 0s 3ms/step - loss: 8273.8936 - mae: 8273.8936\n",
            "Epoch 437/500\n",
            "34/34 [==============================] - 0s 2ms/step - loss: 8275.0000 - mae: 8275.0000\n",
            "Epoch 438/500\n",
            "34/34 [==============================] - 0s 3ms/step - loss: 8273.8643 - mae: 8273.8643\n",
            "Epoch 439/500\n",
            "34/34 [==============================] - 0s 3ms/step - loss: 8274.0137 - mae: 8274.0137\n",
            "Epoch 440/500\n",
            "34/34 [==============================] - 0s 3ms/step - loss: 8273.9639 - mae: 8273.9639\n",
            "Epoch 441/500\n",
            "34/34 [==============================] - 0s 3ms/step - loss: 8274.0869 - mae: 8274.0869\n",
            "Epoch 442/500\n",
            "34/34 [==============================] - 0s 2ms/step - loss: 8275.4619 - mae: 8275.4619\n",
            "Epoch 443/500\n",
            "34/34 [==============================] - 0s 2ms/step - loss: 8274.5273 - mae: 8274.5273\n",
            "Epoch 444/500\n",
            "34/34 [==============================] - 0s 2ms/step - loss: 8276.2783 - mae: 8276.2783\n",
            "Epoch 445/500\n",
            "34/34 [==============================] - 0s 3ms/step - loss: 8272.9688 - mae: 8272.9688\n",
            "Epoch 446/500\n",
            "34/34 [==============================] - 0s 3ms/step - loss: 8275.0498 - mae: 8275.0498\n",
            "Epoch 447/500\n",
            "34/34 [==============================] - 0s 3ms/step - loss: 8275.2920 - mae: 8275.2920\n",
            "Epoch 448/500\n",
            "34/34 [==============================] - 0s 3ms/step - loss: 8274.2227 - mae: 8274.2227\n",
            "Epoch 449/500\n",
            "34/34 [==============================] - 0s 2ms/step - loss: 8276.0498 - mae: 8276.0498\n",
            "Epoch 450/500\n",
            "34/34 [==============================] - 0s 2ms/step - loss: 8273.6875 - mae: 8273.6875\n",
            "Epoch 451/500\n",
            "34/34 [==============================] - 0s 3ms/step - loss: 8274.7432 - mae: 8274.7432\n",
            "Epoch 452/500\n",
            "34/34 [==============================] - 0s 3ms/step - loss: 8273.9014 - mae: 8273.9014\n",
            "Epoch 453/500\n",
            "34/34 [==============================] - 0s 3ms/step - loss: 8273.6846 - mae: 8273.6846\n",
            "Epoch 454/500\n",
            "34/34 [==============================] - 0s 2ms/step - loss: 8274.1230 - mae: 8274.1230\n",
            "Epoch 455/500\n",
            "34/34 [==============================] - 0s 3ms/step - loss: 8274.5068 - mae: 8274.5068\n",
            "Epoch 456/500\n",
            "34/34 [==============================] - 0s 3ms/step - loss: 8273.9717 - mae: 8273.9717\n",
            "Epoch 457/500\n",
            "34/34 [==============================] - 0s 3ms/step - loss: 8274.4609 - mae: 8274.4609\n",
            "Epoch 458/500\n",
            "34/34 [==============================] - 0s 3ms/step - loss: 8273.9766 - mae: 8273.9766\n",
            "Epoch 459/500\n",
            "34/34 [==============================] - 0s 3ms/step - loss: 8283.3154 - mae: 8283.3154\n",
            "Epoch 460/500\n",
            "34/34 [==============================] - 0s 4ms/step - loss: 8278.3809 - mae: 8278.3809\n",
            "Epoch 461/500\n",
            "34/34 [==============================] - 0s 4ms/step - loss: 8278.9092 - mae: 8278.9092\n",
            "Epoch 462/500\n",
            "34/34 [==============================] - 0s 5ms/step - loss: 8275.6494 - mae: 8275.6494\n",
            "Epoch 463/500\n",
            "34/34 [==============================] - 0s 4ms/step - loss: 8275.0137 - mae: 8275.0137\n",
            "Epoch 464/500\n",
            "34/34 [==============================] - 0s 4ms/step - loss: 8274.2764 - mae: 8274.2764\n",
            "Epoch 465/500\n",
            "34/34 [==============================] - 0s 4ms/step - loss: 8273.8330 - mae: 8273.8330\n",
            "Epoch 466/500\n",
            "34/34 [==============================] - 0s 5ms/step - loss: 8273.5195 - mae: 8273.5195\n",
            "Epoch 467/500\n",
            "34/34 [==============================] - 0s 4ms/step - loss: 8274.7969 - mae: 8274.7969\n",
            "Epoch 468/500\n",
            "34/34 [==============================] - 0s 4ms/step - loss: 8274.4424 - mae: 8274.4424\n",
            "Epoch 469/500\n",
            "34/34 [==============================] - 0s 4ms/step - loss: 8275.5781 - mae: 8275.5781\n",
            "Epoch 470/500\n",
            "34/34 [==============================] - 0s 5ms/step - loss: 8277.4277 - mae: 8277.4277\n",
            "Epoch 471/500\n",
            "34/34 [==============================] - 0s 5ms/step - loss: 8275.0547 - mae: 8275.0547\n",
            "Epoch 472/500\n",
            "34/34 [==============================] - 0s 5ms/step - loss: 8273.4941 - mae: 8273.4941\n",
            "Epoch 473/500\n",
            "34/34 [==============================] - 0s 4ms/step - loss: 8273.8682 - mae: 8273.8682\n",
            "Epoch 474/500\n",
            "34/34 [==============================] - 0s 5ms/step - loss: 8274.2520 - mae: 8274.2520\n",
            "Epoch 475/500\n",
            "34/34 [==============================] - 0s 6ms/step - loss: 8274.8428 - mae: 8274.8428\n",
            "Epoch 476/500\n",
            "34/34 [==============================] - 0s 6ms/step - loss: 8274.4375 - mae: 8274.4375\n",
            "Epoch 477/500\n",
            "34/34 [==============================] - 0s 4ms/step - loss: 8274.3359 - mae: 8274.3359\n",
            "Epoch 478/500\n",
            "34/34 [==============================] - 0s 4ms/step - loss: 8274.0215 - mae: 8274.0215\n",
            "Epoch 479/500\n",
            "34/34 [==============================] - 0s 4ms/step - loss: 8276.3037 - mae: 8276.3037\n",
            "Epoch 480/500\n",
            "34/34 [==============================] - 0s 3ms/step - loss: 8280.6943 - mae: 8280.6943\n",
            "Epoch 481/500\n",
            "34/34 [==============================] - 0s 3ms/step - loss: 8275.2441 - mae: 8275.2441\n",
            "Epoch 482/500\n",
            "34/34 [==============================] - 0s 2ms/step - loss: 8274.0938 - mae: 8274.0938\n",
            "Epoch 483/500\n",
            "34/34 [==============================] - 0s 3ms/step - loss: 8274.2266 - mae: 8274.2266\n",
            "Epoch 484/500\n",
            "34/34 [==============================] - 0s 2ms/step - loss: 8273.1152 - mae: 8273.1152\n",
            "Epoch 485/500\n",
            "34/34 [==============================] - 0s 3ms/step - loss: 8274.1963 - mae: 8274.1963\n",
            "Epoch 486/500\n",
            "34/34 [==============================] - 0s 3ms/step - loss: 8273.1318 - mae: 8273.1318\n",
            "Epoch 487/500\n",
            "34/34 [==============================] - 0s 2ms/step - loss: 8274.1367 - mae: 8274.1367\n",
            "Epoch 488/500\n",
            "34/34 [==============================] - 0s 3ms/step - loss: 8275.2109 - mae: 8275.2109\n",
            "Epoch 489/500\n",
            "34/34 [==============================] - 0s 3ms/step - loss: 8274.6367 - mae: 8274.6367\n",
            "Epoch 490/500\n",
            "34/34 [==============================] - 0s 2ms/step - loss: 8275.1836 - mae: 8275.1836\n",
            "Epoch 491/500\n",
            "34/34 [==============================] - 0s 3ms/step - loss: 8275.0957 - mae: 8275.0957\n",
            "Epoch 492/500\n",
            "34/34 [==============================] - 0s 3ms/step - loss: 8273.9766 - mae: 8273.9766\n",
            "Epoch 493/500\n",
            "34/34 [==============================] - 0s 3ms/step - loss: 8274.3652 - mae: 8274.3652\n",
            "Epoch 494/500\n",
            "34/34 [==============================] - 0s 3ms/step - loss: 8278.2734 - mae: 8278.2734\n",
            "Epoch 495/500\n",
            "34/34 [==============================] - 0s 2ms/step - loss: 8275.1748 - mae: 8275.1748\n",
            "Epoch 496/500\n",
            "34/34 [==============================] - 0s 3ms/step - loss: 8273.8096 - mae: 8273.8096\n",
            "Epoch 497/500\n",
            "34/34 [==============================] - 0s 3ms/step - loss: 8277.3066 - mae: 8277.3066\n",
            "Epoch 498/500\n",
            "34/34 [==============================] - 0s 3ms/step - loss: 8273.6846 - mae: 8273.6846\n",
            "Epoch 499/500\n",
            "34/34 [==============================] - 0s 3ms/step - loss: 8274.1182 - mae: 8274.1182\n",
            "Epoch 500/500\n",
            "34/34 [==============================] - 0s 3ms/step - loss: 8273.3496 - mae: 8273.3496\n"
          ]
        }
      ]
    },
    {
      "cell_type": "code",
      "source": [
        "insurance_model_3.evaluate(X_test,y_test)"
      ],
      "metadata": {
        "colab": {
          "base_uri": "https://localhost:8080/"
        },
        "id": "iXsmwGapbU5Y",
        "outputId": "b51244fd-d6aa-40fc-c928-85bd7ae7e191"
      },
      "execution_count": null,
      "outputs": [
        {
          "output_type": "stream",
          "name": "stdout",
          "text": [
            "9/9 [==============================] - 0s 2ms/step - loss: 8631.8887 - mae: 8631.8887\n"
          ]
        },
        {
          "output_type": "execute_result",
          "data": {
            "text/plain": [
              "[8631.888671875, 8631.888671875]"
            ]
          },
          "metadata": {},
          "execution_count": 97
        }
      ]
    },
    {
      "cell_type": "code",
      "source": [
        "X,y"
      ],
      "metadata": {
        "colab": {
          "base_uri": "https://localhost:8080/"
        },
        "id": "R-Y4nsWkxUOW",
        "outputId": "a97cf78b-7d00-4b82-b38e-c98deb8fecf2"
      },
      "execution_count": null,
      "outputs": [
        {
          "output_type": "execute_result",
          "data": {
            "text/plain": [
              "(      age     bmi  children  sex_female  sex_male  smoker_no  smoker_yes  \\\n",
              " 0      19  27.900         0           1         0          0           1   \n",
              " 1      18  33.770         1           0         1          1           0   \n",
              " 2      28  33.000         3           0         1          1           0   \n",
              " 3      33  22.705         0           0         1          1           0   \n",
              " 4      32  28.880         0           0         1          1           0   \n",
              " ...   ...     ...       ...         ...       ...        ...         ...   \n",
              " 1333   50  30.970         3           0         1          1           0   \n",
              " 1334   18  31.920         0           1         0          1           0   \n",
              " 1335   18  36.850         0           1         0          1           0   \n",
              " 1336   21  25.800         0           1         0          1           0   \n",
              " 1337   61  29.070         0           1         0          0           1   \n",
              " \n",
              "       region_northeast  region_northwest  region_southeast  region_southwest  \n",
              " 0                    0                 0                 0                 1  \n",
              " 1                    0                 0                 1                 0  \n",
              " 2                    0                 0                 1                 0  \n",
              " 3                    0                 1                 0                 0  \n",
              " 4                    0                 1                 0                 0  \n",
              " ...                ...               ...               ...               ...  \n",
              " 1333                 0                 1                 0                 0  \n",
              " 1334                 1                 0                 0                 0  \n",
              " 1335                 0                 0                 1                 0  \n",
              " 1336                 0                 0                 0                 1  \n",
              " 1337                 0                 1                 0                 0  \n",
              " \n",
              " [1338 rows x 11 columns], 0       16884.92400\n",
              " 1        1725.55230\n",
              " 2        4449.46200\n",
              " 3       21984.47061\n",
              " 4        3866.85520\n",
              "            ...     \n",
              " 1333    10600.54830\n",
              " 1334     2205.98080\n",
              " 1335     1629.83350\n",
              " 1336     2007.94500\n",
              " 1337    29141.36030\n",
              " Name: charges, Length: 1338, dtype: float64)"
            ]
          },
          "metadata": {},
          "execution_count": 93
        }
      ]
    },
    {
      "cell_type": "code",
      "source": [
        "X[\"bmi\"].plot(kind=\"hist\")"
      ],
      "metadata": {
        "colab": {
          "base_uri": "https://localhost:8080/",
          "height": 283
        },
        "id": "ZEUqHi2pxWHg",
        "outputId": "f7bc8dd1-f109-4c14-bf8b-b5f455b4fd04"
      },
      "execution_count": null,
      "outputs": [
        {
          "output_type": "execute_result",
          "data": {
            "text/plain": [
              "<matplotlib.axes._subplots.AxesSubplot at 0x7f0797dfe750>"
            ]
          },
          "metadata": {},
          "execution_count": 94
        },
        {
          "output_type": "display_data",
          "data": {
            "text/plain": [
              "<Figure size 432x288 with 1 Axes>"
            ],
            "image/png": "[encoded data removed]"
          },
          "metadata": {
            "needs_background": "light"
          }
        }
      ]
    },
    {
      "cell_type": "code",
      "source": [
        "X[\"age\"].plot(kind=\"hist\")"
      ],
      "metadata": {
        "colab": {
          "base_uri": "https://localhost:8080/",
          "height": 283
        },
        "id": "wULIMLc4x0GR",
        "outputId": "1b9ab250-4d44-4c75-d9d3-68b52d0a519d"
      },
      "execution_count": null,
      "outputs": [
        {
          "output_type": "execute_result",
          "data": {
            "text/plain": [
              "<matplotlib.axes._subplots.AxesSubplot at 0x7f079cba0dd0>"
            ]
          },
          "metadata": {},
          "execution_count": 98
        },
        {
          "output_type": "display_data",
          "data": {
            "text/plain": [
              "<Figure size 432x288 with 1 Axes>"
            ],
            "image/png": "[encoded data removed]"
          },
          "metadata": {
            "needs_background": "light"
          }
        }
      ]
    },
    {
      "cell_type": "code",
      "source": [
        "X[\"children\"].value_counts()"
      ],
      "metadata": {
        "colab": {
          "base_uri": "https://localhost:8080/"
        },
        "id": "k3ajE9Isyg7a",
        "outputId": "7831135e-9aa3-4948-d28a-30329a807689"
      },
      "execution_count": null,
      "outputs": [
        {
          "output_type": "execute_result",
          "data": {
            "text/plain": [
              "0    574\n",
              "1    324\n",
              "2    240\n",
              "3    157\n",
              "4     25\n",
              "5     18\n",
              "Name: children, dtype: int64"
            ]
          },
          "metadata": {},
          "execution_count": 100
        }
      ]
    },
    {
      "cell_type": "code",
      "source": [
        "print(tf.__version__)"
      ],
      "metadata": {
        "colab": {
          "base_uri": "https://localhost:8080/"
        },
        "id": "78_32WIHyta2",
        "outputId": "79bf40ff-833a-42b0-fd3d-08d3fa9ebec9"
      },
      "execution_count": null,
      "outputs": [
        {
          "output_type": "stream",
          "name": "stdout",
          "text": [
            "2.8.2\n"
          ]
        }
      ]
    },
    {
      "cell_type": "code",
      "source": [
        "import tensorflow as tf\n",
        "import pandas as pd\n",
        "import matplotlib.pyplot as plt\n",
        "#Read in the insurance dataframe\n",
        "insurance=pd.read_csv(\"https://raw.githubusercontent.com/stedy/Machine-Learning-with-R-datasets/master/insurance.csv\")\n",
        "insurance"
      ],
      "metadata": {
        "colab": {
          "base_uri": "https://localhost:8080/",
          "height": 424
        },
        "id": "9k5ibG_DzXmJ",
        "outputId": "a7de1931-0dce-4527-ba6d-eea8efe9ae32"
      },
      "execution_count": null,
      "outputs": [
        {
          "output_type": "execute_result",
          "data": {
            "text/plain": [
              "      age     sex     bmi  children smoker     region      charges\n",
              "0      19  female  27.900         0    yes  southwest  16884.92400\n",
              "1      18    male  33.770         1     no  southeast   1725.55230\n",
              "2      28    male  33.000         3     no  southeast   4449.46200\n",
              "3      33    male  22.705         0     no  northwest  21984.47061\n",
              "4      32    male  28.880         0     no  northwest   3866.85520\n",
              "...   ...     ...     ...       ...    ...        ...          ...\n",
              "1333   50    male  30.970         3     no  northwest  10600.54830\n",
              "1334   18  female  31.920         0     no  northeast   2205.98080\n",
              "1335   18  female  36.850         0     no  southeast   1629.83350\n",
              "1336   21  female  25.800         0     no  southwest   2007.94500\n",
              "1337   61  female  29.070         0    yes  northwest  29141.36030\n",
              "\n",
              "[1338 rows x 7 columns]"
            ],
            "text/html": [
              "\n",
              "  <div id=\"df-32bb27fe-86d5-4989-9561-0fddabaff88b\">\n",
              "    <div class=\"colab-df-container\">\n",
              "      <div>\n",
              "<style scoped>\n",
              "    .dataframe tbody tr th:only-of-type {\n",
              "        vertical-align: middle;\n",
              "    }\n",
              "\n",
              "    .dataframe tbody tr th {\n",
              "        vertical-align: top;\n",
              "    }\n",
              "\n",
              "    .dataframe thead th {\n",
              "        text-align: right;\n",
              "    }\n",
              "</style>\n",
              "<table border=\"1\" class=\"dataframe\">\n",
              "  <thead>\n",
              "    <tr style=\"text-align: right;\">\n",
              "      <th></th>\n",
              "      <th>age</th>\n",
              "      <th>sex</th>\n",
              "      <th>bmi</th>\n",
              "      <th>children</th>\n",
              "      <th>smoker</th>\n",
              "      <th>region</th>\n",
              "      <th>charges</th>\n",
              "    </tr>\n",
              "  </thead>\n",
              "  <tbody>\n",
              "    <tr>\n",
              "      <th>0</th>\n",
              "      <td>19</td>\n",
              "      <td>female</td>\n",
              "      <td>27.900</td>\n",
              "      <td>0</td>\n",
              "      <td>yes</td>\n",
              "      <td>southwest</td>\n",
              "      <td>16884.92400</td>\n",
              "    </tr>\n",
              "    <tr>\n",
              "      <th>1</th>\n",
              "      <td>18</td>\n",
              "      <td>male</td>\n",
              "      <td>33.770</td>\n",
              "      <td>1</td>\n",
              "      <td>no</td>\n",
              "      <td>southeast</td>\n",
              "      <td>1725.55230</td>\n",
              "    </tr>\n",
              "    <tr>\n",
              "      <th>2</th>\n",
              "      <td>28</td>\n",
              "      <td>male</td>\n",
              "      <td>33.000</td>\n",
              "      <td>3</td>\n",
              "      <td>no</td>\n",
              "      <td>southeast</td>\n",
              "      <td>4449.46200</td>\n",
              "    </tr>\n",
              "    <tr>\n",
              "      <th>3</th>\n",
              "      <td>33</td>\n",
              "      <td>male</td>\n",
              "      <td>22.705</td>\n",
              "      <td>0</td>\n",
              "      <td>no</td>\n",
              "      <td>northwest</td>\n",
              "      <td>21984.47061</td>\n",
              "    </tr>\n",
              "    <tr>\n",
              "      <th>4</th>\n",
              "      <td>32</td>\n",
              "      <td>male</td>\n",
              "      <td>28.880</td>\n",
              "      <td>0</td>\n",
              "      <td>no</td>\n",
              "      <td>northwest</td>\n",
              "      <td>3866.85520</td>\n",
              "    </tr>\n",
              "    <tr>\n",
              "      <th>...</th>\n",
              "      <td>...</td>\n",
              "      <td>...</td>\n",
              "      <td>...</td>\n",
              "      <td>...</td>\n",
              "      <td>...</td>\n",
              "      <td>...</td>\n",
              "      <td>...</td>\n",
              "    </tr>\n",
              "    <tr>\n",
              "      <th>1333</th>\n",
              "      <td>50</td>\n",
              "      <td>male</td>\n",
              "      <td>30.970</td>\n",
              "      <td>3</td>\n",
              "      <td>no</td>\n",
              "      <td>northwest</td>\n",
              "      <td>10600.54830</td>\n",
              "    </tr>\n",
              "    <tr>\n",
              "      <th>1334</th>\n",
              "      <td>18</td>\n",
              "      <td>female</td>\n",
              "      <td>31.920</td>\n",
              "      <td>0</td>\n",
              "      <td>no</td>\n",
              "      <td>northeast</td>\n",
              "      <td>2205.98080</td>\n",
              "    </tr>\n",
              "    <tr>\n",
              "      <th>1335</th>\n",
              "      <td>18</td>\n",
              "      <td>female</td>\n",
              "      <td>36.850</td>\n",
              "      <td>0</td>\n",
              "      <td>no</td>\n",
              "      <td>southeast</td>\n",
              "      <td>1629.83350</td>\n",
              "    </tr>\n",
              "    <tr>\n",
              "      <th>1336</th>\n",
              "      <td>21</td>\n",
              "      <td>female</td>\n",
              "      <td>25.800</td>\n",
              "      <td>0</td>\n",
              "      <td>no</td>\n",
              "      <td>southwest</td>\n",
              "      <td>2007.94500</td>\n",
              "    </tr>\n",
              "    <tr>\n",
              "      <th>1337</th>\n",
              "      <td>61</td>\n",
              "      <td>female</td>\n",
              "      <td>29.070</td>\n",
              "      <td>0</td>\n",
              "      <td>yes</td>\n",
              "      <td>northwest</td>\n",
              "      <td>29141.36030</td>\n",
              "    </tr>\n",
              "  </tbody>\n",
              "</table>\n",
              "<p>1338 rows × 7 columns</p>\n",
              "</div>\n",
              "      <button class=\"colab-df-convert\" onclick=\"convertToInteractive('df-32bb27fe-86d5-4989-9561-0fddabaff88b')\"\n",
              "              title=\"Convert this dataframe to an interactive table.\"\n",
              "              style=\"display:none;\">\n",
              "        \n",
              "  <svg xmlns=\"http://www.w3.org/2000/svg\" height=\"24px\"viewBox=\"0 0 24 24\"\n",
              "       width=\"24px\">\n",
              "    <path d=\"M0 0h24v24H0V0z\" fill=\"none\"/>\n",
              "    <path d=\"M18.56 5.44l.94 2.06.94-2.06 2.06-.94-2.06-.94-.94-2.06-.94 2.06-2.06.94zm-11 1L8.5 8.5l.94-2.06 2.06-.94-2.06-.94L8.5 2.5l-.94 2.06-2.06.94zm10 10l.94 2.06.94-2.06 2.06-.94-2.06-.94-.94-2.06-.94 2.06-2.06.94z\"/><path d=\"M17.41 7.96l-1.37-1.37c-.4-.4-.92-.59-1.43-.59-.52 0-1.04.2-1.43.59L10.3 9.45l-7.72 7.72c-.78.78-.78 2.05 0 2.83L4 21.41c.39.39.9.59 1.41.59.51 0 1.02-.2 1.41-.59l7.78-7.78 2.81-2.81c.8-.78.8-2.07 0-2.86zM5.41 20L4 18.59l7.72-7.72 1.47 1.35L5.41 20z\"/>\n",
              "  </svg>\n",
              "      </button>\n",
              "      \n",
              "  <style>\n",
              "    .colab-df-container {\n",
              "      display:flex;\n",
              "      flex-wrap:wrap;\n",
              "      gap: 12px;\n",
              "    }\n",
              "\n",
              "    .colab-df-convert {\n",
              "      background-color: #E8F0FE;\n",
              "      border: none;\n",
              "      border-radius: 50%;\n",
              "      cursor: pointer;\n",
              "      display: none;\n",
              "      fill: #1967D2;\n",
              "      height: 32px;\n",
              "      padding: 0 0 0 0;\n",
              "      width: 32px;\n",
              "    }\n",
              "\n",
              "    .colab-df-convert:hover {\n",
              "      background-color: #E2EBFA;\n",
              "      box-shadow: 0px 1px 2px rgba(60, 64, 67, 0.3), 0px 1px 3px 1px rgba(60, 64, 67, 0.15);\n",
              "      fill: #174EA6;\n",
              "    }\n",
              "\n",
              "    [theme=dark] .colab-df-convert {\n",
              "      background-color: #3B4455;\n",
              "      fill: #D2E3FC;\n",
              "    }\n",
              "\n",
              "    [theme=dark] .colab-df-convert:hover {\n",
              "      background-color: #434B5C;\n",
              "      box-shadow: 0px 1px 3px 1px rgba(0, 0, 0, 0.15);\n",
              "      filter: drop-shadow(0px 1px 2px rgba(0, 0, 0, 0.3));\n",
              "      fill: #FFFFFF;\n",
              "    }\n",
              "  </style>\n",
              "\n",
              "      <script>\n",
              "        const buttonEl =\n",
              "          document.querySelector('#df-32bb27fe-86d5-4989-9561-0fddabaff88b button.colab-df-convert');\n",
              "        buttonEl.style.display =\n",
              "          google.colab.kernel.accessAllowed ? 'block' : 'none';\n",
              "\n",
              "        async function convertToInteractive(key) {\n",
              "          const element = document.querySelector('#df-32bb27fe-86d5-4989-9561-0fddabaff88b');\n",
              "          const dataTable =\n",
              "            await google.colab.kernel.invokeFunction('convertToInteractive',\n",
              "                                                     [key], {});\n",
              "          if (!dataTable) return;\n",
              "\n",
              "          const docLinkHtml = 'Like what you see? Visit the ' +\n",
              "            '<a target=\"_blank\" href=https://colab.research.google.com/notebooks/data_table.ipynb>data table notebook</a>'\n",
              "            + ' to learn more about interactive tables.';\n",
              "          element.innerHTML = '';\n",
              "          dataTable['output_type'] = 'display_data';\n",
              "          await google.colab.output.renderOutput(dataTable, element);\n",
              "          const docLink = document.createElement('div');\n",
              "          docLink.innerHTML = docLinkHtml;\n",
              "          element.appendChild(docLink);\n",
              "        }\n",
              "      </script>\n",
              "    </div>\n",
              "  </div>\n",
              "  "
            ]
          },
          "metadata": {},
          "execution_count": 102
        }
      ]
    },
    {
      "cell_type": "code",
      "source": [
        "from sklearn.compose import make_column_transformer\n",
        "from sklearn.preprocessing import MinMaxScaler, OneHotEncoder\n",
        "from sklearn.model_selection import train_test_split\n",
        "# Create column transformer (this will help us normalize/preprocess our data)\n",
        "ct = make_column_transformer(\n",
        "    (MinMaxScaler(), [\"age\", \"bmi\", \"children\"]), # get all values between 0 and 1\n",
        "    (OneHotEncoder(handle_unknown=\"ignore\"), [\"sex\", \"smoker\", \"region\"])\n",
        ")\n",
        "\n",
        "# Create X & y\n",
        "X = insurance.drop(\"charges\", axis=1)\n",
        "y = insurance[\"charges\"]\n",
        "\n",
        "# Build our train and test sets (use random state to ensure same split as before)\n",
        "X_train, X_test, y_train, y_test = train_test_split(X, y, test_size=0.2, random_state=42)\n",
        "\n",
        "# Fit column transformer on the training data only (doing so on test data would result in data leakage)\n",
        "ct.fit(X_train)\n",
        "\n",
        "# Transform training and test data with normalization (MinMaxScalar) and one hot encoding (OneHotEncoder)\n",
        "X_train_normal = ct.transform(X_train)\n",
        "X_test_normal = ct.transform(X_test)"
      ],
      "metadata": {
        "id": "7lVPoYbbC_ix"
      },
      "execution_count": null,
      "outputs": []
    },
    {
      "cell_type": "code",
      "source": [
        "X_train_normal\n"
      ],
      "metadata": {
        "colab": {
          "base_uri": "https://localhost:8080/"
        },
        "id": "Bh1WJHSjIKC1",
        "outputId": "825767bd-08eb-4ed0-b28c-cebf87abec9f"
      },
      "execution_count": null,
      "outputs": [
        {
          "output_type": "execute_result",
          "data": {
            "text/plain": [
              "array([[0.60869565, 0.10734463, 0.4       , ..., 1.        , 0.        ,\n",
              "        0.        ],\n",
              "       [0.63043478, 0.22491256, 0.        , ..., 0.        , 0.        ,\n",
              "        0.        ],\n",
              "       [0.73913043, 0.23944041, 0.        , ..., 0.        , 1.        ,\n",
              "        0.        ],\n",
              "       ...,\n",
              "       [0.86956522, 0.24791499, 0.        , ..., 0.        , 0.        ,\n",
              "        0.        ],\n",
              "       [0.41304348, 0.85122411, 0.4       , ..., 0.        , 0.        ,\n",
              "        1.        ],\n",
              "       [0.80434783, 0.37503363, 0.        , ..., 0.        , 0.        ,\n",
              "        1.        ]])"
            ]
          },
          "metadata": {},
          "execution_count": 107
        }
      ]
    },
    {
      "cell_type": "markdown",
      "source": [
        "#Make the model for our normalized data set\n"
      ],
      "metadata": {
        "id": "fFA6lcluIQqB"
      }
    },
    {
      "cell_type": "code",
      "source": [
        "#Build the model\n",
        "tf.random.set_seed(42)\n",
        "insurance_model_1=tf.keras.Sequential([\n",
        "    tf.keras.layers.Dense(100),\n",
        "    tf.keras.layers.Dense(10),\n",
        "    tf.keras.layers.Dense(1)\n",
        "])\n",
        "insurance_model_1.compile(loss=tf.keras.losses.mae,\n",
        "                          optimizer=tf.keras.optimizers.Adam(lr=0.01),\n",
        "                          metrics=[\"mae\"])\n",
        "insurance_model_1.fit(X_train_normal,y_train,epochs=100,verbose=1)"
      ],
      "metadata": {
        "colab": {
          "base_uri": "https://localhost:8080/"
        },
        "id": "vNc3MOG3Izep",
        "outputId": "eb16d9ee-0071-4d30-9080-cd56fe560f58"
      },
      "execution_count": null,
      "outputs": [
        {
          "output_type": "stream",
          "name": "stdout",
          "text": [
            "Epoch 1/100\n",
            "34/34 [==============================] - 0s 2ms/step - loss: 13217.9932 - mae: 13217.9932\n",
            "Epoch 2/100\n",
            "34/34 [==============================] - 0s 2ms/step - loss: 11378.8047 - mae: 11378.8047\n",
            "Epoch 3/100\n",
            "34/34 [==============================] - 0s 2ms/step - loss: 8112.9478 - mae: 8112.9478\n",
            "Epoch 4/100\n",
            "34/34 [==============================] - 0s 2ms/step - loss: 7588.9121 - mae: 7588.9121\n",
            "Epoch 5/100\n",
            "34/34 [==============================] - 0s 2ms/step - loss: 7103.4785 - mae: 7103.4785\n",
            "Epoch 6/100\n",
            "34/34 [==============================] - 0s 2ms/step - loss: 6513.8735 - mae: 6513.8735\n",
            "Epoch 7/100\n",
            "34/34 [==============================] - 0s 2ms/step - loss: 5593.9990 - mae: 5593.9990\n",
            "Epoch 8/100\n",
            "34/34 [==============================] - 0s 2ms/step - loss: 4434.3398 - mae: 4434.3398\n",
            "Epoch 9/100\n",
            "34/34 [==============================] - 0s 2ms/step - loss: 3745.8257 - mae: 3745.8257\n",
            "Epoch 10/100\n",
            "34/34 [==============================] - 0s 2ms/step - loss: 3679.4285 - mae: 3679.4285\n",
            "Epoch 11/100\n",
            "34/34 [==============================] - 0s 2ms/step - loss: 3672.3513 - mae: 3672.3513\n",
            "Epoch 12/100\n",
            "34/34 [==============================] - 0s 2ms/step - loss: 3630.9297 - mae: 3630.9297\n",
            "Epoch 13/100\n",
            "34/34 [==============================] - 0s 2ms/step - loss: 3611.7478 - mae: 3611.7478\n",
            "Epoch 14/100\n",
            "34/34 [==============================] - 0s 2ms/step - loss: 3614.5510 - mae: 3614.5510\n",
            "Epoch 15/100\n",
            "34/34 [==============================] - 0s 2ms/step - loss: 3586.2798 - mae: 3586.2798\n",
            "Epoch 16/100\n",
            "34/34 [==============================] - 0s 2ms/step - loss: 3576.0647 - mae: 3576.0647\n",
            "Epoch 17/100\n",
            "34/34 [==============================] - 0s 2ms/step - loss: 3580.6523 - mae: 3580.6523\n",
            "Epoch 18/100\n",
            "34/34 [==============================] - 0s 2ms/step - loss: 3540.6462 - mae: 3540.6462\n",
            "Epoch 19/100\n",
            "34/34 [==============================] - 0s 2ms/step - loss: 3550.5842 - mae: 3550.5842\n",
            "Epoch 20/100\n",
            "34/34 [==============================] - 0s 2ms/step - loss: 3521.7141 - mae: 3521.7141\n",
            "Epoch 21/100\n",
            "34/34 [==============================] - 0s 3ms/step - loss: 3503.1982 - mae: 3503.1982\n",
            "Epoch 22/100\n",
            "34/34 [==============================] - 0s 2ms/step - loss: 3493.2437 - mae: 3493.2437\n",
            "Epoch 23/100\n",
            "34/34 [==============================] - 0s 2ms/step - loss: 3498.4919 - mae: 3498.4919\n",
            "Epoch 24/100\n",
            "34/34 [==============================] - 0s 2ms/step - loss: 3497.5205 - mae: 3497.5205\n",
            "Epoch 25/100\n",
            "34/34 [==============================] - 0s 2ms/step - loss: 3537.3179 - mae: 3537.3179\n",
            "Epoch 26/100\n",
            "34/34 [==============================] - 0s 2ms/step - loss: 3490.5371 - mae: 3490.5371\n",
            "Epoch 27/100\n",
            "34/34 [==============================] - 0s 2ms/step - loss: 3490.0154 - mae: 3490.0154\n",
            "Epoch 28/100\n",
            "34/34 [==============================] - 0s 2ms/step - loss: 3501.7144 - mae: 3501.7144\n",
            "Epoch 29/100\n",
            "34/34 [==============================] - 0s 2ms/step - loss: 3504.0991 - mae: 3504.0991\n",
            "Epoch 30/100\n",
            "34/34 [==============================] - 0s 2ms/step - loss: 3502.2700 - mae: 3502.2700\n",
            "Epoch 31/100\n",
            "34/34 [==============================] - 0s 2ms/step - loss: 3505.3499 - mae: 3505.3499\n",
            "Epoch 32/100\n",
            "34/34 [==============================] - 0s 2ms/step - loss: 3512.1343 - mae: 3512.1343\n",
            "Epoch 33/100\n",
            "34/34 [==============================] - 0s 2ms/step - loss: 3501.6938 - mae: 3501.6938\n",
            "Epoch 34/100\n",
            "34/34 [==============================] - 0s 2ms/step - loss: 3489.6018 - mae: 3489.6018\n",
            "Epoch 35/100\n",
            "34/34 [==============================] - 0s 2ms/step - loss: 3493.7229 - mae: 3493.7229\n",
            "Epoch 36/100\n",
            "34/34 [==============================] - 0s 2ms/step - loss: 3498.5981 - mae: 3498.5981\n",
            "Epoch 37/100\n",
            "34/34 [==============================] - 0s 2ms/step - loss: 3495.2573 - mae: 3495.2573\n",
            "Epoch 38/100\n",
            "34/34 [==============================] - 0s 2ms/step - loss: 3504.3992 - mae: 3504.3992\n",
            "Epoch 39/100\n",
            "34/34 [==============================] - 0s 2ms/step - loss: 3490.6970 - mae: 3490.6970\n",
            "Epoch 40/100\n",
            "34/34 [==============================] - 0s 2ms/step - loss: 3527.0017 - mae: 3527.0017\n",
            "Epoch 41/100\n",
            "34/34 [==============================] - 0s 2ms/step - loss: 3506.1567 - mae: 3506.1567\n",
            "Epoch 42/100\n",
            "34/34 [==============================] - 0s 2ms/step - loss: 3498.8535 - mae: 3498.8535\n",
            "Epoch 43/100\n",
            "34/34 [==============================] - 0s 2ms/step - loss: 3493.8933 - mae: 3493.8933\n",
            "Epoch 44/100\n",
            "34/34 [==============================] - 0s 2ms/step - loss: 3487.6101 - mae: 3487.6101\n",
            "Epoch 45/100\n",
            "34/34 [==============================] - 0s 2ms/step - loss: 3481.6382 - mae: 3481.6382\n",
            "Epoch 46/100\n",
            "34/34 [==============================] - 0s 2ms/step - loss: 3493.5740 - mae: 3493.5740\n",
            "Epoch 47/100\n",
            "34/34 [==============================] - 0s 2ms/step - loss: 3492.7283 - mae: 3492.7283\n",
            "Epoch 48/100\n",
            "34/34 [==============================] - 0s 2ms/step - loss: 3486.7761 - mae: 3486.7761\n",
            "Epoch 49/100\n",
            "34/34 [==============================] - 0s 2ms/step - loss: 3506.4573 - mae: 3506.4573\n",
            "Epoch 50/100\n",
            "34/34 [==============================] - 0s 2ms/step - loss: 3507.3857 - mae: 3507.3857\n",
            "Epoch 51/100\n",
            "34/34 [==============================] - 0s 2ms/step - loss: 3483.9292 - mae: 3483.9292\n",
            "Epoch 52/100\n",
            "34/34 [==============================] - 0s 2ms/step - loss: 3487.0686 - mae: 3487.0686\n",
            "Epoch 53/100\n",
            "34/34 [==============================] - 0s 2ms/step - loss: 3488.9575 - mae: 3488.9575\n",
            "Epoch 54/100\n",
            "34/34 [==============================] - 0s 2ms/step - loss: 3508.0967 - mae: 3508.0967\n",
            "Epoch 55/100\n",
            "34/34 [==============================] - 0s 2ms/step - loss: 3518.2043 - mae: 3518.2043\n",
            "Epoch 56/100\n",
            "34/34 [==============================] - 0s 2ms/step - loss: 3489.7539 - mae: 3489.7539\n",
            "Epoch 57/100\n",
            "34/34 [==============================] - 0s 2ms/step - loss: 3493.5212 - mae: 3493.5212\n",
            "Epoch 58/100\n",
            "34/34 [==============================] - 0s 2ms/step - loss: 3485.7085 - mae: 3485.7085\n",
            "Epoch 59/100\n",
            "34/34 [==============================] - 0s 2ms/step - loss: 3492.0994 - mae: 3492.0994\n",
            "Epoch 60/100\n",
            "34/34 [==============================] - 0s 2ms/step - loss: 3497.0183 - mae: 3497.0183\n",
            "Epoch 61/100\n",
            "34/34 [==============================] - 0s 2ms/step - loss: 3505.0596 - mae: 3505.0596\n",
            "Epoch 62/100\n",
            "34/34 [==============================] - 0s 2ms/step - loss: 3495.8901 - mae: 3495.8901\n",
            "Epoch 63/100\n",
            "34/34 [==============================] - 0s 2ms/step - loss: 3487.5142 - mae: 3487.5142\n",
            "Epoch 64/100\n",
            "34/34 [==============================] - 0s 2ms/step - loss: 3491.8831 - mae: 3491.8831\n",
            "Epoch 65/100\n",
            "34/34 [==============================] - 0s 2ms/step - loss: 3482.8384 - mae: 3482.8384\n",
            "Epoch 66/100\n",
            "34/34 [==============================] - 0s 2ms/step - loss: 3500.3745 - mae: 3500.3745\n",
            "Epoch 67/100\n",
            "34/34 [==============================] - 0s 2ms/step - loss: 3490.9329 - mae: 3490.9329\n",
            "Epoch 68/100\n",
            "34/34 [==============================] - 0s 2ms/step - loss: 3489.6877 - mae: 3489.6877\n",
            "Epoch 69/100\n",
            "34/34 [==============================] - 0s 2ms/step - loss: 3484.9893 - mae: 3484.9893\n",
            "Epoch 70/100\n",
            "34/34 [==============================] - 0s 2ms/step - loss: 3491.7822 - mae: 3491.7822\n",
            "Epoch 71/100\n",
            "34/34 [==============================] - 0s 2ms/step - loss: 3488.0535 - mae: 3488.0535\n",
            "Epoch 72/100\n",
            "34/34 [==============================] - 0s 2ms/step - loss: 3487.3442 - mae: 3487.3442\n",
            "Epoch 73/100\n",
            "34/34 [==============================] - 0s 2ms/step - loss: 3507.2432 - mae: 3507.2432\n",
            "Epoch 74/100\n",
            "34/34 [==============================] - 0s 2ms/step - loss: 3506.1013 - mae: 3506.1013\n",
            "Epoch 75/100\n",
            "34/34 [==============================] - 0s 2ms/step - loss: 3483.0413 - mae: 3483.0413\n",
            "Epoch 76/100\n",
            "34/34 [==============================] - 0s 2ms/step - loss: 3493.0015 - mae: 3493.0015\n",
            "Epoch 77/100\n",
            "34/34 [==============================] - 0s 2ms/step - loss: 3483.5486 - mae: 3483.5486\n",
            "Epoch 78/100\n",
            "34/34 [==============================] - 0s 2ms/step - loss: 3492.7546 - mae: 3492.7546\n",
            "Epoch 79/100\n",
            "34/34 [==============================] - 0s 2ms/step - loss: 3496.9158 - mae: 3496.9158\n",
            "Epoch 80/100\n",
            "34/34 [==============================] - 0s 2ms/step - loss: 3502.6731 - mae: 3502.6731\n",
            "Epoch 81/100\n",
            "34/34 [==============================] - 0s 2ms/step - loss: 3497.1382 - mae: 3497.1382\n",
            "Epoch 82/100\n",
            "34/34 [==============================] - 0s 2ms/step - loss: 3490.7546 - mae: 3490.7546\n",
            "Epoch 83/100\n",
            "34/34 [==============================] - 0s 2ms/step - loss: 3494.0417 - mae: 3494.0417\n",
            "Epoch 84/100\n",
            "34/34 [==============================] - 0s 2ms/step - loss: 3498.2766 - mae: 3498.2766\n",
            "Epoch 85/100\n",
            "34/34 [==============================] - 0s 2ms/step - loss: 3484.4075 - mae: 3484.4075\n",
            "Epoch 86/100\n",
            "34/34 [==============================] - 0s 2ms/step - loss: 3485.0288 - mae: 3485.0288\n",
            "Epoch 87/100\n",
            "34/34 [==============================] - 0s 2ms/step - loss: 3487.6387 - mae: 3487.6387\n",
            "Epoch 88/100\n",
            "34/34 [==============================] - 0s 2ms/step - loss: 3486.0024 - mae: 3486.0024\n",
            "Epoch 89/100\n",
            "34/34 [==============================] - 0s 2ms/step - loss: 3497.5842 - mae: 3497.5842\n",
            "Epoch 90/100\n",
            "34/34 [==============================] - 0s 2ms/step - loss: 3492.7410 - mae: 3492.7410\n",
            "Epoch 91/100\n",
            "34/34 [==============================] - 0s 2ms/step - loss: 3487.6213 - mae: 3487.6213\n",
            "Epoch 92/100\n",
            "34/34 [==============================] - 0s 2ms/step - loss: 3496.1606 - mae: 3496.1606\n",
            "Epoch 93/100\n",
            "34/34 [==============================] - 0s 2ms/step - loss: 3495.4802 - mae: 3495.4802\n",
            "Epoch 94/100\n",
            "34/34 [==============================] - 0s 2ms/step - loss: 3485.4075 - mae: 3485.4075\n",
            "Epoch 95/100\n",
            "34/34 [==============================] - 0s 2ms/step - loss: 3490.6738 - mae: 3490.6738\n",
            "Epoch 96/100\n",
            "34/34 [==============================] - 0s 2ms/step - loss: 3492.5540 - mae: 3492.5540\n",
            "Epoch 97/100\n",
            "34/34 [==============================] - 0s 2ms/step - loss: 3508.5005 - mae: 3508.5005\n",
            "Epoch 98/100\n",
            "34/34 [==============================] - 0s 2ms/step - loss: 3482.5137 - mae: 3482.5137\n",
            "Epoch 99/100\n",
            "34/34 [==============================] - 0s 2ms/step - loss: 3516.8074 - mae: 3516.8074\n",
            "Epoch 100/100\n",
            "34/34 [==============================] - 0s 2ms/step - loss: 3505.2725 - mae: 3505.2725\n"
          ]
        },
        {
          "output_type": "execute_result",
          "data": {
            "text/plain": [
              "<keras.callbacks.History at 0x7f079b949fd0>"
            ]
          },
          "metadata": {},
          "execution_count": 114
        }
      ]
    },
    {
      "cell_type": "code",
      "source": [
        "insurance_model_1.evaluate(X_test_normal,y_test)"
      ],
      "metadata": {
        "colab": {
          "base_uri": "https://localhost:8080/"
        },
        "id": "tHvkuxjbJ0z4",
        "outputId": "697a6816-b2d3-4031-b7b3-eacc701586f6"
      },
      "execution_count": null,
      "outputs": [
        {
          "output_type": "stream",
          "name": "stdout",
          "text": [
            "9/9 [==============================] - 0s 4ms/step - loss: 3176.3691 - mae: 3176.3691\n"
          ]
        },
        {
          "output_type": "execute_result",
          "data": {
            "text/plain": [
              "[3176.369140625, 3176.369140625]"
            ]
          },
          "metadata": {},
          "execution_count": 112
        }
      ]
    },
    {
      "cell_type": "code",
      "source": [],
      "metadata": {
        "id": "5VayBOHvKEKL"
      },
      "execution_count": null,
      "outputs": []
    }
  ]
}